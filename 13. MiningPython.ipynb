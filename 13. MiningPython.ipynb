{
 "cells": [
  {
   "cell_type": "markdown",
   "metadata": {},
   "source": [
    "### Data Mining Using Python"
   ]
  },
  {
   "cell_type": "code",
   "execution_count": 10,
   "metadata": {
    "scrolled": true
   },
   "outputs": [],
   "source": [
    "import csv"
   ]
  },
  {
   "cell_type": "code",
   "execution_count": 11,
   "metadata": {},
   "outputs": [],
   "source": [
    "# For compatibility across multiple platforms\n",
    "import os\n",
    "IB = os.environ.get('INSTABASE_URI',None) is not None\n",
    "open = ib.open if IB else open"
   ]
  },
  {
   "cell_type": "code",
   "execution_count": 12,
   "metadata": {
    "scrolled": true
   },
   "outputs": [
    {
     "name": "stdout",
     "output_type": "stream",
     "text": [
      "5\n",
      "{'juice': ['1', '2', '5'], 'eggs': ['1', '3', '4'], 'chips': ['3', '5'], 'milk': ['1', '2', '4', '5'], 'cookies': ['2', '5']}\n"
     ]
    }
   ],
   "source": [
    "# Read shopping dataset from CSV file\n",
    "# Create dictionary \"Sitems\" with key = item and value = list of transactions\n",
    "# Also set variable Snumtrans = number of transactions\n",
    "Sitems = {}\n",
    "trans = []  # list of transactions used to set Snumtrans\n",
    "with open('Shop.csv','rU') as f:\n",
    "    rows = csv.DictReader(f)\n",
    "    for r in rows:\n",
    "        if r['item'] not in Sitems:\n",
    "            Sitems[r['item']] = [r['TID']]\n",
    "        else:\n",
    "            Sitems[r['item']].append(r['TID'])\n",
    "        if r['TID'] not in trans:\n",
    "            trans.append(r['TID'])\n",
    "Snumtrans = len(trans)\n",
    "print Snumtrans\n",
    "print Sitems"
   ]
  },
  {
   "cell_type": "code",
   "execution_count": 13,
   "metadata": {
    "scrolled": true
   },
   "outputs": [
    {
     "name": "stdout",
     "output_type": "stream",
     "text": [
      "1382\n"
     ]
    }
   ],
   "source": [
    "# Read movies dataset from CSV file\n",
    "# Create dictionary \"Mitems\" with key = item and value = list of transactions\n",
    "# Also set variable Mnumtrans = number of transactions\n",
    "Mitems = {}\n",
    "trans = []  # list of transactions used to set Mnumtrans\n",
    "with open('Movies.csv','rU') as f:\n",
    "    rows = csv.DictReader(f)\n",
    "    for r in rows:\n",
    "        if r['item'] not in Mitems:\n",
    "            Mitems[r['item']] = [r['TID']]\n",
    "        else:\n",
    "            Mitems[r['item']].append(r['TID'])\n",
    "        if r['TID'] not in trans:\n",
    "            trans.append(r['TID'])\n",
    "Mnumtrans = len(trans)\n",
    "print Mnumtrans\n",
    "# print Mitems"
   ]
  },
  {
   "cell_type": "markdown",
   "metadata": {},
   "source": [
    "## Shopping dataset - frequent item-sets"
   ]
  },
  {
   "cell_type": "markdown",
   "metadata": {},
   "source": [
    "#### First some Python features to be used"
   ]
  },
  {
   "cell_type": "code",
   "execution_count": 14,
   "metadata": {
    "scrolled": false
   },
   "outputs": [
    {
     "name": "stdout",
     "output_type": "stream",
     "text": [
      "juice\n",
      "['1', '2', '5']\n",
      "eggs\n",
      "['1', '3', '4']\n",
      "chips\n",
      "['3', '5']\n",
      "milk\n",
      "['1', '2', '4', '5']\n",
      "cookies\n",
      "['2', '5']\n"
     ]
    }
   ],
   "source": [
    "# Iterating through dictionaries\n",
    "for i in Sitems:\n",
    "    print i\n",
    "    print Sitems[i]"
   ]
  },
  {
   "cell_type": "code",
   "execution_count": 15,
   "metadata": {
    "scrolled": true
   },
   "outputs": [
    {
     "name": "stdout",
     "output_type": "stream",
     "text": [
      "['1', '3', '4']\n",
      "['1', '2', '4', '5']\n",
      "set(['1', '4'])\n"
     ]
    }
   ],
   "source": [
    "# Intersecting lists\n",
    "# How many transactions contain both eggs and milk?\n",
    "list1 = Sitems['eggs']\n",
    "print list1\n",
    "list2 = Sitems['milk']\n",
    "print list2\n",
    "list3 = set(list1) & set(list2)\n",
    "print list3\n",
    "# add print len(list3)"
   ]
  },
  {
   "cell_type": "markdown",
   "metadata": {},
   "source": [
    "### Frequent item-sets of two"
   ]
  },
  {
   "cell_type": "markdown",
   "metadata": {},
   "source": [
    "#### First compute all pairs of items and the number of transactions they occur together in (see what's wrong and fix it)"
   ]
  },
  {
   "cell_type": "code",
   "execution_count": 16,
   "metadata": {
    "scrolled": true
   },
   "outputs": [
    {
     "name": "stdout",
     "output_type": "stream",
     "text": [
      "[['juice', 'juice', 3], ['juice', 'eggs', 1], ['juice', 'chips', 1], ['juice', 'milk', 3], ['juice', 'cookies', 2], ['eggs', 'juice', 1], ['eggs', 'eggs', 3], ['eggs', 'chips', 1], ['eggs', 'milk', 2], ['eggs', 'cookies', 0], ['chips', 'juice', 1], ['chips', 'eggs', 1], ['chips', 'chips', 2], ['chips', 'milk', 1], ['chips', 'cookies', 1], ['milk', 'juice', 3], ['milk', 'eggs', 2], ['milk', 'chips', 1], ['milk', 'milk', 4], ['milk', 'cookies', 2], ['cookies', 'juice', 2], ['cookies', 'eggs', 0], ['cookies', 'chips', 1], ['cookies', 'milk', 2], ['cookies', 'cookies', 2]]\n"
     ]
    }
   ],
   "source": [
    "pairs = []\n",
    "for i1 in Sitems:\n",
    "    for i2 in Sitems:\n",
    "        common = len(set(Sitems[i1]) & set(Sitems[i2]))\n",
    "        pairs.append([i1, i2, common])\n",
    "print pairs"
   ]
  },
  {
   "cell_type": "markdown",
   "metadata": {},
   "source": [
    "#### Print pairs that meet support threshold (see what's wrong and fix it)"
   ]
  },
  {
   "cell_type": "code",
   "execution_count": 17,
   "metadata": {
    "scrolled": true
   },
   "outputs": [],
   "source": [
    "support = .3\n",
    "for p in pairs:\n",
    "    if p[2]/Snumtrans > support:\n",
    "        print p[0], '|', p[1]"
   ]
  },
  {
   "cell_type": "code",
   "execution_count": 18,
   "metadata": {
    "scrolled": true
   },
   "outputs": [
    {
     "ename": "SyntaxError",
     "evalue": "invalid syntax (<ipython-input-18-d1ae2a5cb6b4>, line 2)",
     "output_type": "error",
     "traceback": [
      "\u001b[0;36m  File \u001b[0;32m\"<ipython-input-18-d1ae2a5cb6b4>\"\u001b[0;36m, line \u001b[0;32m2\u001b[0m\n\u001b[0;31m    WILL ADD CODE HERE\u001b[0m\n\u001b[0m           ^\u001b[0m\n\u001b[0;31mSyntaxError\u001b[0m\u001b[0;31m:\u001b[0m invalid syntax\n"
     ]
    }
   ],
   "source": [
    "# Fold previous two code boxes together into one program\n",
    "WILL ADD CODE HERE"
   ]
  },
  {
   "cell_type": "markdown",
   "metadata": {},
   "source": [
    "### Frequent item-sets of three"
   ]
  },
  {
   "cell_type": "code",
   "execution_count": null,
   "metadata": {
    "scrolled": true
   },
   "outputs": [],
   "source": [
    "support = .3\n",
    "for i1 in Sitems:\n",
    "    for i2 in Sitems:\n",
    "        for i3 in Sitems:\n",
    "            if i1 < i2 and i2 < i3:\n",
    "                common = len(set(Sitems[i1]) & set(Sitems[i2]) & set(Sitems[i3]))\n",
    "                if float(common)/Snumtrans > support:\n",
    "                    print i1, '|', i2, '|', i3"
   ]
  },
  {
   "cell_type": "markdown",
   "metadata": {},
   "source": [
    "### Apriori algorithm: frequent item-sets of one, then two, then three"
   ]
  },
  {
   "cell_type": "markdown",
   "metadata": {},
   "source": [
    "#### Frequent item-sets of one"
   ]
  },
  {
   "cell_type": "code",
   "execution_count": null,
   "metadata": {
    "scrolled": true
   },
   "outputs": [],
   "source": [
    "support = .3\n",
    "ones = []\n",
    "for i in Sitems:\n",
    "    if float(len(Sitems[i]))/Snumtrans > support:\n",
    "        ones.append(i)\n",
    "print ones"
   ]
  },
  {
   "cell_type": "markdown",
   "metadata": {},
   "source": [
    "#### Frequent item-sets of two using only items from frequent item-sets of one"
   ]
  },
  {
   "cell_type": "code",
   "execution_count": null,
   "metadata": {
    "scrolled": true
   },
   "outputs": [],
   "source": [
    "support = .3\n",
    "twos = []\n",
    "for i1 in ones:\n",
    "    for i2 in ones:\n",
    "        if i1 < i2:\n",
    "            common = len(set(Sitems[i1]) & set(Sitems[i2]))\n",
    "            if float(common)/Snumtrans > support:\n",
    "                twos.append([i1, i2])\n",
    "print twos"
   ]
  },
  {
   "cell_type": "markdown",
   "metadata": {},
   "source": [
    "#### Frequent item-sets of three using only items from frequent item-sets of two and one (see what's wrong and fix it)"
   ]
  },
  {
   "cell_type": "code",
   "execution_count": null,
   "metadata": {
    "scrolled": true
   },
   "outputs": [],
   "source": [
    "support = .3\n",
    "for one in ones:\n",
    "    for two in twos:\n",
    "        if one not in two:\n",
    "            common = len(set(Sitems[one]) & set(Sitems[two[0]]) & set(Sitems[two[1]]))\n",
    "            if float(common)/Snumtrans > support:\n",
    "                print one, '|', two[0], '|', two[1]"
   ]
  },
  {
   "cell_type": "markdown",
   "metadata": {},
   "source": [
    "### <font color = 'green'>Your Turn - Movies dataset frequent item-sets</font>"
   ]
  },
  {
   "cell_type": "code",
   "execution_count": null,
   "metadata": {
    "scrolled": true
   },
   "outputs": [],
   "source": [
    "print Mnumtrans\n",
    "print len(Mitems)"
   ]
  },
  {
   "cell_type": "markdown",
   "metadata": {},
   "source": [
    "#### Use the brute-force method to mine for frequent item-sets of three and four items in the Movies dataset. Find a single support threshold where the number of frequent item-sets of three items is more than 10 but less than 20, and the number of frequent item-sets of four items is more than 0. WATCH OUT! The calculation for item-sets of four can be quite slow."
   ]
  },
  {
   "cell_type": "code",
   "execution_count": null,
   "metadata": {
    "scrolled": true
   },
   "outputs": [],
   "source": [
    "# Frequent item-sets of three\n",
    "support = INSERT VALUE HERE\n",
    "YOUR CODE HERE"
   ]
  },
  {
   "cell_type": "code",
   "execution_count": null,
   "metadata": {
    "scrolled": true
   },
   "outputs": [],
   "source": [
    "# Frequent item-sets of four\n",
    "support = INSERT VALUE HERE (SAME VALUE AS IN PREVIOUS CELL)\n",
    "YOUR CODE HERE"
   ]
  },
  {
   "cell_type": "markdown",
   "metadata": {},
   "source": [
    "#### Now compute frequent item-sets of four using the Apriori method. Notice how incredibly much faster it is."
   ]
  },
  {
   "cell_type": "code",
   "execution_count": null,
   "metadata": {
    "scrolled": true
   },
   "outputs": [],
   "source": [
    "# Frequent item-sets of four using Apriori\n",
    "support = INSERT VALUE HERE\n",
    "YOUR CODE HERE"
   ]
  },
  {
   "cell_type": "markdown",
   "metadata": {},
   "source": [
    "## Shopping dataset - association rules"
   ]
  },
  {
   "cell_type": "markdown",
   "metadata": {},
   "source": [
    "### Association rules with one item on the left-hand side"
   ]
  },
  {
   "cell_type": "markdown",
   "metadata": {},
   "source": [
    "#### First compute frequent item-sets of one item, as candidate left-hand sides of assocation rules. Include the number of transactions the items occur in."
   ]
  },
  {
   "cell_type": "code",
   "execution_count": null,
   "metadata": {
    "scrolled": true
   },
   "outputs": [],
   "source": [
    "support = .5\n",
    "frequentLHS = []\n",
    "for i in Sitems:\n",
    "    if float(len(Sitems[i]))/Snumtrans > support:\n",
    "        frequentLHS.append([i,len(Sitems[i])])\n",
    "print frequentLHS"
   ]
  },
  {
   "cell_type": "markdown",
   "metadata": {},
   "source": [
    "#### Now find right-hand side items with sufficient confidence (see what's wrong and fix it)"
   ]
  },
  {
   "cell_type": "code",
   "execution_count": null,
   "metadata": {
    "scrolled": true
   },
   "outputs": [],
   "source": [
    "confidence = .5\n",
    "for lhs in frequentLHS:\n",
    "    for i in Sitems:\n",
    "        common = len(set(Sitems[lhs[0]]) & set(Sitems[i]))\n",
    "        if float(common)/lhs[1] > confidence:\n",
    "            print lhs[0], '->', i"
   ]
  },
  {
   "cell_type": "markdown",
   "metadata": {},
   "source": [
    "### Association rules with two items on the left-hand side"
   ]
  },
  {
   "cell_type": "markdown",
   "metadata": {},
   "source": [
    "#### First compute frequent item-sets of two items, as candidate left-hand sides of assocation rules. Include the number of transactions the items occur in."
   ]
  },
  {
   "cell_type": "code",
   "execution_count": null,
   "metadata": {
    "scrolled": true
   },
   "outputs": [],
   "source": [
    "support = .5\n",
    "frequentLHS = []\n",
    "for i1 in Sitems:\n",
    "    for i2 in Sitems:\n",
    "        if i1 < i2:\n",
    "            common = len(set(Sitems[i1]) & set(Sitems[i2]))\n",
    "            if float(common)/Snumtrans > support:\n",
    "                frequentLHS.append([i1,i2,common])\n",
    "print frequentLHS"
   ]
  },
  {
   "cell_type": "markdown",
   "metadata": {},
   "source": [
    "#### Now find right-hand side items with sufficient confidence"
   ]
  },
  {
   "cell_type": "code",
   "execution_count": null,
   "metadata": {
    "scrolled": true
   },
   "outputs": [],
   "source": [
    "confidence = .5\n",
    "for lhs in frequentLHS:\n",
    "    for i in Sitems:\n",
    "        if i not in lhs:\n",
    "            common = len(set(Sitems[lhs[0]]) & set(Sitems[lhs[1]]) & set(Sitems[i]))\n",
    "            if float(common)/lhs[2] > confidence:\n",
    "                print lhs[0], '|', lhs[1], '->', i"
   ]
  },
  {
   "cell_type": "markdown",
   "metadata": {},
   "source": [
    "## Shopping dataset - association rules with lift instead of confidence"
   ]
  },
  {
   "cell_type": "markdown",
   "metadata": {},
   "source": [
    "### Association rules with one item on the left-hand side"
   ]
  },
  {
   "cell_type": "markdown",
   "metadata": {},
   "source": [
    "#### First compute frequent item-sets of one item, as candidate left-hand sides of assocation rules. Include the number of transactions the items occur in."
   ]
  },
  {
   "cell_type": "code",
   "execution_count": null,
   "metadata": {
    "scrolled": true
   },
   "outputs": [],
   "source": [
    "support = .5\n",
    "frequentLHS = []\n",
    "for i in Sitems:\n",
    "    if float(len(Sitems[i]))/Snumtrans > support:\n",
    "        frequentLHS.append([i,len(Sitems[i])])\n",
    "print frequentLHS"
   ]
  },
  {
   "cell_type": "markdown",
   "metadata": {},
   "source": [
    "#### Now find right-hand side items yielding lift > 1"
   ]
  },
  {
   "cell_type": "code",
   "execution_count": null,
   "metadata": {
    "scrolled": true
   },
   "outputs": [],
   "source": [
    "for lhs in frequentLHS:\n",
    "    for i in Sitems:\n",
    "        if lhs[0] <> i:\n",
    "            common = len(set(Sitems[lhs[0]]) & set(Sitems[i]))\n",
    "            lift = (float(common)/lhs[1]) / (float(len(Sitems[i]))/Snumtrans)\n",
    "            if lift > 1:\n",
    "                print lhs[0], '->', i, 'with lift', lift"
   ]
  },
  {
   "cell_type": "markdown",
   "metadata": {},
   "source": [
    "### Association rules with two items on the left-hand side"
   ]
  },
  {
   "cell_type": "markdown",
   "metadata": {},
   "source": [
    "#### First compute frequent item-sets of two items, as candidate left-hand sides of assocation rules. Include the number of transactions the items occur in."
   ]
  },
  {
   "cell_type": "code",
   "execution_count": null,
   "metadata": {
    "scrolled": true
   },
   "outputs": [],
   "source": [
    "support = .5\n",
    "frequentLHS = []\n",
    "for i1 in Sitems:\n",
    "    for i2 in Sitems:\n",
    "        if i1 < i2:\n",
    "            common = len(set(Sitems[i1]) & set(Sitems[i2]))\n",
    "            if float(common)/Snumtrans > support:\n",
    "                frequentLHS.append([i1,i2,common])\n",
    "print frequentLHS"
   ]
  },
  {
   "cell_type": "markdown",
   "metadata": {},
   "source": [
    "#### Now find right-hand side items yielding lift > 1"
   ]
  },
  {
   "cell_type": "code",
   "execution_count": null,
   "metadata": {
    "scrolled": true
   },
   "outputs": [],
   "source": [
    "confidence = .5\n",
    "for lhs in frequentLHS:\n",
    "    for i in Sitems:\n",
    "        if i not in lhs:\n",
    "            common = len(set(Sitems[lhs[0]]) & set(Sitems[lhs[1]]) & set(Sitems[i]))\n",
    "            lift = (float(common)/lhs[2]) / (float(len(Sitems[i]))/Snumtrans)\n",
    "            if lift > 1:\n",
    "                print lhs[0], '|', lhs[1], '->', i, 'with lift', lift"
   ]
  },
  {
   "cell_type": "markdown",
   "metadata": {},
   "source": [
    "### <font color = 'green'>Your Turn - Movies dataset association rules</font>"
   ]
  },
  {
   "cell_type": "markdown",
   "metadata": {},
   "source": [
    "#### Mine for association rules in the Movies dataset with three items on the left-hand side. Find support and confidence thresholds (need not be the same) so the number of association rules is more than 10 but less than 20.\n"
   ]
  },
  {
   "cell_type": "code",
   "execution_count": null,
   "metadata": {
    "scrolled": true
   },
   "outputs": [],
   "source": [
    "# Association rules with three items on the left-hand side\n",
    "support = INSERT VALUE HERE\n",
    "confidence = INSERT VALUE HERE\n",
    "YOUR CODE HERE"
   ]
  },
  {
   "cell_type": "markdown",
   "metadata": {},
   "source": [
    "#### Mine for association rules in the Movies dataset with three items on the left-hand side. Find support and lift thresholds so the number of association rules is more than 10 but less than 20.\n"
   ]
  },
  {
   "cell_type": "code",
   "execution_count": null,
   "metadata": {
    "scrolled": true
   },
   "outputs": [],
   "source": [
    "# Association rules with three items on the left-hand side\n",
    "support = INSERT VALUE HERE\n",
    "liftthresh = INSERT VALUE HERE\n",
    "YOUR CODE HERE"
   ]
  }
 ],
 "metadata": {
  "kernelspec": {
   "display_name": "Python 2",
   "language": "python",
   "name": "python2"
  },
  "language_info": {
   "codemirror_mode": {
    "name": "ipython",
    "version": 2
   },
   "file_extension": ".py",
   "mimetype": "text/x-python",
   "name": "python",
   "nbconvert_exporter": "python",
   "pygments_lexer": "ipython2",
   "version": "2.7.14"
  }
 },
 "nbformat": 4,
 "nbformat_minor": 1
}

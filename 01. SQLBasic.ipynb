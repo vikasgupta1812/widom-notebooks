{
 "cells": [
  {
   "cell_type": "markdown",
   "metadata": {},
   "source": [
    "### Basic SQL"
   ]
  },
  {
   "cell_type": "code",
   "execution_count": 2,
   "metadata": {},
   "outputs": [
    {
     "name": "stdout",
     "output_type": "stream",
     "text": [
      "\u001b[31mfastlmm 0.2.32 requires dill, which is not installed.\u001b[0m\r\n",
      "\u001b[31mgrin 1.2.1 requires argparse>=1.1, which is not installed.\u001b[0m\r\n",
      "\u001b[31mgrpcio 1.11.0 has requirement protobuf>=3.5.0.post1, but you'll have protobuf 3.4.1 which is incompatible.\u001b[0m\r\n"
     ]
    }
   ],
   "source": [
    "!pip install --quiet ipython-sql"
   ]
  },
  {
   "cell_type": "code",
   "execution_count": 3,
   "metadata": {},
   "outputs": [
    {
     "data": {
      "text/plain": [
       "'Connected: @None'"
      ]
     },
     "execution_count": 3,
     "metadata": {},
     "output_type": "execute_result"
    }
   ],
   "source": [
    "%load_ext sql\n",
    "import pandas as pd\n",
    "%sql sqlite://"
   ]
  },
  {
   "cell_type": "code",
   "execution_count": 4,
   "metadata": {},
   "outputs": [],
   "source": [
    "# For compatibility across multiple platforms\n",
    "import os\n",
    "#IB = os.environ.get('INSTABASE_URI',None) is not None\n",
    "#open = ib.open if IB else open"
   ]
  },
  {
   "cell_type": "code",
   "execution_count": 9,
   "metadata": {},
   "outputs": [
    {
     "name": "stdout",
     "output_type": "stream",
     "text": [
      "city,country,latitude,longitude,temperature\r\n",
      "Aalborg,Denmark,57.03,9.92,7.52\r\n",
      "Aberdeen,United Kingdom,57.17,-2.08,8.10\r\n",
      "Abisko,Sweden,63.35,18.83,0.20\r\n",
      "Adana,Turkey,36.99,35.32,18.67\r\n"
     ]
    }
   ],
   "source": [
    "!head -5 Cities.csv"
   ]
  },
  {
   "cell_type": "code",
   "execution_count": 17,
   "metadata": {},
   "outputs": [
    {
     "name": "stdout",
     "output_type": "stream",
     "text": [
      " * sqlite://\n",
      "Done.\n",
      " * sqlite://\n",
      " * sqlite://\n",
      "Done.\n",
      " * sqlite://\n",
      " * sqlite://\n",
      "Done.\n",
      " * sqlite://\n",
      " * sqlite://\n",
      "Done.\n",
      " * sqlite://\n"
     ]
    },
    {
     "data": {
      "text/plain": [
       "u'Persisted teams'"
      ]
     },
     "execution_count": 17,
     "metadata": {},
     "output_type": "execute_result"
    }
   ],
   "source": [
    "# Load tables from CSV files\n",
    "# Cities\n",
    "with open('Cities.csv','rU') as f:\n",
    "    Cities = pd.read_csv(f, index_col=0, encoding='utf-8')\n",
    "%sql drop table if exists Cities;\n",
    "%sql persist Cities\n",
    "# Countries\n",
    "with open('Countries.csv','rU') as f:\n",
    "    Countries = pd.read_csv(f, index_col=0, encoding='utf-8')\n",
    "%sql drop table if exists Countries;\n",
    "%sql persist Countries\n",
    "# Players\n",
    "with open('Players.csv','rU') as f:\n",
    "    Players = pd.read_csv(f, index_col=0, encoding='utf-8')\n",
    "%sql drop table if exists Players;\n",
    "%sql persist Players\n",
    "# Teams\n",
    "with open('Teams.csv','rU') as f:\n",
    "    Teams = pd.read_csv(f, index_col=0, encoding='utf-8')\n",
    "%sql drop table if exists Teams;\n",
    "%sql persist Teams"
   ]
  },
  {
   "cell_type": "markdown",
   "metadata": {},
   "source": [
    "#### Look at sample of Cities and Countries tables"
   ]
  },
  {
   "cell_type": "code",
   "execution_count": 18,
   "metadata": {},
   "outputs": [
    {
     "name": "stdout",
     "output_type": "stream",
     "text": [
      " * sqlite://\n",
      "Done.\n"
     ]
    },
    {
     "data": {
      "text/html": [
       "<table>\n",
       "    <tr>\n",
       "        <th>city</th>\n",
       "        <th>country</th>\n",
       "        <th>latitude</th>\n",
       "        <th>longitude</th>\n",
       "        <th>temperature</th>\n",
       "    </tr>\n",
       "    <tr>\n",
       "        <td>Aalborg</td>\n",
       "        <td>Denmark</td>\n",
       "        <td>57.03</td>\n",
       "        <td>9.92</td>\n",
       "        <td>7.52</td>\n",
       "    </tr>\n",
       "    <tr>\n",
       "        <td>Aberdeen</td>\n",
       "        <td>United Kingdom</td>\n",
       "        <td>57.17</td>\n",
       "        <td>-2.08</td>\n",
       "        <td>8.1</td>\n",
       "    </tr>\n",
       "    <tr>\n",
       "        <td>Abisko</td>\n",
       "        <td>Sweden</td>\n",
       "        <td>63.35</td>\n",
       "        <td>18.83</td>\n",
       "        <td>0.2</td>\n",
       "    </tr>\n",
       "    <tr>\n",
       "        <td>Adana</td>\n",
       "        <td>Turkey</td>\n",
       "        <td>36.99</td>\n",
       "        <td>35.32</td>\n",
       "        <td>18.67</td>\n",
       "    </tr>\n",
       "    <tr>\n",
       "        <td>Albacete</td>\n",
       "        <td>Spain</td>\n",
       "        <td>39.0</td>\n",
       "        <td>-1.87</td>\n",
       "        <td>12.62</td>\n",
       "    </tr>\n",
       "</table>"
      ],
      "text/plain": [
       "[(u'Aalborg', u'Denmark', 57.03, 9.92, 7.52),\n",
       " (u'Aberdeen', u'United Kingdom', 57.17, -2.08, 8.1),\n",
       " (u'Abisko', u'Sweden', 63.35, 18.83, 0.2),\n",
       " (u'Adana', u'Turkey', 36.99, 35.32, 18.67),\n",
       " (u'Albacete', u'Spain', 39.0, -1.87, 12.62)]"
      ]
     },
     "execution_count": 18,
     "metadata": {},
     "output_type": "execute_result"
    }
   ],
   "source": [
    "%%sql\n",
    "select * from Cities limit 5"
   ]
  },
  {
   "cell_type": "code",
   "execution_count": 19,
   "metadata": {},
   "outputs": [
    {
     "name": "stdout",
     "output_type": "stream",
     "text": [
      " * sqlite://\n",
      "Done.\n"
     ]
    },
    {
     "data": {
      "text/html": [
       "<table>\n",
       "    <tr>\n",
       "        <th>country</th>\n",
       "        <th>population</th>\n",
       "        <th>EU</th>\n",
       "        <th>coastline</th>\n",
       "    </tr>\n",
       "    <tr>\n",
       "        <td>Albania</td>\n",
       "        <td>2.9</td>\n",
       "        <td>no</td>\n",
       "        <td>yes</td>\n",
       "    </tr>\n",
       "    <tr>\n",
       "        <td>Andorra</td>\n",
       "        <td>0.07</td>\n",
       "        <td>no</td>\n",
       "        <td>no</td>\n",
       "    </tr>\n",
       "    <tr>\n",
       "        <td>Austria</td>\n",
       "        <td>8.57</td>\n",
       "        <td>yes</td>\n",
       "        <td>no</td>\n",
       "    </tr>\n",
       "    <tr>\n",
       "        <td>Belarus</td>\n",
       "        <td>9.48</td>\n",
       "        <td>no</td>\n",
       "        <td>no</td>\n",
       "    </tr>\n",
       "    <tr>\n",
       "        <td>Belgium</td>\n",
       "        <td>11.37</td>\n",
       "        <td>yes</td>\n",
       "        <td>yes</td>\n",
       "    </tr>\n",
       "</table>"
      ],
      "text/plain": [
       "[(u'Albania', 2.9, u'no', u'yes'),\n",
       " (u'Andorra', 0.07, u'no', u'no'),\n",
       " (u'Austria', 8.57, u'yes', u'no'),\n",
       " (u'Belarus', 9.48, u'no', u'no'),\n",
       " (u'Belgium', 11.37, u'yes', u'yes')]"
      ]
     },
     "execution_count": 19,
     "metadata": {},
     "output_type": "execute_result"
    }
   ],
   "source": [
    "%%sql\n",
    "select * from Countries limit 5"
   ]
  },
  {
   "cell_type": "markdown",
   "metadata": {},
   "source": [
    "### Basic Select statement\n",
    "Select columns  \n",
    "From tables  \n",
    "Where condition  "
   ]
  },
  {
   "cell_type": "markdown",
   "metadata": {},
   "source": [
    "*Find all countries not in the EU*"
   ]
  },
  {
   "cell_type": "code",
   "execution_count": 22,
   "metadata": {},
   "outputs": [
    {
     "name": "stdout",
     "output_type": "stream",
     "text": [
      " * sqlite://\n",
      "Done.\n"
     ]
    },
    {
     "data": {
      "text/html": [
       "<table>\n",
       "    <tr>\n",
       "        <th>country</th>\n",
       "    </tr>\n",
       "    <tr>\n",
       "        <td>Albania</td>\n",
       "    </tr>\n",
       "    <tr>\n",
       "        <td>Andorra</td>\n",
       "    </tr>\n",
       "    <tr>\n",
       "        <td>Belarus</td>\n",
       "    </tr>\n",
       "    <tr>\n",
       "        <td>Bosnia and Herzegovina</td>\n",
       "    </tr>\n",
       "    <tr>\n",
       "        <td>Iceland</td>\n",
       "    </tr>\n",
       "    <tr>\n",
       "        <td>Kosovo</td>\n",
       "    </tr>\n",
       "    <tr>\n",
       "        <td>Liechtenstein</td>\n",
       "    </tr>\n",
       "    <tr>\n",
       "        <td>Macedonia</td>\n",
       "    </tr>\n",
       "    <tr>\n",
       "        <td>Moldova</td>\n",
       "    </tr>\n",
       "    <tr>\n",
       "        <td>Montenegro</td>\n",
       "    </tr>\n",
       "    <tr>\n",
       "        <td>Norway</td>\n",
       "    </tr>\n",
       "    <tr>\n",
       "        <td>Serbia</td>\n",
       "    </tr>\n",
       "    <tr>\n",
       "        <td>Switzerland</td>\n",
       "    </tr>\n",
       "    <tr>\n",
       "        <td>Turkey</td>\n",
       "    </tr>\n",
       "    <tr>\n",
       "        <td>Ukraine</td>\n",
       "    </tr>\n",
       "</table>"
      ],
      "text/plain": [
       "[(u'Albania',),\n",
       " (u'Andorra',),\n",
       " (u'Belarus',),\n",
       " (u'Bosnia and Herzegovina',),\n",
       " (u'Iceland',),\n",
       " (u'Kosovo',),\n",
       " (u'Liechtenstein',),\n",
       " (u'Macedonia',),\n",
       " (u'Moldova',),\n",
       " (u'Montenegro',),\n",
       " (u'Norway',),\n",
       " (u'Serbia',),\n",
       " (u'Switzerland',),\n",
       " (u'Turkey',),\n",
       " (u'Ukraine',)]"
      ]
     },
     "execution_count": 22,
     "metadata": {},
     "output_type": "execute_result"
    }
   ],
   "source": [
    "%%sql\n",
    "select country\n",
    "from Countries\n",
    "where EU = 'no'"
   ]
  },
  {
   "cell_type": "markdown",
   "metadata": {},
   "source": [
    "*Find all cities with temperature between -5 and 5; return city, country, and temperature*"
   ]
  },
  {
   "cell_type": "code",
   "execution_count": 23,
   "metadata": {},
   "outputs": [
    {
     "name": "stdout",
     "output_type": "stream",
     "text": [
      " * sqlite://\n",
      "Done.\n"
     ]
    },
    {
     "data": {
      "text/html": [
       "<table>\n",
       "    <tr>\n",
       "        <th>city</th>\n",
       "        <th>country</th>\n",
       "        <th>temperature</th>\n",
       "    </tr>\n",
       "    <tr>\n",
       "        <td>Abisko</td>\n",
       "        <td>Sweden</td>\n",
       "        <td>0.2</td>\n",
       "    </tr>\n",
       "    <tr>\n",
       "        <td>Augsburg</td>\n",
       "        <td>Germany</td>\n",
       "        <td>4.54</td>\n",
       "    </tr>\n",
       "    <tr>\n",
       "        <td>Bergen</td>\n",
       "        <td>Norway</td>\n",
       "        <td>1.75</td>\n",
       "    </tr>\n",
       "    <tr>\n",
       "        <td>Bodo</td>\n",
       "        <td>Norway</td>\n",
       "        <td>4.5</td>\n",
       "    </tr>\n",
       "    <tr>\n",
       "        <td>Helsinki</td>\n",
       "        <td>Finland</td>\n",
       "        <td>4.19</td>\n",
       "    </tr>\n",
       "    <tr>\n",
       "        <td>Innsbruck</td>\n",
       "        <td>Austria</td>\n",
       "        <td>4.54</td>\n",
       "    </tr>\n",
       "    <tr>\n",
       "        <td>Kiruna</td>\n",
       "        <td>Sweden</td>\n",
       "        <td>-2.2</td>\n",
       "    </tr>\n",
       "    <tr>\n",
       "        <td>Orsha</td>\n",
       "        <td>Belarus</td>\n",
       "        <td>4.93</td>\n",
       "    </tr>\n",
       "    <tr>\n",
       "        <td>Oslo</td>\n",
       "        <td>Norway</td>\n",
       "        <td>2.32</td>\n",
       "    </tr>\n",
       "    <tr>\n",
       "        <td>Oulu</td>\n",
       "        <td>Finland</td>\n",
       "        <td>1.45</td>\n",
       "    </tr>\n",
       "    <tr>\n",
       "        <td>Salzburg</td>\n",
       "        <td>Austria</td>\n",
       "        <td>4.62</td>\n",
       "    </tr>\n",
       "    <tr>\n",
       "        <td>Tallinn</td>\n",
       "        <td>Estonia</td>\n",
       "        <td>4.82</td>\n",
       "    </tr>\n",
       "    <tr>\n",
       "        <td>Tampere</td>\n",
       "        <td>Finland</td>\n",
       "        <td>3.59</td>\n",
       "    </tr>\n",
       "    <tr>\n",
       "        <td>Tartu</td>\n",
       "        <td>Estonia</td>\n",
       "        <td>4.36</td>\n",
       "    </tr>\n",
       "    <tr>\n",
       "        <td>Trondheim</td>\n",
       "        <td>Norway</td>\n",
       "        <td>4.53</td>\n",
       "    </tr>\n",
       "    <tr>\n",
       "        <td>Turku</td>\n",
       "        <td>Finland</td>\n",
       "        <td>4.72</td>\n",
       "    </tr>\n",
       "    <tr>\n",
       "        <td>Uppsala</td>\n",
       "        <td>Sweden</td>\n",
       "        <td>4.17</td>\n",
       "    </tr>\n",
       "</table>"
      ],
      "text/plain": [
       "[(u'Abisko', u'Sweden', 0.2),\n",
       " (u'Augsburg', u'Germany', 4.54),\n",
       " (u'Bergen', u'Norway', 1.75),\n",
       " (u'Bodo', u'Norway', 4.5),\n",
       " (u'Helsinki', u'Finland', 4.19),\n",
       " (u'Innsbruck', u'Austria', 4.54),\n",
       " (u'Kiruna', u'Sweden', -2.2),\n",
       " (u'Orsha', u'Belarus', 4.93),\n",
       " (u'Oslo', u'Norway', 2.32),\n",
       " (u'Oulu', u'Finland', 1.45),\n",
       " (u'Salzburg', u'Austria', 4.62),\n",
       " (u'Tallinn', u'Estonia', 4.82),\n",
       " (u'Tampere', u'Finland', 3.59),\n",
       " (u'Tartu', u'Estonia', 4.36),\n",
       " (u'Trondheim', u'Norway', 4.53),\n",
       " (u'Turku', u'Finland', 4.72),\n",
       " (u'Uppsala', u'Sweden', 4.17)]"
      ]
     },
     "execution_count": 23,
     "metadata": {},
     "output_type": "execute_result"
    }
   ],
   "source": [
    "%%sql\n",
    "select city, country, temperature\n",
    "from Cities\n",
    "where temperature > -5 and temperature < 5"
   ]
  },
  {
   "cell_type": "markdown",
   "metadata": {},
   "source": [
    "### Ordering"
   ]
  },
  {
   "cell_type": "markdown",
   "metadata": {},
   "source": [
    "*Modify previous query to sort by temperature*"
   ]
  },
  {
   "cell_type": "markdown",
   "metadata": {},
   "source": [
    "*Modify previous query to sort by country, then temperature descending*"
   ]
  },
  {
   "cell_type": "markdown",
   "metadata": {},
   "source": [
    "### <font color = 'green'>Your Turn</font>"
   ]
  },
  {
   "cell_type": "markdown",
   "metadata": {},
   "source": [
    "*Find all countries with no coastline and with population > 9. Return the country and population, in descending order of population.*"
   ]
  },
  {
   "cell_type": "code",
   "execution_count": 28,
   "metadata": {},
   "outputs": [
    {
     "name": "stdout",
     "output_type": "stream",
     "text": [
      " * sqlite://\n",
      "Done.\n"
     ]
    },
    {
     "data": {
      "text/html": [
       "<table>\n",
       "    <tr>\n",
       "        <th>country</th>\n",
       "        <th>population</th>\n",
       "        <th>EU</th>\n",
       "        <th>coastline</th>\n",
       "    </tr>\n",
       "    <tr>\n",
       "        <td>Czech Republic</td>\n",
       "        <td>10.55</td>\n",
       "        <td>yes</td>\n",
       "        <td>no</td>\n",
       "    </tr>\n",
       "    <tr>\n",
       "        <td>Hungary</td>\n",
       "        <td>9.82</td>\n",
       "        <td>yes</td>\n",
       "        <td>no</td>\n",
       "    </tr>\n",
       "    <tr>\n",
       "        <td>Belarus</td>\n",
       "        <td>9.48</td>\n",
       "        <td>no</td>\n",
       "        <td>no</td>\n",
       "    </tr>\n",
       "</table>"
      ],
      "text/plain": [
       "[(u'Czech Republic', 10.55, u'yes', u'no'),\n",
       " (u'Hungary', 9.82, u'yes', u'no'),\n",
       " (u'Belarus', 9.48, u'no', u'no')]"
      ]
     },
     "execution_count": 28,
     "metadata": {},
     "output_type": "execute_result"
    }
   ],
   "source": [
    "%%sql\n",
    "select * from Countries \n",
    "where coastline = 'no'\n",
    "and population > 9\n",
    "order by population desc"
   ]
  },
  {
   "cell_type": "markdown",
   "metadata": {},
   "source": [
    "### Multiple tables in From clause - Joins"
   ]
  },
  {
   "cell_type": "markdown",
   "metadata": {},
   "source": [
    "*Find all cities with longitude < 10 not in the EU, return city and longitude*"
   ]
  },
  {
   "cell_type": "code",
   "execution_count": 29,
   "metadata": {
    "scrolled": true
   },
   "outputs": [
    {
     "name": "stdout",
     "output_type": "stream",
     "text": [
      " * sqlite://\n",
      "Done.\n"
     ]
    },
    {
     "data": {
      "text/html": [
       "<table>\n",
       "    <tr>\n",
       "        <th>city</th>\n",
       "        <th>longitude</th>\n",
       "    </tr>\n",
       "    <tr>\n",
       "        <td>Andorra</td>\n",
       "        <td>1.52</td>\n",
       "    </tr>\n",
       "    <tr>\n",
       "        <td>Basel</td>\n",
       "        <td>7.59</td>\n",
       "    </tr>\n",
       "    <tr>\n",
       "        <td>Bergen</td>\n",
       "        <td>5.32</td>\n",
       "    </tr>\n",
       "    <tr>\n",
       "        <td>Geneva</td>\n",
       "        <td>6.14</td>\n",
       "    </tr>\n",
       "    <tr>\n",
       "        <td>Stavanger</td>\n",
       "        <td>5.68</td>\n",
       "    </tr>\n",
       "    <tr>\n",
       "        <td>Zurich</td>\n",
       "        <td>8.56</td>\n",
       "    </tr>\n",
       "</table>"
      ],
      "text/plain": [
       "[(u'Andorra', 1.52),\n",
       " (u'Basel', 7.59),\n",
       " (u'Bergen', 5.32),\n",
       " (u'Geneva', 6.14),\n",
       " (u'Stavanger', 5.68),\n",
       " (u'Zurich', 8.56)]"
      ]
     },
     "execution_count": 29,
     "metadata": {},
     "output_type": "execute_result"
    }
   ],
   "source": [
    "%%sql\n",
    "select city, longitude\n",
    "from Cities, Countries\n",
    "where Cities.country = Countries.country\n",
    "and longitude < 10 and EU = 'no'"
   ]
  },
  {
   "cell_type": "markdown",
   "metadata": {},
   "source": [
    "*Modify previous query to also return country (error then fix)*"
   ]
  },
  {
   "cell_type": "markdown",
   "metadata": {},
   "source": [
    "*Find all cities with latitude < 50 in a country with population < 5; return city, country, and population, sorted by country*"
   ]
  },
  {
   "cell_type": "code",
   "execution_count": 30,
   "metadata": {},
   "outputs": [
    {
     "name": "stdout",
     "output_type": "stream",
     "text": [
      " * sqlite://\n",
      "Done.\n"
     ]
    },
    {
     "data": {
      "text/html": [
       "<table>\n",
       "    <tr>\n",
       "        <th>city</th>\n",
       "        <th>country</th>\n",
       "        <th>population</th>\n",
       "    </tr>\n",
       "    <tr>\n",
       "        <td>Elbasan</td>\n",
       "        <td>Albania</td>\n",
       "        <td>2.9</td>\n",
       "    </tr>\n",
       "    <tr>\n",
       "        <td>Andorra</td>\n",
       "        <td>Andorra</td>\n",
       "        <td>0.07</td>\n",
       "    </tr>\n",
       "    <tr>\n",
       "        <td>Sarajevo</td>\n",
       "        <td>Bosnia and Herzegovina</td>\n",
       "        <td>3.8</td>\n",
       "    </tr>\n",
       "    <tr>\n",
       "        <td>Rijeka</td>\n",
       "        <td>Croatia</td>\n",
       "        <td>4.23</td>\n",
       "    </tr>\n",
       "    <tr>\n",
       "        <td>Split</td>\n",
       "        <td>Croatia</td>\n",
       "        <td>4.23</td>\n",
       "    </tr>\n",
       "    <tr>\n",
       "        <td>Skopje</td>\n",
       "        <td>Macedonia</td>\n",
       "        <td>2.08</td>\n",
       "    </tr>\n",
       "    <tr>\n",
       "        <td>Balti</td>\n",
       "        <td>Moldova</td>\n",
       "        <td>4.06</td>\n",
       "    </tr>\n",
       "    <tr>\n",
       "        <td>Chisinau</td>\n",
       "        <td>Moldova</td>\n",
       "        <td>4.06</td>\n",
       "    </tr>\n",
       "    <tr>\n",
       "        <td>Podgorica</td>\n",
       "        <td>Montenegro</td>\n",
       "        <td>0.63</td>\n",
       "    </tr>\n",
       "    <tr>\n",
       "        <td>Ljubljana</td>\n",
       "        <td>Slovenia</td>\n",
       "        <td>2.07</td>\n",
       "    </tr>\n",
       "</table>"
      ],
      "text/plain": [
       "[(u'Elbasan', u'Albania', 2.9),\n",
       " (u'Andorra', u'Andorra', 0.07),\n",
       " (u'Sarajevo', u'Bosnia and Herzegovina', 3.8),\n",
       " (u'Rijeka', u'Croatia', 4.23),\n",
       " (u'Split', u'Croatia', 4.23),\n",
       " (u'Skopje', u'Macedonia', 2.08),\n",
       " (u'Balti', u'Moldova', 4.06),\n",
       " (u'Chisinau', u'Moldova', 4.06),\n",
       " (u'Podgorica', u'Montenegro', 0.63),\n",
       " (u'Ljubljana', u'Slovenia', 2.07)]"
      ]
     },
     "execution_count": 30,
     "metadata": {},
     "output_type": "execute_result"
    }
   ],
   "source": [
    "%%sql\n",
    "select city, Cities.country, population\n",
    "from Cities, Countries\n",
    "where Cities.country = Countries.country\n",
    "and latitude < 50 and population < 5\n",
    "order by Cities.country"
   ]
  },
  {
   "cell_type": "markdown",
   "metadata": {},
   "source": [
    "#### Inner Join -- just FYI"
   ]
  },
  {
   "cell_type": "markdown",
   "metadata": {},
   "source": [
    "*Same query as above*"
   ]
  },
  {
   "cell_type": "code",
   "execution_count": 31,
   "metadata": {},
   "outputs": [
    {
     "name": "stdout",
     "output_type": "stream",
     "text": [
      " * sqlite://\n",
      "Done.\n"
     ]
    },
    {
     "data": {
      "text/html": [
       "<table>\n",
       "    <tr>\n",
       "        <th>city</th>\n",
       "        <th>country</th>\n",
       "        <th>population</th>\n",
       "    </tr>\n",
       "    <tr>\n",
       "        <td>Elbasan</td>\n",
       "        <td>Albania</td>\n",
       "        <td>2.9</td>\n",
       "    </tr>\n",
       "    <tr>\n",
       "        <td>Andorra</td>\n",
       "        <td>Andorra</td>\n",
       "        <td>0.07</td>\n",
       "    </tr>\n",
       "    <tr>\n",
       "        <td>Sarajevo</td>\n",
       "        <td>Bosnia and Herzegovina</td>\n",
       "        <td>3.8</td>\n",
       "    </tr>\n",
       "    <tr>\n",
       "        <td>Rijeka</td>\n",
       "        <td>Croatia</td>\n",
       "        <td>4.23</td>\n",
       "    </tr>\n",
       "    <tr>\n",
       "        <td>Split</td>\n",
       "        <td>Croatia</td>\n",
       "        <td>4.23</td>\n",
       "    </tr>\n",
       "    <tr>\n",
       "        <td>Skopje</td>\n",
       "        <td>Macedonia</td>\n",
       "        <td>2.08</td>\n",
       "    </tr>\n",
       "    <tr>\n",
       "        <td>Balti</td>\n",
       "        <td>Moldova</td>\n",
       "        <td>4.06</td>\n",
       "    </tr>\n",
       "    <tr>\n",
       "        <td>Chisinau</td>\n",
       "        <td>Moldova</td>\n",
       "        <td>4.06</td>\n",
       "    </tr>\n",
       "    <tr>\n",
       "        <td>Podgorica</td>\n",
       "        <td>Montenegro</td>\n",
       "        <td>0.63</td>\n",
       "    </tr>\n",
       "    <tr>\n",
       "        <td>Ljubljana</td>\n",
       "        <td>Slovenia</td>\n",
       "        <td>2.07</td>\n",
       "    </tr>\n",
       "</table>"
      ],
      "text/plain": [
       "[(u'Elbasan', u'Albania', 2.9),\n",
       " (u'Andorra', u'Andorra', 0.07),\n",
       " (u'Sarajevo', u'Bosnia and Herzegovina', 3.8),\n",
       " (u'Rijeka', u'Croatia', 4.23),\n",
       " (u'Split', u'Croatia', 4.23),\n",
       " (u'Skopje', u'Macedonia', 2.08),\n",
       " (u'Balti', u'Moldova', 4.06),\n",
       " (u'Chisinau', u'Moldova', 4.06),\n",
       " (u'Podgorica', u'Montenegro', 0.63),\n",
       " (u'Ljubljana', u'Slovenia', 2.07)]"
      ]
     },
     "execution_count": 31,
     "metadata": {},
     "output_type": "execute_result"
    }
   ],
   "source": [
    "%%sql\n",
    "select city, Cities.country, population\n",
    "from Cities inner join Countries\n",
    "     on Cities.country = Countries.country\n",
    "where latitude < 50 and population < 5\n",
    "order by Cities.country"
   ]
  },
  {
   "cell_type": "markdown",
   "metadata": {},
   "source": [
    "### Select *"
   ]
  },
  {
   "cell_type": "markdown",
   "metadata": {},
   "source": [
    "*Modify previous queries to return all attributes*"
   ]
  },
  {
   "cell_type": "markdown",
   "metadata": {},
   "source": [
    "### <font color = 'green'>Your Turn</font>"
   ]
  },
  {
   "cell_type": "markdown",
   "metadata": {},
   "source": [
    "*Find all cities with latitude > 45 in a country with no coastline and with population > 9. Return the city, country, latitude, and whether it's in the EU.*"
   ]
  },
  {
   "cell_type": "code",
   "execution_count": 35,
   "metadata": {},
   "outputs": [
    {
     "name": "stdout",
     "output_type": "stream",
     "text": [
      " * sqlite://\n",
      "Done.\n"
     ]
    },
    {
     "data": {
      "text/html": [
       "<table>\n",
       "    <tr>\n",
       "        <th>city</th>\n",
       "        <th>country</th>\n",
       "        <th>latitude</th>\n",
       "        <th>EU</th>\n",
       "    </tr>\n",
       "    <tr>\n",
       "        <td>Brest</td>\n",
       "        <td>Belarus</td>\n",
       "        <td>52.1</td>\n",
       "        <td>no</td>\n",
       "    </tr>\n",
       "    <tr>\n",
       "        <td>Hrodna</td>\n",
       "        <td>Belarus</td>\n",
       "        <td>53.68</td>\n",
       "        <td>no</td>\n",
       "    </tr>\n",
       "    <tr>\n",
       "        <td>Mazyr</td>\n",
       "        <td>Belarus</td>\n",
       "        <td>52.05</td>\n",
       "        <td>no</td>\n",
       "    </tr>\n",
       "    <tr>\n",
       "        <td>Minsk</td>\n",
       "        <td>Belarus</td>\n",
       "        <td>53.9</td>\n",
       "        <td>no</td>\n",
       "    </tr>\n",
       "    <tr>\n",
       "        <td>Orsha</td>\n",
       "        <td>Belarus</td>\n",
       "        <td>54.52</td>\n",
       "        <td>no</td>\n",
       "    </tr>\n",
       "    <tr>\n",
       "        <td>Pinsk</td>\n",
       "        <td>Belarus</td>\n",
       "        <td>52.13</td>\n",
       "        <td>no</td>\n",
       "    </tr>\n",
       "    <tr>\n",
       "        <td>Brno</td>\n",
       "        <td>Czech Republic</td>\n",
       "        <td>49.2</td>\n",
       "        <td>yes</td>\n",
       "    </tr>\n",
       "    <tr>\n",
       "        <td>Ostrava</td>\n",
       "        <td>Czech Republic</td>\n",
       "        <td>49.83</td>\n",
       "        <td>yes</td>\n",
       "    </tr>\n",
       "    <tr>\n",
       "        <td>Prague</td>\n",
       "        <td>Czech Republic</td>\n",
       "        <td>50.08</td>\n",
       "        <td>yes</td>\n",
       "    </tr>\n",
       "    <tr>\n",
       "        <td>Budapest</td>\n",
       "        <td>Hungary</td>\n",
       "        <td>47.5</td>\n",
       "        <td>yes</td>\n",
       "    </tr>\n",
       "    <tr>\n",
       "        <td>Debrecen</td>\n",
       "        <td>Hungary</td>\n",
       "        <td>47.53</td>\n",
       "        <td>yes</td>\n",
       "    </tr>\n",
       "    <tr>\n",
       "        <td>Gyor</td>\n",
       "        <td>Hungary</td>\n",
       "        <td>47.7</td>\n",
       "        <td>yes</td>\n",
       "    </tr>\n",
       "    <tr>\n",
       "        <td>Szeged</td>\n",
       "        <td>Hungary</td>\n",
       "        <td>46.25</td>\n",
       "        <td>yes</td>\n",
       "    </tr>\n",
       "</table>"
      ],
      "text/plain": [
       "[(u'Brest', u'Belarus', 52.1, u'no'),\n",
       " (u'Hrodna', u'Belarus', 53.68, u'no'),\n",
       " (u'Mazyr', u'Belarus', 52.05, u'no'),\n",
       " (u'Minsk', u'Belarus', 53.9, u'no'),\n",
       " (u'Orsha', u'Belarus', 54.52, u'no'),\n",
       " (u'Pinsk', u'Belarus', 52.13, u'no'),\n",
       " (u'Brno', u'Czech Republic', 49.2, u'yes'),\n",
       " (u'Ostrava', u'Czech Republic', 49.83, u'yes'),\n",
       " (u'Prague', u'Czech Republic', 50.08, u'yes'),\n",
       " (u'Budapest', u'Hungary', 47.5, u'yes'),\n",
       " (u'Debrecen', u'Hungary', 47.53, u'yes'),\n",
       " (u'Gyor', u'Hungary', 47.7, u'yes'),\n",
       " (u'Szeged', u'Hungary', 46.25, u'yes')]"
      ]
     },
     "execution_count": 35,
     "metadata": {},
     "output_type": "execute_result"
    }
   ],
   "source": [
    "%%sql\n",
    "select city, Cities.country, latitude, EU\n",
    "from Cities, Countries\n",
    "where Cities.country = Countries.country\n",
    "and latitude > 45 and population > 9 and coastline = 'no'\n",
    "order by Cities.country"
   ]
  },
  {
   "cell_type": "markdown",
   "metadata": {},
   "source": [
    "### Aggregation and Grouping"
   ]
  },
  {
   "cell_type": "markdown",
   "metadata": {},
   "source": [
    "*Find the average temperature for all cities*"
   ]
  },
  {
   "cell_type": "code",
   "execution_count": 36,
   "metadata": {},
   "outputs": [
    {
     "name": "stdout",
     "output_type": "stream",
     "text": [
      " * sqlite://\n",
      "Done.\n"
     ]
    },
    {
     "data": {
      "text/html": [
       "<table>\n",
       "    <tr>\n",
       "        <th>avg(temperature)</th>\n",
       "    </tr>\n",
       "    <tr>\n",
       "        <td>9.49784037559</td>\n",
       "    </tr>\n",
       "</table>"
      ],
      "text/plain": [
       "[(9.497840375586858,)]"
      ]
     },
     "execution_count": 36,
     "metadata": {},
     "output_type": "execute_result"
    }
   ],
   "source": [
    "%%sql\n",
    "select avg(temperature)\n",
    "from Cities"
   ]
  },
  {
   "cell_type": "markdown",
   "metadata": {},
   "source": [
    "*Modify previous query to find average temperature of cities with latitude > 55*"
   ]
  },
  {
   "cell_type": "code",
   "execution_count": 38,
   "metadata": {},
   "outputs": [
    {
     "name": "stdout",
     "output_type": "stream",
     "text": [
      " * sqlite://\n",
      "Done.\n"
     ]
    },
    {
     "data": {
      "text/html": [
       "<table>\n",
       "    <tr>\n",
       "        <th>avg(temperature)</th>\n",
       "    </tr>\n",
       "    <tr>\n",
       "        <td>4.98518518519</td>\n",
       "    </tr>\n",
       "</table>"
      ],
      "text/plain": [
       "[(4.985185185185185,)]"
      ]
     },
     "execution_count": 38,
     "metadata": {},
     "output_type": "execute_result"
    }
   ],
   "source": [
    "%%sql\n",
    "select avg(temperature)\n",
    "from Cities\n",
    "where latitude > 55"
   ]
  },
  {
   "cell_type": "markdown",
   "metadata": {},
   "source": [
    "*Modify previous query to also find minimum and maxiumum temperature of cities with latitude > 55*"
   ]
  },
  {
   "cell_type": "code",
   "execution_count": 39,
   "metadata": {},
   "outputs": [
    {
     "name": "stdout",
     "output_type": "stream",
     "text": [
      " * sqlite://\n",
      "Done.\n"
     ]
    },
    {
     "data": {
      "text/html": [
       "<table>\n",
       "    <tr>\n",
       "        <th>min(temperature)</th>\n",
       "        <th>max(temperature)</th>\n",
       "    </tr>\n",
       "    <tr>\n",
       "        <td>-2.2</td>\n",
       "        <td>8.6</td>\n",
       "    </tr>\n",
       "</table>"
      ],
      "text/plain": [
       "[(-2.2, 8.6)]"
      ]
     },
     "execution_count": 39,
     "metadata": {},
     "output_type": "execute_result"
    }
   ],
   "source": [
    "%%sql\n",
    "select min(temperature), max(temperature)\n",
    "from Cities\n",
    "where latitude > 55"
   ]
  },
  {
   "cell_type": "markdown",
   "metadata": {},
   "source": [
    "*Modify previous query to return number of cities with latitude > 55*"
   ]
  },
  {
   "cell_type": "code",
   "execution_count": 41,
   "metadata": {},
   "outputs": [
    {
     "name": "stdout",
     "output_type": "stream",
     "text": [
      " * sqlite://\n",
      "Done.\n"
     ]
    },
    {
     "data": {
      "text/html": [
       "<table>\n",
       "    <tr>\n",
       "        <th>count(*)</th>\n",
       "    </tr>\n",
       "    <tr>\n",
       "        <td>27</td>\n",
       "    </tr>\n",
       "</table>"
      ],
      "text/plain": [
       "[(27,)]"
      ]
     },
     "execution_count": 41,
     "metadata": {},
     "output_type": "execute_result"
    }
   ],
   "source": [
    "%%sql\n",
    "select count(*)\n",
    "from Cities\n",
    "where latitude > 55"
   ]
  },
  {
   "cell_type": "markdown",
   "metadata": {},
   "source": [
    "*Rename result column as northerns*"
   ]
  },
  {
   "cell_type": "code",
   "execution_count": 42,
   "metadata": {},
   "outputs": [
    {
     "name": "stdout",
     "output_type": "stream",
     "text": [
      " * sqlite://\n",
      "Done.\n"
     ]
    },
    {
     "data": {
      "text/html": [
       "<table>\n",
       "    <tr>\n",
       "        <th>northerns</th>\n",
       "    </tr>\n",
       "    <tr>\n",
       "        <td>27</td>\n",
       "    </tr>\n",
       "</table>"
      ],
      "text/plain": [
       "[(27,)]"
      ]
     },
     "execution_count": 42,
     "metadata": {},
     "output_type": "execute_result"
    }
   ],
   "source": [
    "%%sql\n",
    "select count(*) as northerns\n",
    "from Cities\n",
    "where latitude > 55"
   ]
  },
  {
   "cell_type": "markdown",
   "metadata": {},
   "source": [
    "*Find the minimum and maximum temperature of cities in the EU (then not in the EU)*"
   ]
  },
  {
   "cell_type": "code",
   "execution_count": 47,
   "metadata": {},
   "outputs": [
    {
     "name": "stdout",
     "output_type": "stream",
     "text": [
      " * sqlite://\n",
      "Done.\n"
     ]
    },
    {
     "data": {
      "text/html": [
       "<table>\n",
       "    <tr>\n",
       "        <th>min(temperature)</th>\n",
       "        <th>max(temperature)</th>\n",
       "    </tr>\n",
       "    <tr>\n",
       "        <td>-2.2</td>\n",
       "        <td>17.9</td>\n",
       "    </tr>\n",
       "</table>"
      ],
      "text/plain": [
       "[(-2.2, 17.9)]"
      ]
     },
     "execution_count": 47,
     "metadata": {},
     "output_type": "execute_result"
    }
   ],
   "source": [
    "%%sql\n",
    "select min(temperature), max(temperature)\n",
    "from Cities, Countries\n",
    "where Cities.country = Countries.country\n",
    "and EU = 'yes'"
   ]
  },
  {
   "cell_type": "code",
   "execution_count": 48,
   "metadata": {},
   "outputs": [
    {
     "name": "stdout",
     "output_type": "stream",
     "text": [
      " * sqlite://\n",
      "Done.\n"
     ]
    },
    {
     "data": {
      "text/html": [
       "<table>\n",
       "    <tr>\n",
       "        <th>min(temperature)</th>\n",
       "        <th>max(temperature)</th>\n",
       "    </tr>\n",
       "    <tr>\n",
       "        <td>1.75</td>\n",
       "        <td>18.67</td>\n",
       "    </tr>\n",
       "</table>"
      ],
      "text/plain": [
       "[(1.75, 18.67)]"
      ]
     },
     "execution_count": 48,
     "metadata": {},
     "output_type": "execute_result"
    }
   ],
   "source": [
    "%%sql\n",
    "select min(temperature), max(temperature)\n",
    "from Cities, Countries\n",
    "where Cities.country = Countries.country\n",
    "and EU = 'no'"
   ]
  },
  {
   "cell_type": "markdown",
   "metadata": {},
   "source": [
    "### <font color = 'green'>Your Turn</font>"
   ]
  },
  {
   "cell_type": "markdown",
   "metadata": {},
   "source": [
    "*Find the number of cities with latitude > 45 in countries with no coastline and with population > 9; also return the minimum and maximum latitude among those cities*"
   ]
  },
  {
   "cell_type": "code",
   "execution_count": 51,
   "metadata": {},
   "outputs": [
    {
     "name": "stdout",
     "output_type": "stream",
     "text": [
      " * sqlite://\n",
      "Done.\n"
     ]
    },
    {
     "data": {
      "text/html": [
       "<table>\n",
       "    <tr>\n",
       "        <th>count(*)</th>\n",
       "    </tr>\n",
       "    <tr>\n",
       "        <td>13</td>\n",
       "    </tr>\n",
       "</table>"
      ],
      "text/plain": [
       "[(13,)]"
      ]
     },
     "execution_count": 51,
     "metadata": {},
     "output_type": "execute_result"
    }
   ],
   "source": [
    "%%sql\n",
    "--select min(latitude), max(latitude)\n",
    "select count(*)\n",
    "from Cities, Countries\n",
    "where Cities.country = Countries.country\n",
    "and latitude > 45 and coastline = 'no' and population > 9"
   ]
  },
  {
   "cell_type": "code",
   "execution_count": 52,
   "metadata": {},
   "outputs": [
    {
     "name": "stdout",
     "output_type": "stream",
     "text": [
      " * sqlite://\n",
      "Done.\n"
     ]
    },
    {
     "data": {
      "text/html": [
       "<table>\n",
       "    <tr>\n",
       "        <th>min(latitude)</th>\n",
       "        <th>max(latitude)</th>\n",
       "    </tr>\n",
       "    <tr>\n",
       "        <td>46.25</td>\n",
       "        <td>54.52</td>\n",
       "    </tr>\n",
       "</table>"
      ],
      "text/plain": [
       "[(46.25, 54.52)]"
      ]
     },
     "execution_count": 52,
     "metadata": {},
     "output_type": "execute_result"
    }
   ],
   "source": [
    "%%sql\n",
    "select min(latitude), max(latitude)\n",
    "from Cities, Countries\n",
    "where Cities.country = Countries.country\n",
    "and latitude > 45 and coastline = 'no' and population > 9"
   ]
  },
  {
   "cell_type": "markdown",
   "metadata": {},
   "source": [
    "*Find the average temperature for each country*"
   ]
  },
  {
   "cell_type": "code",
   "execution_count": 53,
   "metadata": {},
   "outputs": [
    {
     "name": "stdout",
     "output_type": "stream",
     "text": [
      " * sqlite://\n",
      "Done.\n"
     ]
    },
    {
     "data": {
      "text/html": [
       "<table>\n",
       "    <tr>\n",
       "        <th>country</th>\n",
       "        <th>avg(temperature)</th>\n",
       "    </tr>\n",
       "    <tr>\n",
       "        <td>Albania</td>\n",
       "        <td>15.18</td>\n",
       "    </tr>\n",
       "    <tr>\n",
       "        <td>Andorra</td>\n",
       "        <td>9.6</td>\n",
       "    </tr>\n",
       "    <tr>\n",
       "        <td>Austria</td>\n",
       "        <td>6.144</td>\n",
       "    </tr>\n",
       "    <tr>\n",
       "        <td>Belarus</td>\n",
       "        <td>5.94666666667</td>\n",
       "    </tr>\n",
       "    <tr>\n",
       "        <td>Belgium</td>\n",
       "        <td>9.65</td>\n",
       "    </tr>\n",
       "    <tr>\n",
       "        <td>Bosnia and Herzegovina</td>\n",
       "        <td>9.6</td>\n",
       "    </tr>\n",
       "    <tr>\n",
       "        <td>Bulgaria</td>\n",
       "        <td>10.44</td>\n",
       "    </tr>\n",
       "    <tr>\n",
       "        <td>Croatia</td>\n",
       "        <td>10.865</td>\n",
       "    </tr>\n",
       "    <tr>\n",
       "        <td>Czech Republic</td>\n",
       "        <td>7.85666666667</td>\n",
       "    </tr>\n",
       "    <tr>\n",
       "        <td>Denmark</td>\n",
       "        <td>7.625</td>\n",
       "    </tr>\n",
       "    <tr>\n",
       "        <td>Estonia</td>\n",
       "        <td>4.59</td>\n",
       "    </tr>\n",
       "    <tr>\n",
       "        <td>Finland</td>\n",
       "        <td>3.4875</td>\n",
       "    </tr>\n",
       "    <tr>\n",
       "        <td>France</td>\n",
       "        <td>10.1511111111</td>\n",
       "    </tr>\n",
       "    <tr>\n",
       "        <td>Germany</td>\n",
       "        <td>7.86928571429</td>\n",
       "    </tr>\n",
       "    <tr>\n",
       "        <td>Greece</td>\n",
       "        <td>16.9025</td>\n",
       "    </tr>\n",
       "    <tr>\n",
       "        <td>Hungary</td>\n",
       "        <td>9.6025</td>\n",
       "    </tr>\n",
       "    <tr>\n",
       "        <td>Ireland</td>\n",
       "        <td>9.3</td>\n",
       "    </tr>\n",
       "    <tr>\n",
       "        <td>Italy</td>\n",
       "        <td>13.4746666667</td>\n",
       "    </tr>\n",
       "    <tr>\n",
       "        <td>Latvia</td>\n",
       "        <td>5.27</td>\n",
       "    </tr>\n",
       "    <tr>\n",
       "        <td>Lithuania</td>\n",
       "        <td>6.14333333333</td>\n",
       "    </tr>\n",
       "    <tr>\n",
       "        <td>Macedonia</td>\n",
       "        <td>9.36</td>\n",
       "    </tr>\n",
       "    <tr>\n",
       "        <td>Moldova</td>\n",
       "        <td>8.415</td>\n",
       "    </tr>\n",
       "    <tr>\n",
       "        <td>Montenegro</td>\n",
       "        <td>9.99</td>\n",
       "    </tr>\n",
       "    <tr>\n",
       "        <td>Netherlands</td>\n",
       "        <td>8.75666666667</td>\n",
       "    </tr>\n",
       "    <tr>\n",
       "        <td>Norway</td>\n",
       "        <td>3.726</td>\n",
       "    </tr>\n",
       "    <tr>\n",
       "        <td>Poland</td>\n",
       "        <td>7.25</td>\n",
       "    </tr>\n",
       "    <tr>\n",
       "        <td>Portugal</td>\n",
       "        <td>14.47</td>\n",
       "    </tr>\n",
       "    <tr>\n",
       "        <td>Romania</td>\n",
       "        <td>9.22444444444</td>\n",
       "    </tr>\n",
       "    <tr>\n",
       "        <td>Serbia</td>\n",
       "        <td>9.85</td>\n",
       "    </tr>\n",
       "    <tr>\n",
       "        <td>Slovakia</td>\n",
       "        <td>8.48</td>\n",
       "    </tr>\n",
       "    <tr>\n",
       "        <td>Slovenia</td>\n",
       "        <td>9.27</td>\n",
       "    </tr>\n",
       "    <tr>\n",
       "        <td>Spain</td>\n",
       "        <td>14.2383333333</td>\n",
       "    </tr>\n",
       "    <tr>\n",
       "        <td>Sweden</td>\n",
       "        <td>3.58666666667</td>\n",
       "    </tr>\n",
       "    <tr>\n",
       "        <td>Switzerland</td>\n",
       "        <td>7.25333333333</td>\n",
       "    </tr>\n",
       "    <tr>\n",
       "        <td>Turkey</td>\n",
       "        <td>11.7266666667</td>\n",
       "    </tr>\n",
       "    <tr>\n",
       "        <td>Ukraine</td>\n",
       "        <td>7.42</td>\n",
       "    </tr>\n",
       "    <tr>\n",
       "        <td>United Kingdom</td>\n",
       "        <td>8.65</td>\n",
       "    </tr>\n",
       "</table>"
      ],
      "text/plain": [
       "[(u'Albania', 15.18),\n",
       " (u'Andorra', 9.6),\n",
       " (u'Austria', 6.144),\n",
       " (u'Belarus', 5.946666666666666),\n",
       " (u'Belgium', 9.65),\n",
       " (u'Bosnia and Herzegovina', 9.6),\n",
       " (u'Bulgaria', 10.44),\n",
       " (u'Croatia', 10.865),\n",
       " (u'Czech Republic', 7.8566666666666665),\n",
       " (u'Denmark', 7.625),\n",
       " (u'Estonia', 4.59),\n",
       " (u'Finland', 3.4875),\n",
       " (u'France', 10.151111111111112),\n",
       " (u'Germany', 7.869285714285714),\n",
       " (u'Greece', 16.9025),\n",
       " (u'Hungary', 9.6025),\n",
       " (u'Ireland', 9.299999999999999),\n",
       " (u'Italy', 13.474666666666668),\n",
       " (u'Latvia', 5.27),\n",
       " (u'Lithuania', 6.1433333333333335),\n",
       " (u'Macedonia', 9.36),\n",
       " (u'Moldova', 8.415),\n",
       " (u'Montenegro', 9.99),\n",
       " (u'Netherlands', 8.756666666666668),\n",
       " (u'Norway', 3.7260000000000004),\n",
       " (u'Poland', 7.250000000000002),\n",
       " (u'Portugal', 14.469999999999999),\n",
       " (u'Romania', 9.224444444444444),\n",
       " (u'Serbia', 9.85),\n",
       " (u'Slovakia', 8.48),\n",
       " (u'Slovenia', 9.27),\n",
       " (u'Spain', 14.238333333333332),\n",
       " (u'Sweden', 3.5866666666666673),\n",
       " (u'Switzerland', 7.253333333333333),\n",
       " (u'Turkey', 11.726666666666665),\n",
       " (u'Ukraine', 7.420000000000002),\n",
       " (u'United Kingdom', 8.649999999999999)]"
      ]
     },
     "execution_count": 53,
     "metadata": {},
     "output_type": "execute_result"
    }
   ],
   "source": [
    "%%sql\n",
    "select country, avg(temperature)\n",
    "from Cities\n",
    "group by country"
   ]
  },
  {
   "cell_type": "markdown",
   "metadata": {},
   "source": [
    "*Modify previous query to sort by descending average temperature*"
   ]
  },
  {
   "cell_type": "code",
   "execution_count": 55,
   "metadata": {},
   "outputs": [
    {
     "name": "stdout",
     "output_type": "stream",
     "text": [
      " * sqlite://\n",
      "Done.\n"
     ]
    },
    {
     "data": {
      "text/html": [
       "<table>\n",
       "    <tr>\n",
       "        <th>country</th>\n",
       "        <th>avg(temperature)</th>\n",
       "    </tr>\n",
       "    <tr>\n",
       "        <td>Greece</td>\n",
       "        <td>16.9025</td>\n",
       "    </tr>\n",
       "    <tr>\n",
       "        <td>Albania</td>\n",
       "        <td>15.18</td>\n",
       "    </tr>\n",
       "    <tr>\n",
       "        <td>Portugal</td>\n",
       "        <td>14.47</td>\n",
       "    </tr>\n",
       "    <tr>\n",
       "        <td>Spain</td>\n",
       "        <td>14.2383333333</td>\n",
       "    </tr>\n",
       "    <tr>\n",
       "        <td>Italy</td>\n",
       "        <td>13.4746666667</td>\n",
       "    </tr>\n",
       "    <tr>\n",
       "        <td>Turkey</td>\n",
       "        <td>11.7266666667</td>\n",
       "    </tr>\n",
       "    <tr>\n",
       "        <td>Croatia</td>\n",
       "        <td>10.865</td>\n",
       "    </tr>\n",
       "    <tr>\n",
       "        <td>Bulgaria</td>\n",
       "        <td>10.44</td>\n",
       "    </tr>\n",
       "    <tr>\n",
       "        <td>France</td>\n",
       "        <td>10.1511111111</td>\n",
       "    </tr>\n",
       "    <tr>\n",
       "        <td>Montenegro</td>\n",
       "        <td>9.99</td>\n",
       "    </tr>\n",
       "    <tr>\n",
       "        <td>Serbia</td>\n",
       "        <td>9.85</td>\n",
       "    </tr>\n",
       "    <tr>\n",
       "        <td>Belgium</td>\n",
       "        <td>9.65</td>\n",
       "    </tr>\n",
       "    <tr>\n",
       "        <td>Hungary</td>\n",
       "        <td>9.6025</td>\n",
       "    </tr>\n",
       "    <tr>\n",
       "        <td>Andorra</td>\n",
       "        <td>9.6</td>\n",
       "    </tr>\n",
       "    <tr>\n",
       "        <td>Bosnia and Herzegovina</td>\n",
       "        <td>9.6</td>\n",
       "    </tr>\n",
       "    <tr>\n",
       "        <td>Macedonia</td>\n",
       "        <td>9.36</td>\n",
       "    </tr>\n",
       "    <tr>\n",
       "        <td>Ireland</td>\n",
       "        <td>9.3</td>\n",
       "    </tr>\n",
       "    <tr>\n",
       "        <td>Slovenia</td>\n",
       "        <td>9.27</td>\n",
       "    </tr>\n",
       "    <tr>\n",
       "        <td>Romania</td>\n",
       "        <td>9.22444444444</td>\n",
       "    </tr>\n",
       "    <tr>\n",
       "        <td>Netherlands</td>\n",
       "        <td>8.75666666667</td>\n",
       "    </tr>\n",
       "    <tr>\n",
       "        <td>United Kingdom</td>\n",
       "        <td>8.65</td>\n",
       "    </tr>\n",
       "    <tr>\n",
       "        <td>Slovakia</td>\n",
       "        <td>8.48</td>\n",
       "    </tr>\n",
       "    <tr>\n",
       "        <td>Moldova</td>\n",
       "        <td>8.415</td>\n",
       "    </tr>\n",
       "    <tr>\n",
       "        <td>Germany</td>\n",
       "        <td>7.86928571429</td>\n",
       "    </tr>\n",
       "    <tr>\n",
       "        <td>Czech Republic</td>\n",
       "        <td>7.85666666667</td>\n",
       "    </tr>\n",
       "    <tr>\n",
       "        <td>Denmark</td>\n",
       "        <td>7.625</td>\n",
       "    </tr>\n",
       "    <tr>\n",
       "        <td>Ukraine</td>\n",
       "        <td>7.42</td>\n",
       "    </tr>\n",
       "    <tr>\n",
       "        <td>Switzerland</td>\n",
       "        <td>7.25333333333</td>\n",
       "    </tr>\n",
       "    <tr>\n",
       "        <td>Poland</td>\n",
       "        <td>7.25</td>\n",
       "    </tr>\n",
       "    <tr>\n",
       "        <td>Austria</td>\n",
       "        <td>6.144</td>\n",
       "    </tr>\n",
       "    <tr>\n",
       "        <td>Lithuania</td>\n",
       "        <td>6.14333333333</td>\n",
       "    </tr>\n",
       "    <tr>\n",
       "        <td>Belarus</td>\n",
       "        <td>5.94666666667</td>\n",
       "    </tr>\n",
       "    <tr>\n",
       "        <td>Latvia</td>\n",
       "        <td>5.27</td>\n",
       "    </tr>\n",
       "    <tr>\n",
       "        <td>Estonia</td>\n",
       "        <td>4.59</td>\n",
       "    </tr>\n",
       "    <tr>\n",
       "        <td>Norway</td>\n",
       "        <td>3.726</td>\n",
       "    </tr>\n",
       "    <tr>\n",
       "        <td>Sweden</td>\n",
       "        <td>3.58666666667</td>\n",
       "    </tr>\n",
       "    <tr>\n",
       "        <td>Finland</td>\n",
       "        <td>3.4875</td>\n",
       "    </tr>\n",
       "</table>"
      ],
      "text/plain": [
       "[(u'Greece', 16.9025),\n",
       " (u'Albania', 15.18),\n",
       " (u'Portugal', 14.469999999999999),\n",
       " (u'Spain', 14.238333333333332),\n",
       " (u'Italy', 13.474666666666668),\n",
       " (u'Turkey', 11.726666666666665),\n",
       " (u'Croatia', 10.865),\n",
       " (u'Bulgaria', 10.44),\n",
       " (u'France', 10.151111111111112),\n",
       " (u'Montenegro', 9.99),\n",
       " (u'Serbia', 9.85),\n",
       " (u'Belgium', 9.65),\n",
       " (u'Hungary', 9.6025),\n",
       " (u'Andorra', 9.6),\n",
       " (u'Bosnia and Herzegovina', 9.6),\n",
       " (u'Macedonia', 9.36),\n",
       " (u'Ireland', 9.299999999999999),\n",
       " (u'Slovenia', 9.27),\n",
       " (u'Romania', 9.224444444444444),\n",
       " (u'Netherlands', 8.756666666666668),\n",
       " (u'United Kingdom', 8.649999999999999),\n",
       " (u'Slovakia', 8.48),\n",
       " (u'Moldova', 8.415),\n",
       " (u'Germany', 7.869285714285714),\n",
       " (u'Czech Republic', 7.8566666666666665),\n",
       " (u'Denmark', 7.625),\n",
       " (u'Ukraine', 7.420000000000002),\n",
       " (u'Switzerland', 7.253333333333333),\n",
       " (u'Poland', 7.250000000000002),\n",
       " (u'Austria', 6.144),\n",
       " (u'Lithuania', 6.1433333333333335),\n",
       " (u'Belarus', 5.946666666666666),\n",
       " (u'Latvia', 5.27),\n",
       " (u'Estonia', 4.59),\n",
       " (u'Norway', 3.7260000000000004),\n",
       " (u'Sweden', 3.5866666666666673),\n",
       " (u'Finland', 3.4875)]"
      ]
     },
     "execution_count": 55,
     "metadata": {},
     "output_type": "execute_result"
    }
   ],
   "source": [
    "%%sql\n",
    "select country, avg(temperature)\n",
    "from Cities\n",
    "group by country\n",
    "order by avg(temperature) desc"
   ]
  },
  {
   "cell_type": "markdown",
   "metadata": {},
   "source": [
    "*Modify previous query to show countries only*"
   ]
  },
  {
   "cell_type": "code",
   "execution_count": 56,
   "metadata": {},
   "outputs": [
    {
     "name": "stdout",
     "output_type": "stream",
     "text": [
      " * sqlite://\n",
      "Done.\n"
     ]
    },
    {
     "data": {
      "text/html": [
       "<table>\n",
       "    <tr>\n",
       "        <th>country</th>\n",
       "    </tr>\n",
       "    <tr>\n",
       "        <td>Greece</td>\n",
       "    </tr>\n",
       "    <tr>\n",
       "        <td>Albania</td>\n",
       "    </tr>\n",
       "    <tr>\n",
       "        <td>Portugal</td>\n",
       "    </tr>\n",
       "    <tr>\n",
       "        <td>Spain</td>\n",
       "    </tr>\n",
       "    <tr>\n",
       "        <td>Italy</td>\n",
       "    </tr>\n",
       "    <tr>\n",
       "        <td>Turkey</td>\n",
       "    </tr>\n",
       "    <tr>\n",
       "        <td>Croatia</td>\n",
       "    </tr>\n",
       "    <tr>\n",
       "        <td>Bulgaria</td>\n",
       "    </tr>\n",
       "    <tr>\n",
       "        <td>France</td>\n",
       "    </tr>\n",
       "    <tr>\n",
       "        <td>Montenegro</td>\n",
       "    </tr>\n",
       "    <tr>\n",
       "        <td>Serbia</td>\n",
       "    </tr>\n",
       "    <tr>\n",
       "        <td>Belgium</td>\n",
       "    </tr>\n",
       "    <tr>\n",
       "        <td>Hungary</td>\n",
       "    </tr>\n",
       "    <tr>\n",
       "        <td>Andorra</td>\n",
       "    </tr>\n",
       "    <tr>\n",
       "        <td>Bosnia and Herzegovina</td>\n",
       "    </tr>\n",
       "    <tr>\n",
       "        <td>Macedonia</td>\n",
       "    </tr>\n",
       "    <tr>\n",
       "        <td>Ireland</td>\n",
       "    </tr>\n",
       "    <tr>\n",
       "        <td>Slovenia</td>\n",
       "    </tr>\n",
       "    <tr>\n",
       "        <td>Romania</td>\n",
       "    </tr>\n",
       "    <tr>\n",
       "        <td>Netherlands</td>\n",
       "    </tr>\n",
       "    <tr>\n",
       "        <td>United Kingdom</td>\n",
       "    </tr>\n",
       "    <tr>\n",
       "        <td>Slovakia</td>\n",
       "    </tr>\n",
       "    <tr>\n",
       "        <td>Moldova</td>\n",
       "    </tr>\n",
       "    <tr>\n",
       "        <td>Germany</td>\n",
       "    </tr>\n",
       "    <tr>\n",
       "        <td>Czech Republic</td>\n",
       "    </tr>\n",
       "    <tr>\n",
       "        <td>Denmark</td>\n",
       "    </tr>\n",
       "    <tr>\n",
       "        <td>Ukraine</td>\n",
       "    </tr>\n",
       "    <tr>\n",
       "        <td>Switzerland</td>\n",
       "    </tr>\n",
       "    <tr>\n",
       "        <td>Poland</td>\n",
       "    </tr>\n",
       "    <tr>\n",
       "        <td>Austria</td>\n",
       "    </tr>\n",
       "    <tr>\n",
       "        <td>Lithuania</td>\n",
       "    </tr>\n",
       "    <tr>\n",
       "        <td>Belarus</td>\n",
       "    </tr>\n",
       "    <tr>\n",
       "        <td>Latvia</td>\n",
       "    </tr>\n",
       "    <tr>\n",
       "        <td>Estonia</td>\n",
       "    </tr>\n",
       "    <tr>\n",
       "        <td>Norway</td>\n",
       "    </tr>\n",
       "    <tr>\n",
       "        <td>Sweden</td>\n",
       "    </tr>\n",
       "    <tr>\n",
       "        <td>Finland</td>\n",
       "    </tr>\n",
       "</table>"
      ],
      "text/plain": [
       "[(u'Greece',),\n",
       " (u'Albania',),\n",
       " (u'Portugal',),\n",
       " (u'Spain',),\n",
       " (u'Italy',),\n",
       " (u'Turkey',),\n",
       " (u'Croatia',),\n",
       " (u'Bulgaria',),\n",
       " (u'France',),\n",
       " (u'Montenegro',),\n",
       " (u'Serbia',),\n",
       " (u'Belgium',),\n",
       " (u'Hungary',),\n",
       " (u'Andorra',),\n",
       " (u'Bosnia and Herzegovina',),\n",
       " (u'Macedonia',),\n",
       " (u'Ireland',),\n",
       " (u'Slovenia',),\n",
       " (u'Romania',),\n",
       " (u'Netherlands',),\n",
       " (u'United Kingdom',),\n",
       " (u'Slovakia',),\n",
       " (u'Moldova',),\n",
       " (u'Germany',),\n",
       " (u'Czech Republic',),\n",
       " (u'Denmark',),\n",
       " (u'Ukraine',),\n",
       " (u'Switzerland',),\n",
       " (u'Poland',),\n",
       " (u'Austria',),\n",
       " (u'Lithuania',),\n",
       " (u'Belarus',),\n",
       " (u'Latvia',),\n",
       " (u'Estonia',),\n",
       " (u'Norway',),\n",
       " (u'Sweden',),\n",
       " (u'Finland',)]"
      ]
     },
     "execution_count": 56,
     "metadata": {},
     "output_type": "execute_result"
    }
   ],
   "source": [
    "%%sql\n",
    "select country\n",
    "from Cities\n",
    "group by country\n",
    "order by avg(temperature) desc"
   ]
  },
  {
   "cell_type": "markdown",
   "metadata": {},
   "source": [
    "*Find the average temperature for cities in countries with and without coastline*"
   ]
  },
  {
   "cell_type": "code",
   "execution_count": 57,
   "metadata": {},
   "outputs": [
    {
     "name": "stdout",
     "output_type": "stream",
     "text": [
      " * sqlite://\n",
      "Done.\n"
     ]
    },
    {
     "data": {
      "text/html": [
       "<table>\n",
       "    <tr>\n",
       "        <th>coastline</th>\n",
       "        <th>avg(temperature)</th>\n",
       "    </tr>\n",
       "    <tr>\n",
       "        <td>no</td>\n",
       "        <td>7.748</td>\n",
       "    </tr>\n",
       "    <tr>\n",
       "        <td>yes</td>\n",
       "        <td>9.78469945355</td>\n",
       "    </tr>\n",
       "</table>"
      ],
      "text/plain": [
       "[(u'no', 7.748000000000001), (u'yes', 9.784699453551914)]"
      ]
     },
     "execution_count": 57,
     "metadata": {},
     "output_type": "execute_result"
    }
   ],
   "source": [
    "%%sql\n",
    "select coastline, avg(temperature)\n",
    "from Cities, Countries\n",
    "where Cities.country = Countries.country\n",
    "group by coastline"
   ]
  },
  {
   "cell_type": "markdown",
   "metadata": {},
   "source": [
    "*Modify previous query to find the average temperature for cities in the EU and not in the EU, then all combinations of coastline and EU*"
   ]
  },
  {
   "cell_type": "code",
   "execution_count": 60,
   "metadata": {},
   "outputs": [
    {
     "name": "stdout",
     "output_type": "stream",
     "text": [
      " * sqlite://\n",
      "Done.\n"
     ]
    },
    {
     "data": {
      "text/html": [
       "<table>\n",
       "    <tr>\n",
       "        <th>EU</th>\n",
       "        <th>avg(temperature)</th>\n",
       "    </tr>\n",
       "    <tr>\n",
       "        <td>no</td>\n",
       "        <td>9.03047619048</td>\n",
       "    </tr>\n",
       "    <tr>\n",
       "        <td>yes</td>\n",
       "        <td>9.69413333333</td>\n",
       "    </tr>\n",
       "</table>"
      ],
      "text/plain": [
       "[(u'no', 9.030476190476188), (u'yes', 9.694133333333333)]"
      ]
     },
     "execution_count": 60,
     "metadata": {},
     "output_type": "execute_result"
    }
   ],
   "source": [
    "%%sql\n",
    "select EU, avg(temperature)\n",
    "from Cities, Countries\n",
    "where Cities.country = Countries.country\n",
    "group by EU"
   ]
  },
  {
   "cell_type": "code",
   "execution_count": 61,
   "metadata": {},
   "outputs": [
    {
     "name": "stdout",
     "output_type": "stream",
     "text": [
      " * sqlite://\n",
      "Done.\n"
     ]
    },
    {
     "data": {
      "text/html": [
       "<table>\n",
       "    <tr>\n",
       "        <th>coastline</th>\n",
       "        <th>EU</th>\n",
       "        <th>avg(temperature)</th>\n",
       "    </tr>\n",
       "    <tr>\n",
       "        <td>no</td>\n",
       "        <td>no</td>\n",
       "        <td>7.67375</td>\n",
       "    </tr>\n",
       "    <tr>\n",
       "        <td>no</td>\n",
       "        <td>yes</td>\n",
       "        <td>7.83285714286</td>\n",
       "    </tr>\n",
       "    <tr>\n",
       "        <td>yes</td>\n",
       "        <td>no</td>\n",
       "        <td>9.49234042553</td>\n",
       "    </tr>\n",
       "    <tr>\n",
       "        <td>yes</td>\n",
       "        <td>yes</td>\n",
       "        <td>9.88573529412</td>\n",
       "    </tr>\n",
       "</table>"
      ],
      "text/plain": [
       "[(u'no', u'no', 7.67375),\n",
       " (u'no', u'yes', 7.832857142857144),\n",
       " (u'yes', u'no', 9.492340425531914),\n",
       " (u'yes', u'yes', 9.885735294117652)]"
      ]
     },
     "execution_count": 61,
     "metadata": {},
     "output_type": "execute_result"
    }
   ],
   "source": [
    "%%sql\n",
    "select coastline, EU, avg(temperature)\n",
    "from Cities, Countries\n",
    "where Cities.country = Countries.country\n",
    "group by coastline, EU"
   ]
  },
  {
   "cell_type": "markdown",
   "metadata": {},
   "source": [
    "*Modify previous query to only include cities with latitude < 50, then latitude < 40*"
   ]
  },
  {
   "cell_type": "code",
   "execution_count": 62,
   "metadata": {},
   "outputs": [
    {
     "name": "stdout",
     "output_type": "stream",
     "text": [
      " * sqlite://\n",
      "Done.\n"
     ]
    },
    {
     "data": {
      "text/html": [
       "<table>\n",
       "    <tr>\n",
       "        <th>coastline</th>\n",
       "        <th>EU</th>\n",
       "        <th>avg(temperature)</th>\n",
       "    </tr>\n",
       "    <tr>\n",
       "        <td>no</td>\n",
       "        <td>no</td>\n",
       "        <td>8.71</td>\n",
       "    </tr>\n",
       "    <tr>\n",
       "        <td>no</td>\n",
       "        <td>yes</td>\n",
       "        <td>7.81615384615</td>\n",
       "    </tr>\n",
       "    <tr>\n",
       "        <td>yes</td>\n",
       "        <td>no</td>\n",
       "        <td>10.6756756757</td>\n",
       "    </tr>\n",
       "    <tr>\n",
       "        <td>yes</td>\n",
       "        <td>yes</td>\n",
       "        <td>11.9280769231</td>\n",
       "    </tr>\n",
       "</table>"
      ],
      "text/plain": [
       "[(u'no', u'no', 8.709999999999999),\n",
       " (u'no', u'yes', 7.816153846153847),\n",
       " (u'yes', u'no', 10.675675675675675),\n",
       " (u'yes', u'yes', 11.928076923076924)]"
      ]
     },
     "execution_count": 62,
     "metadata": {},
     "output_type": "execute_result"
    }
   ],
   "source": [
    "%%sql\n",
    "select coastline, EU, avg(temperature)\n",
    "from Cities, Countries\n",
    "where Cities.country = Countries.country\n",
    "and latitude < 50\n",
    "group by coastline, EU"
   ]
  },
  {
   "cell_type": "code",
   "execution_count": 63,
   "metadata": {},
   "outputs": [
    {
     "name": "stdout",
     "output_type": "stream",
     "text": [
      " * sqlite://\n",
      "Done.\n"
     ]
    },
    {
     "data": {
      "text/html": [
       "<table>\n",
       "    <tr>\n",
       "        <th>coastline</th>\n",
       "        <th>EU</th>\n",
       "        <th>avg(temperature)</th>\n",
       "    </tr>\n",
       "    <tr>\n",
       "        <td>yes</td>\n",
       "        <td>no</td>\n",
       "        <td>11.766875</td>\n",
       "    </tr>\n",
       "    <tr>\n",
       "        <td>yes</td>\n",
       "        <td>yes</td>\n",
       "        <td>16.3205555556</td>\n",
       "    </tr>\n",
       "</table>"
      ],
      "text/plain": [
       "[(u'yes', u'no', 11.766875), (u'yes', u'yes', 16.320555555555554)]"
      ]
     },
     "execution_count": 63,
     "metadata": {},
     "output_type": "execute_result"
    }
   ],
   "source": [
    "%%sql\n",
    "select coastline, EU, avg(temperature)\n",
    "from Cities, Countries\n",
    "where Cities.country = Countries.country\n",
    "and latitude < 40\n",
    "group by coastline, EU"
   ]
  },
  {
   "cell_type": "markdown",
   "metadata": {},
   "source": [
    "### <font color = 'green'>Your Turn</font>"
   ]
  },
  {
   "cell_type": "markdown",
   "metadata": {},
   "source": [
    "*For each country in the EU, find the latitude of the northernmost city in the country, i.e., the maximum latitude. Return the country and its maximum latitude, in descending order of maximum latitude.*"
   ]
  },
  {
   "cell_type": "code",
   "execution_count": null,
   "metadata": {},
   "outputs": [],
   "source": [
    "%%sql\n",
    "YOUR QUERY HERE"
   ]
  },
  {
   "cell_type": "markdown",
   "metadata": {},
   "source": [
    "### The Limit clause"
   ]
  },
  {
   "cell_type": "markdown",
   "metadata": {},
   "source": [
    "*Return any three countries with population > 20*"
   ]
  },
  {
   "cell_type": "code",
   "execution_count": null,
   "metadata": {},
   "outputs": [],
   "source": [
    "%%sql\n",
    "select country\n",
    "from Countries\n",
    "where population > 20\n",
    "limit 3"
   ]
  },
  {
   "cell_type": "markdown",
   "metadata": {},
   "source": [
    "*Find the ten coldest cities*"
   ]
  },
  {
   "cell_type": "code",
   "execution_count": null,
   "metadata": {},
   "outputs": [],
   "source": [
    "%%sql\n",
    "select city, temperature\n",
    "from Cities\n",
    "order by temperature\n",
    "limit 10"
   ]
  },
  {
   "cell_type": "markdown",
   "metadata": {},
   "source": [
    "### <font color = 'green'>Your Turn - Basic SQL on World Cup Data</font>"
   ]
  },
  {
   "cell_type": "markdown",
   "metadata": {},
   "source": [
    "#### Look at sample of Players and Teams tables"
   ]
  },
  {
   "cell_type": "code",
   "execution_count": null,
   "metadata": {},
   "outputs": [],
   "source": [
    "%%sql\n",
    "select * from Players limit 5"
   ]
  },
  {
   "cell_type": "code",
   "execution_count": null,
   "metadata": {},
   "outputs": [],
   "source": [
    "%%sql\n",
    "select * from Teams limit 5"
   ]
  },
  {
   "cell_type": "markdown",
   "metadata": {
    "collapsed": true
   },
   "source": [
    "*1)  What player on a team with “ia” in the team name played less than 200 minutes and made more than 100 passes? Return the player surname. Note: To check if attribute A contains string S use \"A like '%S%'\"*"
   ]
  },
  {
   "cell_type": "code",
   "execution_count": null,
   "metadata": {},
   "outputs": [],
   "source": [
    "%%sql\n",
    "YOUR QUERY HERE"
   ]
  },
  {
   "cell_type": "markdown",
   "metadata": {
    "collapsed": true
   },
   "source": [
    "*2) Find all players who made more than 20 shots. Return all player information in descending order of shots made.*"
   ]
  },
  {
   "cell_type": "code",
   "execution_count": null,
   "metadata": {},
   "outputs": [],
   "source": [
    "%%sql\n",
    "YOUR QUERY HERE"
   ]
  },
  {
   "cell_type": "markdown",
   "metadata": {
    "collapsed": true
   },
   "source": [
    "*3) Find the goalkeepers of teams that played more than four games. List the surname of the goalkeeper, the team, and the number of minutes the goalkeeper played.*"
   ]
  },
  {
   "cell_type": "code",
   "execution_count": null,
   "metadata": {},
   "outputs": [],
   "source": [
    "%%sql\n",
    "YOUR QUERY HERE"
   ]
  },
  {
   "cell_type": "markdown",
   "metadata": {
    "collapsed": true
   },
   "source": [
    "*4) How many players who play on a team with ranking <10 played more than 350 minutes? Return one number in a column named 'superstar'.*"
   ]
  },
  {
   "cell_type": "code",
   "execution_count": null,
   "metadata": {},
   "outputs": [],
   "source": [
    "%%sql\n",
    "YOUR QUERY HERE"
   ]
  },
  {
   "cell_type": "markdown",
   "metadata": {
    "collapsed": true
   },
   "source": [
    "*5) What is the average number of passes made by forwards? By midfielders? Write one query that gives both values.*"
   ]
  },
  {
   "cell_type": "code",
   "execution_count": null,
   "metadata": {},
   "outputs": [],
   "source": [
    "%%sql\n",
    "YOUR QUERY HERE"
   ]
  },
  {
   "cell_type": "markdown",
   "metadata": {
    "collapsed": true
   },
   "source": [
    "*6) Which team has the highest average number of passes per minute played? Return the team and average passes per minute. Hints: (1) You can compute a team's average number of passes per minute played by dividing the total number of passes by the total number of minutes. To force floating point division, multiply one operand by 1.0. (2) Consider using Limit.*"
   ]
  },
  {
   "cell_type": "code",
   "execution_count": null,
   "metadata": {},
   "outputs": [],
   "source": [
    "%%sql\n",
    "YOUR QUERY HERE"
   ]
  }
 ],
 "metadata": {
  "kernelspec": {
   "display_name": "Python 2",
   "language": "python",
   "name": "python2"
  },
  "language_info": {
   "codemirror_mode": {
    "name": "ipython",
    "version": 2
   },
   "file_extension": ".py",
   "mimetype": "text/x-python",
   "name": "python",
   "nbconvert_exporter": "python",
   "pygments_lexer": "ipython2",
   "version": "2.7.14"
  }
 },
 "nbformat": 4,
 "nbformat_minor": 1
}

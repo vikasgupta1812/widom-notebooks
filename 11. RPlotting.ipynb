{
 "cells": [
  {
   "cell_type": "markdown",
   "metadata": {},
   "source": [
    "### The R Language: Plotting"
   ]
  },
  {
   "cell_type": "code",
   "execution_count": null,
   "metadata": {
    "collapsed": true
   },
   "outputs": [],
   "source": [
    "%load_ext rpy2.ipython"
   ]
  },
  {
   "cell_type": "code",
   "execution_count": null,
   "metadata": {
    "collapsed": true
   },
   "outputs": [],
   "source": [
    "# For compatibility across multiple platforms\n",
    "import os\n",
    "IB = os.environ.get('INSTABASE_URI',None) is not None\n",
    "open = ib.open if IB else open"
   ]
  },
  {
   "cell_type": "markdown",
   "metadata": {},
   "source": [
    "#### Open CSV files and load data into data frames"
   ]
  },
  {
   "cell_type": "code",
   "execution_count": null,
   "metadata": {
    "collapsed": true
   },
   "outputs": [],
   "source": [
    "C1 = open('Cities.csv').read()\n",
    "C2 = open('Countries.csv').read()\n",
    "P = open('Players.csv').read()\n",
    "T = open('Teams.csv').read()"
   ]
  },
  {
   "cell_type": "code",
   "execution_count": null,
   "metadata": {
    "collapsed": true
   },
   "outputs": [],
   "source": [
    "%%R -i C1 -i C2 -i P -i T\n",
    "cities <- read.csv(text=C1)\n",
    "countries <- read.csv(text=C2)\n",
    "players <- read.csv(text=P)\n",
    "teams <- read.csv(text=T)"
   ]
  },
  {
   "cell_type": "markdown",
   "metadata": {},
   "source": [
    "#### Scatterplots"
   ]
  },
  {
   "cell_type": "markdown",
   "metadata": {},
   "source": [
    "*Temperature versus latitude*"
   ]
  },
  {
   "cell_type": "code",
   "execution_count": null,
   "metadata": {
    "collapsed": true
   },
   "outputs": [],
   "source": [
    "%%R\n",
    "plot(cities$latitude, cities$temperature)\n",
    "# add xlab='latitude', ylab='temperature', col='blue', pch=16"
   ]
  },
  {
   "cell_type": "markdown",
   "metadata": {},
   "source": [
    "*Latitude versus longitude colored by temperature*"
   ]
  },
  {
   "cell_type": "code",
   "execution_count": null,
   "metadata": {
    "collapsed": true
   },
   "outputs": [],
   "source": [
    "%%R\n",
    "for (i in 1:nrow(cities))\n",
    "{ if (cities[i,'temperature'] < 7) cities[i,'category'] <- 1\n",
    "  else if (cities[i,'temperature'] < 11) cities[i,'category'] <- 2\n",
    "  else cities[i,'category'] <- 3\n",
    "}\n",
    "plot(cities$longitude, cities$latitude, xlab='longitude', ylab='latitude',\n",
    "     col=c('blue','yellow','red')[cities$category], pch=16)"
   ]
  },
  {
   "cell_type": "markdown",
   "metadata": {
    "collapsed": true
   },
   "source": [
    "#### Bar charts"
   ]
  },
  {
   "cell_type": "markdown",
   "metadata": {
    "collapsed": true
   },
   "source": [
    "*Bar chart showing populations of countries with 'ia' in their name*"
   ]
  },
  {
   "cell_type": "code",
   "execution_count": null,
   "metadata": {
    "collapsed": true
   },
   "outputs": [],
   "source": [
    "%%R\n",
    "bars <- countries[grepl('ia',countries$country), 'country']\n",
    "heights <- countries[grepl('ia',countries$country), 'population']\n",
    "barplot(heights, names.arg=bars, xlab='country', ylab='population', col='blue')\n",
    "# add las=2 for vertical labels"
   ]
  },
  {
   "cell_type": "markdown",
   "metadata": {
    "collapsed": true
   },
   "source": [
    "#### Pie charts"
   ]
  },
  {
   "cell_type": "markdown",
   "metadata": {
    "collapsed": true
   },
   "source": [
    "*Pie chart showing number of EU countries versus non-EU countries*"
   ]
  },
  {
   "cell_type": "code",
   "execution_count": null,
   "metadata": {
    "collapsed": true
   },
   "outputs": [],
   "source": [
    "%%R\n",
    "slices <- c(nrow(countries[countries$EU == 'yes', ]),\n",
    "            nrow(countries[countries$EU == 'no', ]))\n",
    "labels <- c('EU', 'not EU')\n",
    "pie(slices, labels)\n",
    "# add col=c('blue','red')"
   ]
  },
  {
   "cell_type": "markdown",
   "metadata": {},
   "source": [
    "### <font color='green'>Your Turn: World Cup Data</font>"
   ]
  },
  {
   "cell_type": "markdown",
   "metadata": {},
   "source": [
    "*Create a scatterplot of players showing passes made (y-axis) versus minutes played (x-axis). Color each player based on their position (goalkeeper, defender, midfielder, forward).*"
   ]
  },
  {
   "cell_type": "code",
   "execution_count": null,
   "metadata": {
    "collapsed": true
   },
   "outputs": [],
   "source": [
    "%%R\n",
    "YOUR CODE HERE"
   ]
  },
  {
   "cell_type": "markdown",
   "metadata": {},
   "source": [
    "*Create a bar chart showing the number of teams with 0, 1, and 2 red cards.*"
   ]
  },
  {
   "cell_type": "code",
   "execution_count": null,
   "metadata": {
    "collapsed": true
   },
   "outputs": [],
   "source": [
    "%%R\n",
    "YOUR CODE HERE"
   ]
  },
  {
   "cell_type": "markdown",
   "metadata": {},
   "source": [
    "*Create a pie chart showing the relative percentage of teams\n",
    "with 0, 1, and 2 red cards.*"
   ]
  },
  {
   "cell_type": "code",
   "execution_count": null,
   "metadata": {
    "collapsed": true
   },
   "outputs": [],
   "source": [
    "%%R\n",
    "YOUR CODE HERE"
   ]
  }
 ],
 "metadata": {
  "kernelspec": {
   "display_name": "Python 2",
   "language": "python",
   "name": "python2"
  },
  "language_info": {
   "codemirror_mode": {
    "name": "ipython",
    "version": 2
   },
   "file_extension": ".py",
   "mimetype": "text/x-python",
   "name": "python",
   "nbconvert_exporter": "python",
   "pygments_lexer": "ipython2",
   "version": "2.7.13"
  }
 },
 "nbformat": 4,
 "nbformat_minor": 1
}

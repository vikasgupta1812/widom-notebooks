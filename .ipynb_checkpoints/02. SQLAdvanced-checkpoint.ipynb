{
 "cells": [
  {
   "cell_type": "markdown",
   "metadata": {},
   "source": [
    "### Advanced SQL"
   ]
  },
  {
   "cell_type": "code",
   "execution_count": 1,
   "metadata": {},
   "outputs": [
    {
     "name": "stdout",
     "output_type": "stream",
     "text": [
      "\u001b[31mfastlmm 0.2.32 requires dill, which is not installed.\u001b[0m\r\n",
      "\u001b[31mgrin 1.2.1 requires argparse>=1.1, which is not installed.\u001b[0m\r\n",
      "\u001b[31mgrpcio 1.11.0 has requirement protobuf>=3.5.0.post1, but you'll have protobuf 3.4.1 which is incompatible.\u001b[0m\r\n"
     ]
    }
   ],
   "source": [
    "!pip install --quiet ipython-sql"
   ]
  },
  {
   "cell_type": "code",
   "execution_count": 2,
   "metadata": {},
   "outputs": [
    {
     "data": {
      "text/plain": [
       "'Connected: @None'"
      ]
     },
     "execution_count": 2,
     "metadata": {},
     "output_type": "execute_result"
    }
   ],
   "source": [
    "import pandas as pd\n",
    "%load_ext sql\n",
    "%sql sqlite://"
   ]
  },
  {
   "cell_type": "code",
   "execution_count": 3,
   "metadata": {},
   "outputs": [],
   "source": [
    "# For compatibility across multiple platforms\n",
    "import os\n",
    "#IB = os.environ.get('INSTABASE_URI',None) is not None\n",
    "#open = ib.open if IB else open"
   ]
  },
  {
   "cell_type": "code",
   "execution_count": 4,
   "metadata": {},
   "outputs": [
    {
     "name": "stdout",
     "output_type": "stream",
     "text": [
      " * sqlite://\n",
      "Done.\n",
      " * sqlite://\n",
      " * sqlite://\n",
      "Done.\n",
      " * sqlite://\n",
      " * sqlite://\n",
      "Done.\n",
      " * sqlite://\n",
      " * sqlite://\n",
      "Done.\n",
      " * sqlite://\n"
     ]
    },
    {
     "data": {
      "text/plain": [
       "u'Persisted teams'"
      ]
     },
     "execution_count": 4,
     "metadata": {},
     "output_type": "execute_result"
    }
   ],
   "source": [
    "# Load tables from CSV files\n",
    "# Cities\n",
    "with open('Cities.csv','rU') as f:\n",
    "    Cities = pd.read_csv(f, index_col=0, encoding='utf-8')\n",
    "%sql drop table if exists Cities;\n",
    "%sql persist Cities\n",
    "# Countries\n",
    "with open('Countries.csv','rU') as f:\n",
    "    Countries = pd.read_csv(f, index_col=0, encoding='utf-8')\n",
    "%sql drop table if exists Countries;\n",
    "%sql persist Countries\n",
    "# Players\n",
    "with open('Players.csv','rU') as f:\n",
    "    Players = pd.read_csv(f, index_col=0, encoding='utf-8')\n",
    "%sql drop table if exists Players;\n",
    "%sql persist Players\n",
    "# Teams\n",
    "with open('Teams.csv','rU') as f:\n",
    "    Teams = pd.read_csv(f, index_col=0, encoding='utf-8')\n",
    "%sql drop table if exists Teams;\n",
    "%sql persist Teams"
   ]
  },
  {
   "cell_type": "markdown",
   "metadata": {},
   "source": [
    "#### Look at sample of Cities and Countries tables"
   ]
  },
  {
   "cell_type": "code",
   "execution_count": 5,
   "metadata": {},
   "outputs": [
    {
     "name": "stdout",
     "output_type": "stream",
     "text": [
      " * sqlite://\n",
      "Done.\n"
     ]
    },
    {
     "data": {
      "text/html": [
       "<table>\n",
       "    <tr>\n",
       "        <th>city</th>\n",
       "        <th>country</th>\n",
       "        <th>latitude</th>\n",
       "        <th>longitude</th>\n",
       "        <th>temperature</th>\n",
       "    </tr>\n",
       "    <tr>\n",
       "        <td>Aalborg</td>\n",
       "        <td>Denmark</td>\n",
       "        <td>57.03</td>\n",
       "        <td>9.92</td>\n",
       "        <td>7.52</td>\n",
       "    </tr>\n",
       "    <tr>\n",
       "        <td>Aberdeen</td>\n",
       "        <td>United Kingdom</td>\n",
       "        <td>57.17</td>\n",
       "        <td>-2.08</td>\n",
       "        <td>8.1</td>\n",
       "    </tr>\n",
       "    <tr>\n",
       "        <td>Abisko</td>\n",
       "        <td>Sweden</td>\n",
       "        <td>63.35</td>\n",
       "        <td>18.83</td>\n",
       "        <td>0.2</td>\n",
       "    </tr>\n",
       "    <tr>\n",
       "        <td>Adana</td>\n",
       "        <td>Turkey</td>\n",
       "        <td>36.99</td>\n",
       "        <td>35.32</td>\n",
       "        <td>18.67</td>\n",
       "    </tr>\n",
       "    <tr>\n",
       "        <td>Albacete</td>\n",
       "        <td>Spain</td>\n",
       "        <td>39.0</td>\n",
       "        <td>-1.87</td>\n",
       "        <td>12.62</td>\n",
       "    </tr>\n",
       "</table>"
      ],
      "text/plain": [
       "[(u'Aalborg', u'Denmark', 57.03, 9.92, 7.52),\n",
       " (u'Aberdeen', u'United Kingdom', 57.17, -2.08, 8.1),\n",
       " (u'Abisko', u'Sweden', 63.35, 18.83, 0.2),\n",
       " (u'Adana', u'Turkey', 36.99, 35.32, 18.67),\n",
       " (u'Albacete', u'Spain', 39.0, -1.87, 12.62)]"
      ]
     },
     "execution_count": 5,
     "metadata": {},
     "output_type": "execute_result"
    }
   ],
   "source": [
    "%%sql\n",
    "select * from Cities limit 5"
   ]
  },
  {
   "cell_type": "code",
   "execution_count": 6,
   "metadata": {},
   "outputs": [
    {
     "name": "stdout",
     "output_type": "stream",
     "text": [
      " * sqlite://\n",
      "Done.\n"
     ]
    },
    {
     "data": {
      "text/html": [
       "<table>\n",
       "    <tr>\n",
       "        <th>country</th>\n",
       "        <th>population</th>\n",
       "        <th>EU</th>\n",
       "        <th>coastline</th>\n",
       "    </tr>\n",
       "    <tr>\n",
       "        <td>Albania</td>\n",
       "        <td>2.9</td>\n",
       "        <td>no</td>\n",
       "        <td>yes</td>\n",
       "    </tr>\n",
       "    <tr>\n",
       "        <td>Andorra</td>\n",
       "        <td>0.07</td>\n",
       "        <td>no</td>\n",
       "        <td>no</td>\n",
       "    </tr>\n",
       "    <tr>\n",
       "        <td>Austria</td>\n",
       "        <td>8.57</td>\n",
       "        <td>yes</td>\n",
       "        <td>no</td>\n",
       "    </tr>\n",
       "    <tr>\n",
       "        <td>Belarus</td>\n",
       "        <td>9.48</td>\n",
       "        <td>no</td>\n",
       "        <td>no</td>\n",
       "    </tr>\n",
       "    <tr>\n",
       "        <td>Belgium</td>\n",
       "        <td>11.37</td>\n",
       "        <td>yes</td>\n",
       "        <td>yes</td>\n",
       "    </tr>\n",
       "</table>"
      ],
      "text/plain": [
       "[(u'Albania', 2.9, u'no', u'yes'),\n",
       " (u'Andorra', 0.07, u'no', u'no'),\n",
       " (u'Austria', 8.57, u'yes', u'no'),\n",
       " (u'Belarus', 9.48, u'no', u'no'),\n",
       " (u'Belgium', 11.37, u'yes', u'yes')]"
      ]
     },
     "execution_count": 6,
     "metadata": {},
     "output_type": "execute_result"
    }
   ],
   "source": [
    "%%sql\n",
    "select * from Countries limit 5"
   ]
  },
  {
   "cell_type": "markdown",
   "metadata": {},
   "source": [
    "### Duplicates, table variables"
   ]
  },
  {
   "cell_type": "markdown",
   "metadata": {},
   "source": [
    "*Warm-up: Find all cities in the EU with temperature > 15*"
   ]
  },
  {
   "cell_type": "code",
   "execution_count": 7,
   "metadata": {},
   "outputs": [
    {
     "name": "stdout",
     "output_type": "stream",
     "text": [
      " * sqlite://\n",
      "Done.\n"
     ]
    },
    {
     "data": {
      "text/html": [
       "<table>\n",
       "    <tr>\n",
       "        <th>city</th>\n",
       "    </tr>\n",
       "    <tr>\n",
       "        <td>Algeciras</td>\n",
       "    </tr>\n",
       "    <tr>\n",
       "        <td>Athens</td>\n",
       "    </tr>\n",
       "    <tr>\n",
       "        <td>Badajoz</td>\n",
       "    </tr>\n",
       "    <tr>\n",
       "        <td>Barcelona</td>\n",
       "    </tr>\n",
       "    <tr>\n",
       "        <td>Bari</td>\n",
       "    </tr>\n",
       "    <tr>\n",
       "        <td>Cartagena</td>\n",
       "    </tr>\n",
       "    <tr>\n",
       "        <td>Catania</td>\n",
       "    </tr>\n",
       "    <tr>\n",
       "        <td>Cosenza</td>\n",
       "    </tr>\n",
       "    <tr>\n",
       "        <td>Granada</td>\n",
       "    </tr>\n",
       "    <tr>\n",
       "        <td>Huelva</td>\n",
       "    </tr>\n",
       "    <tr>\n",
       "        <td>Kalamata</td>\n",
       "    </tr>\n",
       "    <tr>\n",
       "        <td>Lisbon</td>\n",
       "    </tr>\n",
       "    <tr>\n",
       "        <td>Marbella</td>\n",
       "    </tr>\n",
       "    <tr>\n",
       "        <td>Messina</td>\n",
       "    </tr>\n",
       "    <tr>\n",
       "        <td>Palermo</td>\n",
       "    </tr>\n",
       "    <tr>\n",
       "        <td>Patras</td>\n",
       "    </tr>\n",
       "    <tr>\n",
       "        <td>Pescara</td>\n",
       "    </tr>\n",
       "    <tr>\n",
       "        <td>Rome</td>\n",
       "    </tr>\n",
       "    <tr>\n",
       "        <td>Trikala</td>\n",
       "    </tr>\n",
       "    <tr>\n",
       "        <td>Valencia</td>\n",
       "    </tr>\n",
       "</table>"
      ],
      "text/plain": [
       "[(u'Algeciras',),\n",
       " (u'Athens',),\n",
       " (u'Badajoz',),\n",
       " (u'Barcelona',),\n",
       " (u'Bari',),\n",
       " (u'Cartagena',),\n",
       " (u'Catania',),\n",
       " (u'Cosenza',),\n",
       " (u'Granada',),\n",
       " (u'Huelva',),\n",
       " (u'Kalamata',),\n",
       " (u'Lisbon',),\n",
       " (u'Marbella',),\n",
       " (u'Messina',),\n",
       " (u'Palermo',),\n",
       " (u'Patras',),\n",
       " (u'Pescara',),\n",
       " (u'Rome',),\n",
       " (u'Trikala',),\n",
       " (u'Valencia',)]"
      ]
     },
     "execution_count": 7,
     "metadata": {},
     "output_type": "execute_result"
    }
   ],
   "source": [
    "%%sql\n",
    "select city\n",
    "from Cities, Countries\n",
    "where Cities.country = Countries.country\n",
    "and EU = 'yes' and temperature > 15"
   ]
  },
  {
   "cell_type": "markdown",
   "metadata": {},
   "source": [
    "*Modify previous query to return EU countries that have a city with temperature > 15, remove duplicates*"
   ]
  },
  {
   "cell_type": "markdown",
   "metadata": {},
   "source": [
    "*Find number of countries that have a city with latitude > 60 (start with country list then fix)*"
   ]
  },
  {
   "cell_type": "code",
   "execution_count": 8,
   "metadata": {},
   "outputs": [
    {
     "name": "stdout",
     "output_type": "stream",
     "text": [
      " * sqlite://\n",
      "Done.\n"
     ]
    },
    {
     "data": {
      "text/html": [
       "<table>\n",
       "    <tr>\n",
       "        <th>country</th>\n",
       "    </tr>\n",
       "    <tr>\n",
       "        <td>Sweden</td>\n",
       "    </tr>\n",
       "    <tr>\n",
       "        <td>Norway</td>\n",
       "    </tr>\n",
       "    <tr>\n",
       "        <td>Norway</td>\n",
       "    </tr>\n",
       "    <tr>\n",
       "        <td>Finland</td>\n",
       "    </tr>\n",
       "    <tr>\n",
       "        <td>Sweden</td>\n",
       "    </tr>\n",
       "    <tr>\n",
       "        <td>Finland</td>\n",
       "    </tr>\n",
       "    <tr>\n",
       "        <td>Finland</td>\n",
       "    </tr>\n",
       "    <tr>\n",
       "        <td>Norway</td>\n",
       "    </tr>\n",
       "    <tr>\n",
       "        <td>Finland</td>\n",
       "    </tr>\n",
       "</table>"
      ],
      "text/plain": [
       "[(u'Sweden',),\n",
       " (u'Norway',),\n",
       " (u'Norway',),\n",
       " (u'Finland',),\n",
       " (u'Sweden',),\n",
       " (u'Finland',),\n",
       " (u'Finland',),\n",
       " (u'Norway',),\n",
       " (u'Finland',)]"
      ]
     },
     "execution_count": 8,
     "metadata": {},
     "output_type": "execute_result"
    }
   ],
   "source": [
    "%%sql\n",
    "select country\n",
    "from Cities\n",
    "where latitude > 60"
   ]
  },
  {
   "cell_type": "markdown",
   "metadata": {},
   "source": [
    "*Modify first query to use table variables*"
   ]
  },
  {
   "cell_type": "code",
   "execution_count": 9,
   "metadata": {},
   "outputs": [
    {
     "name": "stdout",
     "output_type": "stream",
     "text": [
      " * sqlite://\n",
      "Done.\n"
     ]
    },
    {
     "data": {
      "text/html": [
       "<table>\n",
       "    <tr>\n",
       "        <th>city</th>\n",
       "    </tr>\n",
       "    <tr>\n",
       "        <td>Algeciras</td>\n",
       "    </tr>\n",
       "    <tr>\n",
       "        <td>Athens</td>\n",
       "    </tr>\n",
       "    <tr>\n",
       "        <td>Badajoz</td>\n",
       "    </tr>\n",
       "    <tr>\n",
       "        <td>Barcelona</td>\n",
       "    </tr>\n",
       "    <tr>\n",
       "        <td>Bari</td>\n",
       "    </tr>\n",
       "    <tr>\n",
       "        <td>Cartagena</td>\n",
       "    </tr>\n",
       "    <tr>\n",
       "        <td>Catania</td>\n",
       "    </tr>\n",
       "    <tr>\n",
       "        <td>Cosenza</td>\n",
       "    </tr>\n",
       "    <tr>\n",
       "        <td>Granada</td>\n",
       "    </tr>\n",
       "    <tr>\n",
       "        <td>Huelva</td>\n",
       "    </tr>\n",
       "    <tr>\n",
       "        <td>Kalamata</td>\n",
       "    </tr>\n",
       "    <tr>\n",
       "        <td>Lisbon</td>\n",
       "    </tr>\n",
       "    <tr>\n",
       "        <td>Marbella</td>\n",
       "    </tr>\n",
       "    <tr>\n",
       "        <td>Messina</td>\n",
       "    </tr>\n",
       "    <tr>\n",
       "        <td>Palermo</td>\n",
       "    </tr>\n",
       "    <tr>\n",
       "        <td>Patras</td>\n",
       "    </tr>\n",
       "    <tr>\n",
       "        <td>Pescara</td>\n",
       "    </tr>\n",
       "    <tr>\n",
       "        <td>Rome</td>\n",
       "    </tr>\n",
       "    <tr>\n",
       "        <td>Trikala</td>\n",
       "    </tr>\n",
       "    <tr>\n",
       "        <td>Valencia</td>\n",
       "    </tr>\n",
       "</table>"
      ],
      "text/plain": [
       "[(u'Algeciras',),\n",
       " (u'Athens',),\n",
       " (u'Badajoz',),\n",
       " (u'Barcelona',),\n",
       " (u'Bari',),\n",
       " (u'Cartagena',),\n",
       " (u'Catania',),\n",
       " (u'Cosenza',),\n",
       " (u'Granada',),\n",
       " (u'Huelva',),\n",
       " (u'Kalamata',),\n",
       " (u'Lisbon',),\n",
       " (u'Marbella',),\n",
       " (u'Messina',),\n",
       " (u'Palermo',),\n",
       " (u'Patras',),\n",
       " (u'Pescara',),\n",
       " (u'Rome',),\n",
       " (u'Trikala',),\n",
       " (u'Valencia',)]"
      ]
     },
     "execution_count": 9,
     "metadata": {},
     "output_type": "execute_result"
    }
   ],
   "source": [
    "%%sql\n",
    "select city\n",
    "from Cities, Countries\n",
    "where Cities.country = Countries.country\n",
    "and EU = 'yes' and temperature > 15"
   ]
  },
  {
   "cell_type": "markdown",
   "metadata": {},
   "source": [
    "*Find all pairs of cities with the same longitude; return the city pairs and their (shared) longitude - notice what's wrong and fix it*"
   ]
  },
  {
   "cell_type": "code",
   "execution_count": 11,
   "metadata": {},
   "outputs": [
    {
     "name": "stdout",
     "output_type": "stream",
     "text": [
      " * sqlite://\n",
      "Done.\n"
     ]
    },
    {
     "data": {
      "text/html": [
       "<table>\n",
       "    <tr>\n",
       "        <th>city</th>\n",
       "        <th>city_1</th>\n",
       "        <th>longitude</th>\n",
       "    </tr>\n",
       "    <tr>\n",
       "        <td>Aalborg</td>\n",
       "        <td>Aalborg</td>\n",
       "        <td>9.92</td>\n",
       "    </tr>\n",
       "    <tr>\n",
       "        <td>Aberdeen</td>\n",
       "        <td>Aberdeen</td>\n",
       "        <td>-2.08</td>\n",
       "    </tr>\n",
       "    <tr>\n",
       "        <td>Abisko</td>\n",
       "        <td>Abisko</td>\n",
       "        <td>18.83</td>\n",
       "    </tr>\n",
       "    <tr>\n",
       "        <td>Adana</td>\n",
       "        <td>Adana</td>\n",
       "        <td>35.32</td>\n",
       "    </tr>\n",
       "    <tr>\n",
       "        <td>Albacete</td>\n",
       "        <td>Albacete</td>\n",
       "        <td>-1.87</td>\n",
       "    </tr>\n",
       "    <tr>\n",
       "        <td>Algeciras</td>\n",
       "        <td>Algeciras</td>\n",
       "        <td>-5.47</td>\n",
       "    </tr>\n",
       "    <tr>\n",
       "        <td>Amiens</td>\n",
       "        <td>Amiens</td>\n",
       "        <td>2.3</td>\n",
       "    </tr>\n",
       "    <tr>\n",
       "        <td>Amsterdam</td>\n",
       "        <td>Amsterdam</td>\n",
       "        <td>4.92</td>\n",
       "    </tr>\n",
       "    <tr>\n",
       "        <td>Ancona</td>\n",
       "        <td>Ancona</td>\n",
       "        <td>13.5</td>\n",
       "    </tr>\n",
       "    <tr>\n",
       "        <td>Andorra</td>\n",
       "        <td>Andorra</td>\n",
       "        <td>1.52</td>\n",
       "    </tr>\n",
       "    <tr>\n",
       "        <td>Angers</td>\n",
       "        <td>Angers</td>\n",
       "        <td>-0.53</td>\n",
       "    </tr>\n",
       "    <tr>\n",
       "        <td>Ankara</td>\n",
       "        <td>Ankara</td>\n",
       "        <td>32.86</td>\n",
       "    </tr>\n",
       "    <tr>\n",
       "        <td>Antalya</td>\n",
       "        <td>Antalya</td>\n",
       "        <td>30.7</td>\n",
       "    </tr>\n",
       "    <tr>\n",
       "        <td>Arad</td>\n",
       "        <td>Arad</td>\n",
       "        <td>21.32</td>\n",
       "    </tr>\n",
       "    <tr>\n",
       "        <td>Athens</td>\n",
       "        <td>Athens</td>\n",
       "        <td>23.73</td>\n",
       "    </tr>\n",
       "    <tr>\n",
       "        <td>Augsburg</td>\n",
       "        <td>Augsburg</td>\n",
       "        <td>10.9</td>\n",
       "    </tr>\n",
       "    <tr>\n",
       "        <td>Bacau</td>\n",
       "        <td>Bacau</td>\n",
       "        <td>26.92</td>\n",
       "    </tr>\n",
       "    <tr>\n",
       "        <td>Badajoz</td>\n",
       "        <td>Badajoz</td>\n",
       "        <td>-6.97</td>\n",
       "    </tr>\n",
       "    <tr>\n",
       "        <td>Baia Mare</td>\n",
       "        <td>Baia Mare</td>\n",
       "        <td>23.58</td>\n",
       "    </tr>\n",
       "    <tr>\n",
       "        <td>Balti</td>\n",
       "        <td>Balti</td>\n",
       "        <td>27.91</td>\n",
       "    </tr>\n",
       "    <tr>\n",
       "        <td>Barcelona</td>\n",
       "        <td>Barcelona</td>\n",
       "        <td>2.18</td>\n",
       "    </tr>\n",
       "    <tr>\n",
       "        <td>Bari</td>\n",
       "        <td>Bari</td>\n",
       "        <td>16.87</td>\n",
       "    </tr>\n",
       "    <tr>\n",
       "        <td>Basel</td>\n",
       "        <td>Basel</td>\n",
       "        <td>7.59</td>\n",
       "    </tr>\n",
       "    <tr>\n",
       "        <td>Batman</td>\n",
       "        <td>Batman</td>\n",
       "        <td>41.14</td>\n",
       "    </tr>\n",
       "    <tr>\n",
       "        <td>Belfast</td>\n",
       "        <td>Belfast</td>\n",
       "        <td>-5.96</td>\n",
       "    </tr>\n",
       "    <tr>\n",
       "        <td>Belgrade</td>\n",
       "        <td>Belgrade</td>\n",
       "        <td>20.47</td>\n",
       "    </tr>\n",
       "    <tr>\n",
       "        <td>Bergamo</td>\n",
       "        <td>Bergamo</td>\n",
       "        <td>9.67</td>\n",
       "    </tr>\n",
       "    <tr>\n",
       "        <td>Bergen</td>\n",
       "        <td>Bergen</td>\n",
       "        <td>5.32</td>\n",
       "    </tr>\n",
       "    <tr>\n",
       "        <td>Berlin</td>\n",
       "        <td>Berlin</td>\n",
       "        <td>13.4</td>\n",
       "    </tr>\n",
       "    <tr>\n",
       "        <td>Bialystok</td>\n",
       "        <td>Bialystok</td>\n",
       "        <td>23.17</td>\n",
       "    </tr>\n",
       "    <tr>\n",
       "        <td>Bielefeld</td>\n",
       "        <td>Bielefeld</td>\n",
       "        <td>8.53</td>\n",
       "    </tr>\n",
       "    <tr>\n",
       "        <td>Bila Tserkva</td>\n",
       "        <td>Bila Tserkva</td>\n",
       "        <td>30.13</td>\n",
       "    </tr>\n",
       "    <tr>\n",
       "        <td>Bilbao</td>\n",
       "        <td>Bilbao</td>\n",
       "        <td>-2.93</td>\n",
       "    </tr>\n",
       "    <tr>\n",
       "        <td>Birmingham</td>\n",
       "        <td>Birmingham</td>\n",
       "        <td>-1.92</td>\n",
       "    </tr>\n",
       "    <tr>\n",
       "        <td>Blackpool</td>\n",
       "        <td>Blackpool</td>\n",
       "        <td>-3.05</td>\n",
       "    </tr>\n",
       "    <tr>\n",
       "        <td>Bodo</td>\n",
       "        <td>Bodo</td>\n",
       "        <td>14.4</td>\n",
       "    </tr>\n",
       "    <tr>\n",
       "        <td>Bologna</td>\n",
       "        <td>Bologna</td>\n",
       "        <td>11.34</td>\n",
       "    </tr>\n",
       "    <tr>\n",
       "        <td>Bonn</td>\n",
       "        <td>Bonn</td>\n",
       "        <td>7.08</td>\n",
       "    </tr>\n",
       "    <tr>\n",
       "        <td>Bordeaux</td>\n",
       "        <td>Bordeaux</td>\n",
       "        <td>-0.6</td>\n",
       "    </tr>\n",
       "    <tr>\n",
       "        <td>Botosani</td>\n",
       "        <td>Botosani</td>\n",
       "        <td>26.66</td>\n",
       "    </tr>\n",
       "    <tr>\n",
       "        <td>Bournemouth</td>\n",
       "        <td>Bournemouth</td>\n",
       "        <td>-1.9</td>\n",
       "    </tr>\n",
       "    <tr>\n",
       "        <td>Bradford</td>\n",
       "        <td>Bradford</td>\n",
       "        <td>-1.75</td>\n",
       "    </tr>\n",
       "    <tr>\n",
       "        <td>Braga</td>\n",
       "        <td>Braga</td>\n",
       "        <td>-8.42</td>\n",
       "    </tr>\n",
       "    <tr>\n",
       "        <td>Braila</td>\n",
       "        <td>Braila</td>\n",
       "        <td>27.97</td>\n",
       "    </tr>\n",
       "    <tr>\n",
       "        <td>Bratislava</td>\n",
       "        <td>Bratislava</td>\n",
       "        <td>17.12</td>\n",
       "    </tr>\n",
       "    <tr>\n",
       "        <td>Bremen</td>\n",
       "        <td>Bremen</td>\n",
       "        <td>8.8</td>\n",
       "    </tr>\n",
       "    <tr>\n",
       "        <td>Brest</td>\n",
       "        <td>Brest</td>\n",
       "        <td>-4.5</td>\n",
       "    </tr>\n",
       "    <tr>\n",
       "        <td>Brest</td>\n",
       "        <td>Brest</td>\n",
       "        <td>23.7</td>\n",
       "    </tr>\n",
       "    <tr>\n",
       "        <td>Brno</td>\n",
       "        <td>Brno</td>\n",
       "        <td>16.61</td>\n",
       "    </tr>\n",
       "    <tr>\n",
       "        <td>Brugge</td>\n",
       "        <td>Brugge</td>\n",
       "        <td>3.23</td>\n",
       "    </tr>\n",
       "    <tr>\n",
       "        <td>Bucharest</td>\n",
       "        <td>Bucharest</td>\n",
       "        <td>26.1</td>\n",
       "    </tr>\n",
       "    <tr>\n",
       "        <td>Budapest</td>\n",
       "        <td>Budapest</td>\n",
       "        <td>19.08</td>\n",
       "    </tr>\n",
       "    <tr>\n",
       "        <td>Burgas</td>\n",
       "        <td>Burgas</td>\n",
       "        <td>27.47</td>\n",
       "    </tr>\n",
       "    <tr>\n",
       "        <td>Burgos</td>\n",
       "        <td>Burgos</td>\n",
       "        <td>-3.68</td>\n",
       "    </tr>\n",
       "    <tr>\n",
       "        <td>Burgos</td>\n",
       "        <td>Madrid</td>\n",
       "        <td>-3.68</td>\n",
       "    </tr>\n",
       "    <tr>\n",
       "        <td>Bursa</td>\n",
       "        <td>Bursa</td>\n",
       "        <td>29.07</td>\n",
       "    </tr>\n",
       "    <tr>\n",
       "        <td>Bydgoszcz</td>\n",
       "        <td>Bydgoszcz</td>\n",
       "        <td>18.01</td>\n",
       "    </tr>\n",
       "    <tr>\n",
       "        <td>Bytom</td>\n",
       "        <td>Bytom</td>\n",
       "        <td>18.91</td>\n",
       "    </tr>\n",
       "    <tr>\n",
       "        <td>Caen</td>\n",
       "        <td>Caen</td>\n",
       "        <td>-0.35</td>\n",
       "    </tr>\n",
       "    <tr>\n",
       "        <td>Cambridge</td>\n",
       "        <td>Cambridge</td>\n",
       "        <td>0.12</td>\n",
       "    </tr>\n",
       "    <tr>\n",
       "        <td>Cartagena</td>\n",
       "        <td>Cartagena</td>\n",
       "        <td>-0.98</td>\n",
       "    </tr>\n",
       "    <tr>\n",
       "        <td>Catania</td>\n",
       "        <td>Catania</td>\n",
       "        <td>15.08</td>\n",
       "    </tr>\n",
       "    <tr>\n",
       "        <td>Chemnitz</td>\n",
       "        <td>Chemnitz</td>\n",
       "        <td>12.92</td>\n",
       "    </tr>\n",
       "    <tr>\n",
       "        <td>Cherkasy</td>\n",
       "        <td>Cherkasy</td>\n",
       "        <td>32.07</td>\n",
       "    </tr>\n",
       "    <tr>\n",
       "        <td>Chernihiv</td>\n",
       "        <td>Chernihiv</td>\n",
       "        <td>31.3</td>\n",
       "    </tr>\n",
       "    <tr>\n",
       "        <td>Chernivtsi</td>\n",
       "        <td>Chernivtsi</td>\n",
       "        <td>25.92</td>\n",
       "    </tr>\n",
       "    <tr>\n",
       "        <td>Chisinau</td>\n",
       "        <td>Chisinau</td>\n",
       "        <td>28.86</td>\n",
       "    </tr>\n",
       "    <tr>\n",
       "        <td>Constanta</td>\n",
       "        <td>Constanta</td>\n",
       "        <td>28.61</td>\n",
       "    </tr>\n",
       "    <tr>\n",
       "        <td>Cork</td>\n",
       "        <td>Cork</td>\n",
       "        <td>-8.5</td>\n",
       "    </tr>\n",
       "    <tr>\n",
       "        <td>Cosenza</td>\n",
       "        <td>Cosenza</td>\n",
       "        <td>16.29</td>\n",
       "    </tr>\n",
       "    <tr>\n",
       "        <td>Craiova</td>\n",
       "        <td>Craiova</td>\n",
       "        <td>23.83</td>\n",
       "    </tr>\n",
       "    <tr>\n",
       "        <td>Craiova</td>\n",
       "        <td>Hrodna</td>\n",
       "        <td>23.83</td>\n",
       "    </tr>\n",
       "    <tr>\n",
       "        <td>Daugavpils</td>\n",
       "        <td>Daugavpils</td>\n",
       "        <td>26.51</td>\n",
       "    </tr>\n",
       "    <tr>\n",
       "        <td>Debrecen</td>\n",
       "        <td>Debrecen</td>\n",
       "        <td>21.63</td>\n",
       "    </tr>\n",
       "    <tr>\n",
       "        <td>Denizli</td>\n",
       "        <td>Denizli</td>\n",
       "        <td>29.08</td>\n",
       "    </tr>\n",
       "    <tr>\n",
       "        <td>Dijon</td>\n",
       "        <td>Dijon</td>\n",
       "        <td>5.03</td>\n",
       "    </tr>\n",
       "    <tr>\n",
       "        <td>Dublin</td>\n",
       "        <td>Dublin</td>\n",
       "        <td>-6.25</td>\n",
       "    </tr>\n",
       "    <tr>\n",
       "        <td>Dundee</td>\n",
       "        <td>Dundee</td>\n",
       "        <td>-3.0</td>\n",
       "    </tr>\n",
       "    <tr>\n",
       "        <td>Edinburgh</td>\n",
       "        <td>Edinburgh</td>\n",
       "        <td>-3.22</td>\n",
       "    </tr>\n",
       "    <tr>\n",
       "        <td>Edirne</td>\n",
       "        <td>Edirne</td>\n",
       "        <td>26.57</td>\n",
       "    </tr>\n",
       "    <tr>\n",
       "        <td>Elbasan</td>\n",
       "        <td>Elbasan</td>\n",
       "        <td>20.08</td>\n",
       "    </tr>\n",
       "    <tr>\n",
       "        <td>Elblag</td>\n",
       "        <td>Elblag</td>\n",
       "        <td>19.4</td>\n",
       "    </tr>\n",
       "    <tr>\n",
       "        <td>Erfurt</td>\n",
       "        <td>Erfurt</td>\n",
       "        <td>11.03</td>\n",
       "    </tr>\n",
       "    <tr>\n",
       "        <td>Erzincan</td>\n",
       "        <td>Erzincan</td>\n",
       "        <td>39.49</td>\n",
       "    </tr>\n",
       "    <tr>\n",
       "        <td>Erzurum</td>\n",
       "        <td>Erzurum</td>\n",
       "        <td>41.29</td>\n",
       "    </tr>\n",
       "    <tr>\n",
       "        <td>Eskisehir</td>\n",
       "        <td>Eskisehir</td>\n",
       "        <td>30.53</td>\n",
       "    </tr>\n",
       "    <tr>\n",
       "        <td>Exeter</td>\n",
       "        <td>Exeter</td>\n",
       "        <td>-3.53</td>\n",
       "    </tr>\n",
       "    <tr>\n",
       "        <td>Foggia</td>\n",
       "        <td>Foggia</td>\n",
       "        <td>15.56</td>\n",
       "    </tr>\n",
       "    <tr>\n",
       "        <td>Frankfurt</td>\n",
       "        <td>Frankfurt</td>\n",
       "        <td>8.68</td>\n",
       "    </tr>\n",
       "    <tr>\n",
       "        <td>Freiburg</td>\n",
       "        <td>Freiburg</td>\n",
       "        <td>7.87</td>\n",
       "    </tr>\n",
       "    <tr>\n",
       "        <td>Galway</td>\n",
       "        <td>Galway</td>\n",
       "        <td>-9.05</td>\n",
       "    </tr>\n",
       "    <tr>\n",
       "        <td>Gaziantep</td>\n",
       "        <td>Gaziantep</td>\n",
       "        <td>37.38</td>\n",
       "    </tr>\n",
       "    <tr>\n",
       "        <td>Geneva</td>\n",
       "        <td>Geneva</td>\n",
       "        <td>6.14</td>\n",
       "    </tr>\n",
       "    <tr>\n",
       "        <td>Genoa</td>\n",
       "        <td>Genoa</td>\n",
       "        <td>8.93</td>\n",
       "    </tr>\n",
       "    <tr>\n",
       "        <td>Glasgow</td>\n",
       "        <td>Glasgow</td>\n",
       "        <td>-4.25</td>\n",
       "    </tr>\n",
       "    <tr>\n",
       "        <td>Göteborg</td>\n",
       "        <td>Göteborg</td>\n",
       "        <td>12.0</td>\n",
       "    </tr>\n",
       "    <tr>\n",
       "        <td>Granada</td>\n",
       "        <td>Granada</td>\n",
       "        <td>-3.59</td>\n",
       "    </tr>\n",
       "    <tr>\n",
       "        <td>Graz</td>\n",
       "        <td>Graz</td>\n",
       "        <td>15.41</td>\n",
       "    </tr>\n",
       "    <tr>\n",
       "        <td>Grenoble</td>\n",
       "        <td>Grenoble</td>\n",
       "        <td>5.72</td>\n",
       "    </tr>\n",
       "    <tr>\n",
       "        <td>Groningen</td>\n",
       "        <td>Groningen</td>\n",
       "        <td>6.58</td>\n",
       "    </tr>\n",
       "    <tr>\n",
       "        <td>Gyor</td>\n",
       "        <td>Gyor</td>\n",
       "        <td>17.63</td>\n",
       "    </tr>\n",
       "    <tr>\n",
       "        <td>Heidelberg</td>\n",
       "        <td>Heidelberg</td>\n",
       "        <td>8.7</td>\n",
       "    </tr>\n",
       "    <tr>\n",
       "        <td>Helsinki</td>\n",
       "        <td>Helsinki</td>\n",
       "        <td>24.93</td>\n",
       "    </tr>\n",
       "    <tr>\n",
       "        <td>Horlivka</td>\n",
       "        <td>Horlivka</td>\n",
       "        <td>38.05</td>\n",
       "    </tr>\n",
       "    <tr>\n",
       "        <td>Hrodna</td>\n",
       "        <td>Craiova</td>\n",
       "        <td>23.83</td>\n",
       "    </tr>\n",
       "    <tr>\n",
       "        <td>Hrodna</td>\n",
       "        <td>Hrodna</td>\n",
       "        <td>23.83</td>\n",
       "    </tr>\n",
       "    <tr>\n",
       "        <td>Huelva</td>\n",
       "        <td>Huelva</td>\n",
       "        <td>-6.93</td>\n",
       "    </tr>\n",
       "    <tr>\n",
       "        <td>Ingolstadt</td>\n",
       "        <td>Ingolstadt</td>\n",
       "        <td>11.45</td>\n",
       "    </tr>\n",
       "    <tr>\n",
       "        <td>Innsbruck</td>\n",
       "        <td>Innsbruck</td>\n",
       "        <td>11.41</td>\n",
       "    </tr>\n",
       "    <tr>\n",
       "        <td>Inverness</td>\n",
       "        <td>Inverness</td>\n",
       "        <td>-4.23</td>\n",
       "    </tr>\n",
       "    <tr>\n",
       "        <td>Istanbul</td>\n",
       "        <td>Istanbul</td>\n",
       "        <td>29.01</td>\n",
       "    </tr>\n",
       "    <tr>\n",
       "        <td>Kalamata</td>\n",
       "        <td>Kalamata</td>\n",
       "        <td>22.11</td>\n",
       "    </tr>\n",
       "    <tr>\n",
       "        <td>Karaman</td>\n",
       "        <td>Karaman</td>\n",
       "        <td>33.22</td>\n",
       "    </tr>\n",
       "    <tr>\n",
       "        <td>Karlsruhe</td>\n",
       "        <td>Karlsruhe</td>\n",
       "        <td>8.4</td>\n",
       "    </tr>\n",
       "    <tr>\n",
       "        <td>Kaunas</td>\n",
       "        <td>Kaunas</td>\n",
       "        <td>23.88</td>\n",
       "    </tr>\n",
       "    <tr>\n",
       "        <td>Kayseri</td>\n",
       "        <td>Kayseri</td>\n",
       "        <td>35.49</td>\n",
       "    </tr>\n",
       "    <tr>\n",
       "        <td>Kherson</td>\n",
       "        <td>Kherson</td>\n",
       "        <td>32.6</td>\n",
       "    </tr>\n",
       "    <tr>\n",
       "        <td>Kielce</td>\n",
       "        <td>Kielce</td>\n",
       "        <td>20.66</td>\n",
       "    </tr>\n",
       "    <tr>\n",
       "        <td>Kiev</td>\n",
       "        <td>Kiev</td>\n",
       "        <td>30.52</td>\n",
       "    </tr>\n",
       "    <tr>\n",
       "        <td>Kiruna</td>\n",
       "        <td>Kiruna</td>\n",
       "        <td>20.22</td>\n",
       "    </tr>\n",
       "    <tr>\n",
       "        <td>Klaipeda</td>\n",
       "        <td>Klaipeda</td>\n",
       "        <td>21.12</td>\n",
       "    </tr>\n",
       "    <tr>\n",
       "        <td>Kosice</td>\n",
       "        <td>Kosice</td>\n",
       "        <td>21.25</td>\n",
       "    </tr>\n",
       "    <tr>\n",
       "        <td>Koszalin</td>\n",
       "        <td>Koszalin</td>\n",
       "        <td>16.18</td>\n",
       "    </tr>\n",
       "    <tr>\n",
       "        <td>Kremenchuk</td>\n",
       "        <td>Kremenchuk</td>\n",
       "        <td>33.43</td>\n",
       "    </tr>\n",
       "    <tr>\n",
       "        <td>Kryvyy Rih</td>\n",
       "        <td>Kryvyy Rih</td>\n",
       "        <td>33.34</td>\n",
       "    </tr>\n",
       "    <tr>\n",
       "        <td>Le Mans</td>\n",
       "        <td>Le Mans</td>\n",
       "        <td>0.1</td>\n",
       "    </tr>\n",
       "    <tr>\n",
       "        <td>Lille</td>\n",
       "        <td>Lille</td>\n",
       "        <td>3.08</td>\n",
       "    </tr>\n",
       "    <tr>\n",
       "        <td>Limoges</td>\n",
       "        <td>Limoges</td>\n",
       "        <td>1.25</td>\n",
       "    </tr>\n",
       "    <tr>\n",
       "        <td>Linz</td>\n",
       "        <td>Linz</td>\n",
       "        <td>14.29</td>\n",
       "    </tr>\n",
       "    <tr>\n",
       "        <td>Lisbon</td>\n",
       "        <td>Lisbon</td>\n",
       "        <td>-9.14</td>\n",
       "    </tr>\n",
       "    <tr>\n",
       "        <td>Ljubljana</td>\n",
       "        <td>Ljubljana</td>\n",
       "        <td>14.51</td>\n",
       "    </tr>\n",
       "    <tr>\n",
       "        <td>Lvov</td>\n",
       "        <td>Lvov</td>\n",
       "        <td>24.03</td>\n",
       "    </tr>\n",
       "    <tr>\n",
       "        <td>Maastricht</td>\n",
       "        <td>Maastricht</td>\n",
       "        <td>5.68</td>\n",
       "    </tr>\n",
       "    <tr>\n",
       "        <td>Maastricht</td>\n",
       "        <td>Stavanger</td>\n",
       "        <td>5.68</td>\n",
       "    </tr>\n",
       "    <tr>\n",
       "        <td>Madrid</td>\n",
       "        <td>Burgos</td>\n",
       "        <td>-3.68</td>\n",
       "    </tr>\n",
       "    <tr>\n",
       "        <td>Madrid</td>\n",
       "        <td>Madrid</td>\n",
       "        <td>-3.68</td>\n",
       "    </tr>\n",
       "    <tr>\n",
       "        <td>Magdeburg</td>\n",
       "        <td>Magdeburg</td>\n",
       "        <td>11.62</td>\n",
       "    </tr>\n",
       "    <tr>\n",
       "        <td>Makiyivka</td>\n",
       "        <td>Makiyivka</td>\n",
       "        <td>37.97</td>\n",
       "    </tr>\n",
       "    <tr>\n",
       "        <td>Malatya</td>\n",
       "        <td>Malatya</td>\n",
       "        <td>38.3</td>\n",
       "    </tr>\n",
       "    <tr>\n",
       "        <td>Malmö</td>\n",
       "        <td>Malmö</td>\n",
       "        <td>13.03</td>\n",
       "    </tr>\n",
       "    <tr>\n",
       "        <td>Manisa</td>\n",
       "        <td>Manisa</td>\n",
       "        <td>27.44</td>\n",
       "    </tr>\n",
       "    <tr>\n",
       "        <td>Marbella</td>\n",
       "        <td>Marbella</td>\n",
       "        <td>-4.88</td>\n",
       "    </tr>\n",
       "    <tr>\n",
       "        <td>Marseille</td>\n",
       "        <td>Marseille</td>\n",
       "        <td>5.38</td>\n",
       "    </tr>\n",
       "    <tr>\n",
       "        <td>Mazyr</td>\n",
       "        <td>Mazyr</td>\n",
       "        <td>29.27</td>\n",
       "    </tr>\n",
       "    <tr>\n",
       "        <td>Messina</td>\n",
       "        <td>Messina</td>\n",
       "        <td>15.55</td>\n",
       "    </tr>\n",
       "    <tr>\n",
       "        <td>Metz</td>\n",
       "        <td>Metz</td>\n",
       "        <td>6.18</td>\n",
       "    </tr>\n",
       "    <tr>\n",
       "        <td>Milan</td>\n",
       "        <td>Milan</td>\n",
       "        <td>9.21</td>\n",
       "    </tr>\n",
       "    <tr>\n",
       "        <td>Minsk</td>\n",
       "        <td>Minsk</td>\n",
       "        <td>27.57</td>\n",
       "    </tr>\n",
       "    <tr>\n",
       "        <td>Montpellier</td>\n",
       "        <td>Montpellier</td>\n",
       "        <td>3.87</td>\n",
       "    </tr>\n",
       "    <tr>\n",
       "        <td>Mulhouse</td>\n",
       "        <td>Mulhouse</td>\n",
       "        <td>7.35</td>\n",
       "    </tr>\n",
       "    <tr>\n",
       "        <td>Murcia</td>\n",
       "        <td>Murcia</td>\n",
       "        <td>-1.13</td>\n",
       "    </tr>\n",
       "    <tr>\n",
       "        <td>Nice</td>\n",
       "        <td>Nice</td>\n",
       "        <td>7.27</td>\n",
       "    </tr>\n",
       "    <tr>\n",
       "        <td>Nis</td>\n",
       "        <td>Nis</td>\n",
       "        <td>21.9</td>\n",
       "    </tr>\n",
       "    <tr>\n",
       "        <td>Novi Sad</td>\n",
       "        <td>Novi Sad</td>\n",
       "        <td>19.85</td>\n",
       "    </tr>\n",
       "    <tr>\n",
       "        <td>Odense</td>\n",
       "        <td>Odense</td>\n",
       "        <td>10.38</td>\n",
       "    </tr>\n",
       "    <tr>\n",
       "        <td>Ordu</td>\n",
       "        <td>Ordu</td>\n",
       "        <td>37.87</td>\n",
       "    </tr>\n",
       "    <tr>\n",
       "        <td>Orsha</td>\n",
       "        <td>Orsha</td>\n",
       "        <td>30.42</td>\n",
       "    </tr>\n",
       "    <tr>\n",
       "        <td>Oslo</td>\n",
       "        <td>Oslo</td>\n",
       "        <td>10.75</td>\n",
       "    </tr>\n",
       "    <tr>\n",
       "        <td>Ostrava</td>\n",
       "        <td>Ostrava</td>\n",
       "        <td>18.25</td>\n",
       "    </tr>\n",
       "    <tr>\n",
       "        <td>Oulu</td>\n",
       "        <td>Oulu</td>\n",
       "        <td>25.47</td>\n",
       "    </tr>\n",
       "    <tr>\n",
       "        <td>Oviedo</td>\n",
       "        <td>Oviedo</td>\n",
       "        <td>-5.83</td>\n",
       "    </tr>\n",
       "    <tr>\n",
       "        <td>Palermo</td>\n",
       "        <td>Palermo</td>\n",
       "        <td>13.35</td>\n",
       "    </tr>\n",
       "    <tr>\n",
       "        <td>Patras</td>\n",
       "        <td>Patras</td>\n",
       "        <td>21.73</td>\n",
       "    </tr>\n",
       "    <tr>\n",
       "        <td>Perpignan</td>\n",
       "        <td>Perpignan</td>\n",
       "        <td>2.9</td>\n",
       "    </tr>\n",
       "    <tr>\n",
       "        <td>Perugia</td>\n",
       "        <td>Perugia</td>\n",
       "        <td>12.39</td>\n",
       "    </tr>\n",
       "    <tr>\n",
       "        <td>Pescara</td>\n",
       "        <td>Pescara</td>\n",
       "        <td>14.22</td>\n",
       "    </tr>\n",
       "    <tr>\n",
       "        <td>Pinsk</td>\n",
       "        <td>Pinsk</td>\n",
       "        <td>26.09</td>\n",
       "    </tr>\n",
       "    <tr>\n",
       "        <td>Pleven</td>\n",
       "        <td>Pleven</td>\n",
       "        <td>24.61</td>\n",
       "    </tr>\n",
       "    <tr>\n",
       "        <td>Plovdiv</td>\n",
       "        <td>Plovdiv</td>\n",
       "        <td>24.75</td>\n",
       "    </tr>\n",
       "    <tr>\n",
       "        <td>Podgorica</td>\n",
       "        <td>Podgorica</td>\n",
       "        <td>19.27</td>\n",
       "    </tr>\n",
       "    <tr>\n",
       "        <td>Poznan</td>\n",
       "        <td>Poznan</td>\n",
       "        <td>16.9</td>\n",
       "    </tr>\n",
       "    <tr>\n",
       "        <td>Prague</td>\n",
       "        <td>Prague</td>\n",
       "        <td>14.47</td>\n",
       "    </tr>\n",
       "    <tr>\n",
       "        <td>Reims</td>\n",
       "        <td>Reims</td>\n",
       "        <td>4.03</td>\n",
       "    </tr>\n",
       "    <tr>\n",
       "        <td>Riga</td>\n",
       "        <td>Riga</td>\n",
       "        <td>24.1</td>\n",
       "    </tr>\n",
       "    <tr>\n",
       "        <td>Rijeka</td>\n",
       "        <td>Rijeka</td>\n",
       "        <td>14.45</td>\n",
       "    </tr>\n",
       "    <tr>\n",
       "        <td>Rivne</td>\n",
       "        <td>Rivne</td>\n",
       "        <td>26.25</td>\n",
       "    </tr>\n",
       "    <tr>\n",
       "        <td>Rome</td>\n",
       "        <td>Rome</td>\n",
       "        <td>12.48</td>\n",
       "    </tr>\n",
       "    <tr>\n",
       "        <td>Rostock</td>\n",
       "        <td>Rostock</td>\n",
       "        <td>12.15</td>\n",
       "    </tr>\n",
       "    <tr>\n",
       "        <td>Ruse</td>\n",
       "        <td>Ruse</td>\n",
       "        <td>25.97</td>\n",
       "    </tr>\n",
       "    <tr>\n",
       "        <td>Salamanca</td>\n",
       "        <td>Salamanca</td>\n",
       "        <td>-5.67</td>\n",
       "    </tr>\n",
       "    <tr>\n",
       "        <td>Salzburg</td>\n",
       "        <td>Salzburg</td>\n",
       "        <td>13.04</td>\n",
       "    </tr>\n",
       "    <tr>\n",
       "        <td>Samsun</td>\n",
       "        <td>Samsun</td>\n",
       "        <td>36.34</td>\n",
       "    </tr>\n",
       "    <tr>\n",
       "        <td>Santander</td>\n",
       "        <td>Santander</td>\n",
       "        <td>-3.8</td>\n",
       "    </tr>\n",
       "    <tr>\n",
       "        <td>Sarajevo</td>\n",
       "        <td>Sarajevo</td>\n",
       "        <td>13.38</td>\n",
       "    </tr>\n",
       "    <tr>\n",
       "        <td>Sibiu</td>\n",
       "        <td>Sibiu</td>\n",
       "        <td>24.14</td>\n",
       "    </tr>\n",
       "    <tr>\n",
       "        <td>Siirt</td>\n",
       "        <td>Siirt</td>\n",
       "        <td>41.93</td>\n",
       "    </tr>\n",
       "    <tr>\n",
       "        <td>Sivas</td>\n",
       "        <td>Sivas</td>\n",
       "        <td>37.03</td>\n",
       "    </tr>\n",
       "    <tr>\n",
       "        <td>Skopje</td>\n",
       "        <td>Skopje</td>\n",
       "        <td>21.43</td>\n",
       "    </tr>\n",
       "    <tr>\n",
       "        <td>Split</td>\n",
       "        <td>Split</td>\n",
       "        <td>16.47</td>\n",
       "    </tr>\n",
       "    <tr>\n",
       "        <td>Stara Zagora</td>\n",
       "        <td>Stara Zagora</td>\n",
       "        <td>25.62</td>\n",
       "    </tr>\n",
       "    <tr>\n",
       "        <td>Stavanger</td>\n",
       "        <td>Maastricht</td>\n",
       "        <td>5.68</td>\n",
       "    </tr>\n",
       "    <tr>\n",
       "        <td>Stavanger</td>\n",
       "        <td>Stavanger</td>\n",
       "        <td>5.68</td>\n",
       "    </tr>\n",
       "    <tr>\n",
       "        <td>Stockholm</td>\n",
       "        <td>Stockholm</td>\n",
       "        <td>18.1</td>\n",
       "    </tr>\n",
       "    <tr>\n",
       "        <td>Sumy</td>\n",
       "        <td>Sumy</td>\n",
       "        <td>34.78</td>\n",
       "    </tr>\n",
       "    <tr>\n",
       "        <td>Swansea</td>\n",
       "        <td>Swansea</td>\n",
       "        <td>-3.95</td>\n",
       "    </tr>\n",
       "    <tr>\n",
       "        <td>Szeged</td>\n",
       "        <td>Szeged</td>\n",
       "        <td>20.15</td>\n",
       "    </tr>\n",
       "    <tr>\n",
       "        <td>Tallinn</td>\n",
       "        <td>Tallinn</td>\n",
       "        <td>24.73</td>\n",
       "    </tr>\n",
       "    <tr>\n",
       "        <td>Tampere</td>\n",
       "        <td>Tampere</td>\n",
       "        <td>23.75</td>\n",
       "    </tr>\n",
       "    <tr>\n",
       "        <td>Tarsus</td>\n",
       "        <td>Tarsus</td>\n",
       "        <td>34.88</td>\n",
       "    </tr>\n",
       "    <tr>\n",
       "        <td>Tartu</td>\n",
       "        <td>Tartu</td>\n",
       "        <td>26.71</td>\n",
       "    </tr>\n",
       "    <tr>\n",
       "        <td>Tekirdag</td>\n",
       "        <td>Tekirdag</td>\n",
       "        <td>27.51</td>\n",
       "    </tr>\n",
       "    <tr>\n",
       "        <td>Toulouse</td>\n",
       "        <td>Toulouse</td>\n",
       "        <td>1.45</td>\n",
       "    </tr>\n",
       "    <tr>\n",
       "        <td>Trabzon</td>\n",
       "        <td>Trabzon</td>\n",
       "        <td>39.72</td>\n",
       "    </tr>\n",
       "    <tr>\n",
       "        <td>Trieste</td>\n",
       "        <td>Trieste</td>\n",
       "        <td>13.8</td>\n",
       "    </tr>\n",
       "    <tr>\n",
       "        <td>Trikala</td>\n",
       "        <td>Trikala</td>\n",
       "        <td>21.77</td>\n",
       "    </tr>\n",
       "    <tr>\n",
       "        <td>Trondheim</td>\n",
       "        <td>Trondheim</td>\n",
       "        <td>10.42</td>\n",
       "    </tr>\n",
       "    <tr>\n",
       "        <td>Turku</td>\n",
       "        <td>Turku</td>\n",
       "        <td>22.25</td>\n",
       "    </tr>\n",
       "    <tr>\n",
       "        <td>Uppsala</td>\n",
       "        <td>Uppsala</td>\n",
       "        <td>17.64</td>\n",
       "    </tr>\n",
       "    <tr>\n",
       "        <td>Valencia</td>\n",
       "        <td>Valencia</td>\n",
       "        <td>-0.4</td>\n",
       "    </tr>\n",
       "    <tr>\n",
       "        <td>Vienna</td>\n",
       "        <td>Vienna</td>\n",
       "        <td>16.37</td>\n",
       "    </tr>\n",
       "    <tr>\n",
       "        <td>Vigo</td>\n",
       "        <td>Vigo</td>\n",
       "        <td>-8.73</td>\n",
       "    </tr>\n",
       "    <tr>\n",
       "        <td>Vilnius</td>\n",
       "        <td>Vilnius</td>\n",
       "        <td>25.32</td>\n",
       "    </tr>\n",
       "    <tr>\n",
       "        <td>Warsaw</td>\n",
       "        <td>Warsaw</td>\n",
       "        <td>21.0</td>\n",
       "    </tr>\n",
       "    <tr>\n",
       "        <td>Wroclaw</td>\n",
       "        <td>Wroclaw</td>\n",
       "        <td>17.03</td>\n",
       "    </tr>\n",
       "    <tr>\n",
       "        <td>Yevpatoriya</td>\n",
       "        <td>Yevpatoriya</td>\n",
       "        <td>33.36</td>\n",
       "    </tr>\n",
       "    <tr>\n",
       "        <td>Zaragoza</td>\n",
       "        <td>Zaragoza</td>\n",
       "        <td>-0.89</td>\n",
       "    </tr>\n",
       "    <tr>\n",
       "        <td>Zhytomyr</td>\n",
       "        <td>Zhytomyr</td>\n",
       "        <td>28.66</td>\n",
       "    </tr>\n",
       "    <tr>\n",
       "        <td>Zonguldak</td>\n",
       "        <td>Zonguldak</td>\n",
       "        <td>31.78</td>\n",
       "    </tr>\n",
       "    <tr>\n",
       "        <td>Zurich</td>\n",
       "        <td>Zurich</td>\n",
       "        <td>8.56</td>\n",
       "    </tr>\n",
       "</table>"
      ],
      "text/plain": [
       "[(u'Aalborg', u'Aalborg', 9.92),\n",
       " (u'Aberdeen', u'Aberdeen', -2.08),\n",
       " (u'Abisko', u'Abisko', 18.83),\n",
       " (u'Adana', u'Adana', 35.32),\n",
       " (u'Albacete', u'Albacete', -1.87),\n",
       " (u'Algeciras', u'Algeciras', -5.47),\n",
       " (u'Amiens', u'Amiens', 2.3),\n",
       " (u'Amsterdam', u'Amsterdam', 4.92),\n",
       " (u'Ancona', u'Ancona', 13.5),\n",
       " (u'Andorra', u'Andorra', 1.52),\n",
       " (u'Angers', u'Angers', -0.53),\n",
       " (u'Ankara', u'Ankara', 32.86),\n",
       " (u'Antalya', u'Antalya', 30.7),\n",
       " (u'Arad', u'Arad', 21.32),\n",
       " (u'Athens', u'Athens', 23.73),\n",
       " (u'Augsburg', u'Augsburg', 10.9),\n",
       " (u'Bacau', u'Bacau', 26.92),\n",
       " (u'Badajoz', u'Badajoz', -6.97),\n",
       " (u'Baia Mare', u'Baia Mare', 23.58),\n",
       " (u'Balti', u'Balti', 27.91),\n",
       " (u'Barcelona', u'Barcelona', 2.18),\n",
       " (u'Bari', u'Bari', 16.87),\n",
       " (u'Basel', u'Basel', 7.59),\n",
       " (u'Batman', u'Batman', 41.14),\n",
       " (u'Belfast', u'Belfast', -5.96),\n",
       " (u'Belgrade', u'Belgrade', 20.47),\n",
       " (u'Bergamo', u'Bergamo', 9.67),\n",
       " (u'Bergen', u'Bergen', 5.32),\n",
       " (u'Berlin', u'Berlin', 13.4),\n",
       " (u'Bialystok', u'Bialystok', 23.17),\n",
       " (u'Bielefeld', u'Bielefeld', 8.53),\n",
       " (u'Bila Tserkva', u'Bila Tserkva', 30.13),\n",
       " (u'Bilbao', u'Bilbao', -2.93),\n",
       " (u'Birmingham', u'Birmingham', -1.92),\n",
       " (u'Blackpool', u'Blackpool', -3.05),\n",
       " (u'Bodo', u'Bodo', 14.4),\n",
       " (u'Bologna', u'Bologna', 11.34),\n",
       " (u'Bonn', u'Bonn', 7.08),\n",
       " (u'Bordeaux', u'Bordeaux', -0.6),\n",
       " (u'Botosani', u'Botosani', 26.66),\n",
       " (u'Bournemouth', u'Bournemouth', -1.9),\n",
       " (u'Bradford', u'Bradford', -1.75),\n",
       " (u'Braga', u'Braga', -8.42),\n",
       " (u'Braila', u'Braila', 27.97),\n",
       " (u'Bratislava', u'Bratislava', 17.12),\n",
       " (u'Bremen', u'Bremen', 8.8),\n",
       " (u'Brest', u'Brest', -4.5),\n",
       " (u'Brest', u'Brest', 23.7),\n",
       " (u'Brno', u'Brno', 16.61),\n",
       " (u'Brugge', u'Brugge', 3.23),\n",
       " (u'Bucharest', u'Bucharest', 26.1),\n",
       " (u'Budapest', u'Budapest', 19.08),\n",
       " (u'Burgas', u'Burgas', 27.47),\n",
       " (u'Burgos', u'Burgos', -3.68),\n",
       " (u'Burgos', u'Madrid', -3.68),\n",
       " (u'Bursa', u'Bursa', 29.07),\n",
       " (u'Bydgoszcz', u'Bydgoszcz', 18.01),\n",
       " (u'Bytom', u'Bytom', 18.91),\n",
       " (u'Caen', u'Caen', -0.35),\n",
       " (u'Cambridge', u'Cambridge', 0.12),\n",
       " (u'Cartagena', u'Cartagena', -0.98),\n",
       " (u'Catania', u'Catania', 15.08),\n",
       " (u'Chemnitz', u'Chemnitz', 12.92),\n",
       " (u'Cherkasy', u'Cherkasy', 32.07),\n",
       " (u'Chernihiv', u'Chernihiv', 31.3),\n",
       " (u'Chernivtsi', u'Chernivtsi', 25.92),\n",
       " (u'Chisinau', u'Chisinau', 28.86),\n",
       " (u'Constanta', u'Constanta', 28.61),\n",
       " (u'Cork', u'Cork', -8.5),\n",
       " (u'Cosenza', u'Cosenza', 16.29),\n",
       " (u'Craiova', u'Craiova', 23.83),\n",
       " (u'Craiova', u'Hrodna', 23.83),\n",
       " (u'Daugavpils', u'Daugavpils', 26.51),\n",
       " (u'Debrecen', u'Debrecen', 21.63),\n",
       " (u'Denizli', u'Denizli', 29.08),\n",
       " (u'Dijon', u'Dijon', 5.03),\n",
       " (u'Dublin', u'Dublin', -6.25),\n",
       " (u'Dundee', u'Dundee', -3.0),\n",
       " (u'Edinburgh', u'Edinburgh', -3.22),\n",
       " (u'Edirne', u'Edirne', 26.57),\n",
       " (u'Elbasan', u'Elbasan', 20.08),\n",
       " (u'Elblag', u'Elblag', 19.4),\n",
       " (u'Erfurt', u'Erfurt', 11.03),\n",
       " (u'Erzincan', u'Erzincan', 39.49),\n",
       " (u'Erzurum', u'Erzurum', 41.29),\n",
       " (u'Eskisehir', u'Eskisehir', 30.53),\n",
       " (u'Exeter', u'Exeter', -3.53),\n",
       " (u'Foggia', u'Foggia', 15.56),\n",
       " (u'Frankfurt', u'Frankfurt', 8.68),\n",
       " (u'Freiburg', u'Freiburg', 7.87),\n",
       " (u'Galway', u'Galway', -9.05),\n",
       " (u'Gaziantep', u'Gaziantep', 37.38),\n",
       " (u'Geneva', u'Geneva', 6.14),\n",
       " (u'Genoa', u'Genoa', 8.93),\n",
       " (u'Glasgow', u'Glasgow', -4.25),\n",
       " (u'G\\xf6teborg', u'G\\xf6teborg', 12.0),\n",
       " (u'Granada', u'Granada', -3.59),\n",
       " (u'Graz', u'Graz', 15.41),\n",
       " (u'Grenoble', u'Grenoble', 5.72),\n",
       " (u'Groningen', u'Groningen', 6.58),\n",
       " (u'Gyor', u'Gyor', 17.63),\n",
       " (u'Heidelberg', u'Heidelberg', 8.7),\n",
       " (u'Helsinki', u'Helsinki', 24.93),\n",
       " (u'Horlivka', u'Horlivka', 38.05),\n",
       " (u'Hrodna', u'Craiova', 23.83),\n",
       " (u'Hrodna', u'Hrodna', 23.83),\n",
       " (u'Huelva', u'Huelva', -6.93),\n",
       " (u'Ingolstadt', u'Ingolstadt', 11.45),\n",
       " (u'Innsbruck', u'Innsbruck', 11.41),\n",
       " (u'Inverness', u'Inverness', -4.23),\n",
       " (u'Istanbul', u'Istanbul', 29.01),\n",
       " (u'Kalamata', u'Kalamata', 22.11),\n",
       " (u'Karaman', u'Karaman', 33.22),\n",
       " (u'Karlsruhe', u'Karlsruhe', 8.4),\n",
       " (u'Kaunas', u'Kaunas', 23.88),\n",
       " (u'Kayseri', u'Kayseri', 35.49),\n",
       " (u'Kherson', u'Kherson', 32.6),\n",
       " (u'Kielce', u'Kielce', 20.66),\n",
       " (u'Kiev', u'Kiev', 30.52),\n",
       " (u'Kiruna', u'Kiruna', 20.22),\n",
       " (u'Klaipeda', u'Klaipeda', 21.12),\n",
       " (u'Kosice', u'Kosice', 21.25),\n",
       " (u'Koszalin', u'Koszalin', 16.18),\n",
       " (u'Kremenchuk', u'Kremenchuk', 33.43),\n",
       " (u'Kryvyy Rih', u'Kryvyy Rih', 33.34),\n",
       " (u'Le Mans', u'Le Mans', 0.1),\n",
       " (u'Lille', u'Lille', 3.08),\n",
       " (u'Limoges', u'Limoges', 1.25),\n",
       " (u'Linz', u'Linz', 14.29),\n",
       " (u'Lisbon', u'Lisbon', -9.14),\n",
       " (u'Ljubljana', u'Ljubljana', 14.51),\n",
       " (u'Lvov', u'Lvov', 24.03),\n",
       " (u'Maastricht', u'Maastricht', 5.68),\n",
       " (u'Maastricht', u'Stavanger', 5.68),\n",
       " (u'Madrid', u'Burgos', -3.68),\n",
       " (u'Madrid', u'Madrid', -3.68),\n",
       " (u'Magdeburg', u'Magdeburg', 11.62),\n",
       " (u'Makiyivka', u'Makiyivka', 37.97),\n",
       " (u'Malatya', u'Malatya', 38.3),\n",
       " (u'Malm\\xf6', u'Malm\\xf6', 13.03),\n",
       " (u'Manisa', u'Manisa', 27.44),\n",
       " (u'Marbella', u'Marbella', -4.88),\n",
       " (u'Marseille', u'Marseille', 5.38),\n",
       " (u'Mazyr', u'Mazyr', 29.27),\n",
       " (u'Messina', u'Messina', 15.55),\n",
       " (u'Metz', u'Metz', 6.18),\n",
       " (u'Milan', u'Milan', 9.21),\n",
       " (u'Minsk', u'Minsk', 27.57),\n",
       " (u'Montpellier', u'Montpellier', 3.87),\n",
       " (u'Mulhouse', u'Mulhouse', 7.35),\n",
       " (u'Murcia', u'Murcia', -1.13),\n",
       " (u'Nice', u'Nice', 7.27),\n",
       " (u'Nis', u'Nis', 21.9),\n",
       " (u'Novi Sad', u'Novi Sad', 19.85),\n",
       " (u'Odense', u'Odense', 10.38),\n",
       " (u'Ordu', u'Ordu', 37.87),\n",
       " (u'Orsha', u'Orsha', 30.42),\n",
       " (u'Oslo', u'Oslo', 10.75),\n",
       " (u'Ostrava', u'Ostrava', 18.25),\n",
       " (u'Oulu', u'Oulu', 25.47),\n",
       " (u'Oviedo', u'Oviedo', -5.83),\n",
       " (u'Palermo', u'Palermo', 13.35),\n",
       " (u'Patras', u'Patras', 21.73),\n",
       " (u'Perpignan', u'Perpignan', 2.9),\n",
       " (u'Perugia', u'Perugia', 12.39),\n",
       " (u'Pescara', u'Pescara', 14.22),\n",
       " (u'Pinsk', u'Pinsk', 26.09),\n",
       " (u'Pleven', u'Pleven', 24.61),\n",
       " (u'Plovdiv', u'Plovdiv', 24.75),\n",
       " (u'Podgorica', u'Podgorica', 19.27),\n",
       " (u'Poznan', u'Poznan', 16.9),\n",
       " (u'Prague', u'Prague', 14.47),\n",
       " (u'Reims', u'Reims', 4.03),\n",
       " (u'Riga', u'Riga', 24.1),\n",
       " (u'Rijeka', u'Rijeka', 14.45),\n",
       " (u'Rivne', u'Rivne', 26.25),\n",
       " (u'Rome', u'Rome', 12.48),\n",
       " (u'Rostock', u'Rostock', 12.15),\n",
       " (u'Ruse', u'Ruse', 25.97),\n",
       " (u'Salamanca', u'Salamanca', -5.67),\n",
       " (u'Salzburg', u'Salzburg', 13.04),\n",
       " (u'Samsun', u'Samsun', 36.34),\n",
       " (u'Santander', u'Santander', -3.8),\n",
       " (u'Sarajevo', u'Sarajevo', 13.38),\n",
       " (u'Sibiu', u'Sibiu', 24.14),\n",
       " (u'Siirt', u'Siirt', 41.93),\n",
       " (u'Sivas', u'Sivas', 37.03),\n",
       " (u'Skopje', u'Skopje', 21.43),\n",
       " (u'Split', u'Split', 16.47),\n",
       " (u'Stara Zagora', u'Stara Zagora', 25.62),\n",
       " (u'Stavanger', u'Maastricht', 5.68),\n",
       " (u'Stavanger', u'Stavanger', 5.68),\n",
       " (u'Stockholm', u'Stockholm', 18.1),\n",
       " (u'Sumy', u'Sumy', 34.78),\n",
       " (u'Swansea', u'Swansea', -3.95),\n",
       " (u'Szeged', u'Szeged', 20.15),\n",
       " (u'Tallinn', u'Tallinn', 24.73),\n",
       " (u'Tampere', u'Tampere', 23.75),\n",
       " (u'Tarsus', u'Tarsus', 34.88),\n",
       " (u'Tartu', u'Tartu', 26.71),\n",
       " (u'Tekirdag', u'Tekirdag', 27.51),\n",
       " (u'Toulouse', u'Toulouse', 1.45),\n",
       " (u'Trabzon', u'Trabzon', 39.72),\n",
       " (u'Trieste', u'Trieste', 13.8),\n",
       " (u'Trikala', u'Trikala', 21.77),\n",
       " (u'Trondheim', u'Trondheim', 10.42),\n",
       " (u'Turku', u'Turku', 22.25),\n",
       " (u'Uppsala', u'Uppsala', 17.64),\n",
       " (u'Valencia', u'Valencia', -0.4),\n",
       " (u'Vienna', u'Vienna', 16.37),\n",
       " (u'Vigo', u'Vigo', -8.73),\n",
       " (u'Vilnius', u'Vilnius', 25.32),\n",
       " (u'Warsaw', u'Warsaw', 21.0),\n",
       " (u'Wroclaw', u'Wroclaw', 17.03),\n",
       " (u'Yevpatoriya', u'Yevpatoriya', 33.36),\n",
       " (u'Zaragoza', u'Zaragoza', -0.89),\n",
       " (u'Zhytomyr', u'Zhytomyr', 28.66),\n",
       " (u'Zonguldak', u'Zonguldak', 31.78),\n",
       " (u'Zurich', u'Zurich', 8.56)]"
      ]
     },
     "execution_count": 11,
     "metadata": {},
     "output_type": "execute_result"
    }
   ],
   "source": [
    "%%sql\n",
    "select C1.city, C2.city, C1.longitude\n",
    "from Cities C1, Cities C2\n",
    "where C1.longitude = C2.longitude"
   ]
  },
  {
   "cell_type": "markdown",
   "metadata": {},
   "source": [
    "*Find all pairs of cities that are near each other, i.e., longitude and latitude are both less than 0.5 apart; return city pairs*"
   ]
  },
  {
   "cell_type": "code",
   "execution_count": 16,
   "metadata": {},
   "outputs": [
    {
     "name": "stdout",
     "output_type": "stream",
     "text": [
      " * sqlite://\n",
      "Done.\n"
     ]
    },
    {
     "data": {
      "text/html": [
       "<table>\n",
       "    <tr>\n",
       "        <th>city</th>\n",
       "        <th>city_1</th>\n",
       "    </tr>\n",
       "    <tr>\n",
       "        <td>Adana</td>\n",
       "        <td>Tarsus</td>\n",
       "    </tr>\n",
       "    <tr>\n",
       "        <td>Ancona</td>\n",
       "        <td>Sarajevo</td>\n",
       "    </tr>\n",
       "    <tr>\n",
       "        <td>Basel</td>\n",
       "        <td>Freiburg</td>\n",
       "    </tr>\n",
       "    <tr>\n",
       "        <td>Basel</td>\n",
       "        <td>Mulhouse</td>\n",
       "    </tr>\n",
       "    <tr>\n",
       "        <td>Bergamo</td>\n",
       "        <td>Milan</td>\n",
       "    </tr>\n",
       "    <tr>\n",
       "        <td>Cartagena</td>\n",
       "        <td>Murcia</td>\n",
       "    </tr>\n",
       "    <tr>\n",
       "        <td>Heidelberg</td>\n",
       "        <td>Karlsruhe</td>\n",
       "    </tr>\n",
       "    <tr>\n",
       "        <td>Horlivka</td>\n",
       "        <td>Makiyivka</td>\n",
       "    </tr>\n",
       "</table>"
      ],
      "text/plain": [
       "[(u'Adana', u'Tarsus'),\n",
       " (u'Ancona', u'Sarajevo'),\n",
       " (u'Basel', u'Freiburg'),\n",
       " (u'Basel', u'Mulhouse'),\n",
       " (u'Bergamo', u'Milan'),\n",
       " (u'Cartagena', u'Murcia'),\n",
       " (u'Heidelberg', u'Karlsruhe'),\n",
       " (u'Horlivka', u'Makiyivka')]"
      ]
     },
     "execution_count": 16,
     "metadata": {},
     "output_type": "execute_result"
    }
   ],
   "source": [
    "%%sql\n",
    "select C1.city, C2.city\n",
    "from Cities C1, Cities C2\n",
    "where abs(C1.longitude - C2.longitude) < .5\n",
    "and abs(C1.latitude - C2.latitude) < .5\n",
    "and C1.city < C2.city"
   ]
  },
  {
   "cell_type": "markdown",
   "metadata": {},
   "source": [
    "### <font color = 'green'>Your Turn</font>"
   ]
  },
  {
   "cell_type": "markdown",
   "metadata": {
    "collapsed": true
   },
   "source": [
    "*Find all pairs of cities with the same temperature. Return the city pairs along with their shared temperature. What do you think about the data after seeing the answer?*"
   ]
  },
  {
   "cell_type": "code",
   "execution_count": 17,
   "metadata": {},
   "outputs": [
    {
     "name": "stdout",
     "output_type": "stream",
     "text": [
      " * sqlite://\n",
      "Done.\n"
     ]
    },
    {
     "data": {
      "text/html": [
       "<table>\n",
       "    <tr>\n",
       "        <th>city</th>\n",
       "        <th>city_1</th>\n",
       "        <th>temperature</th>\n",
       "    </tr>\n",
       "    <tr>\n",
       "        <td>Andorra</td>\n",
       "        <td>Sarajevo</td>\n",
       "        <td>9.6</td>\n",
       "    </tr>\n",
       "    <tr>\n",
       "        <td>Augsburg</td>\n",
       "        <td>Innsbruck</td>\n",
       "        <td>4.54</td>\n",
       "    </tr>\n",
       "    <tr>\n",
       "        <td>Baia Mare</td>\n",
       "        <td>Debrecen</td>\n",
       "        <td>8.87</td>\n",
       "    </tr>\n",
       "    <tr>\n",
       "        <td>Balti</td>\n",
       "        <td>Botosani</td>\n",
       "        <td>8.23</td>\n",
       "    </tr>\n",
       "    <tr>\n",
       "        <td>Basel</td>\n",
       "        <td>Elblag</td>\n",
       "        <td>6.68</td>\n",
       "    </tr>\n",
       "    <tr>\n",
       "        <td>Basel</td>\n",
       "        <td>Freiburg</td>\n",
       "        <td>6.68</td>\n",
       "    </tr>\n",
       "    <tr>\n",
       "        <td>Basel</td>\n",
       "        <td>Mulhouse</td>\n",
       "        <td>6.68</td>\n",
       "    </tr>\n",
       "    <tr>\n",
       "        <td>Basel</td>\n",
       "        <td>Zurich</td>\n",
       "        <td>6.68</td>\n",
       "    </tr>\n",
       "    <tr>\n",
       "        <td>Bialystok</td>\n",
       "        <td>Hrodna</td>\n",
       "        <td>6.07</td>\n",
       "    </tr>\n",
       "    <tr>\n",
       "        <td>Bonn</td>\n",
       "        <td>Maastricht</td>\n",
       "        <td>8.63</td>\n",
       "    </tr>\n",
       "    <tr>\n",
       "        <td>Bratislava</td>\n",
       "        <td>Brugge</td>\n",
       "        <td>9.65</td>\n",
       "    </tr>\n",
       "    <tr>\n",
       "        <td>Bratislava</td>\n",
       "        <td>Gyor</td>\n",
       "        <td>9.65</td>\n",
       "    </tr>\n",
       "    <tr>\n",
       "        <td>Bratislava</td>\n",
       "        <td>Lille</td>\n",
       "        <td>9.65</td>\n",
       "    </tr>\n",
       "    <tr>\n",
       "        <td>Brno</td>\n",
       "        <td>Vienna</td>\n",
       "        <td>7.86</td>\n",
       "    </tr>\n",
       "    <tr>\n",
       "        <td>Brugge</td>\n",
       "        <td>Gyor</td>\n",
       "        <td>9.65</td>\n",
       "    </tr>\n",
       "    <tr>\n",
       "        <td>Brugge</td>\n",
       "        <td>Lille</td>\n",
       "        <td>9.65</td>\n",
       "    </tr>\n",
       "    <tr>\n",
       "        <td>Bucharest</td>\n",
       "        <td>Le Mans</td>\n",
       "        <td>10.59</td>\n",
       "    </tr>\n",
       "    <tr>\n",
       "        <td>Bucharest</td>\n",
       "        <td>Ruse</td>\n",
       "        <td>10.59</td>\n",
       "    </tr>\n",
       "    <tr>\n",
       "        <td>Bytom</td>\n",
       "        <td>Ostrava</td>\n",
       "        <td>7.66</td>\n",
       "    </tr>\n",
       "    <tr>\n",
       "        <td>Chemnitz</td>\n",
       "        <td>Prague</td>\n",
       "        <td>8.05</td>\n",
       "    </tr>\n",
       "    <tr>\n",
       "        <td>Chemnitz</td>\n",
       "        <td>Sivas</td>\n",
       "        <td>8.05</td>\n",
       "    </tr>\n",
       "    <tr>\n",
       "        <td>Chisinau</td>\n",
       "        <td>Glasgow</td>\n",
       "        <td>8.6</td>\n",
       "    </tr>\n",
       "    <tr>\n",
       "        <td>Craiova</td>\n",
       "        <td>Pleven</td>\n",
       "        <td>10.51</td>\n",
       "    </tr>\n",
       "    <tr>\n",
       "        <td>Daugavpils</td>\n",
       "        <td>Vilnius</td>\n",
       "        <td>5.38</td>\n",
       "    </tr>\n",
       "    <tr>\n",
       "        <td>Edinburgh</td>\n",
       "        <td>Kremenchuk</td>\n",
       "        <td>7.43</td>\n",
       "    </tr>\n",
       "    <tr>\n",
       "        <td>Edirne</td>\n",
       "        <td>Stara Zagora</td>\n",
       "        <td>10.9</td>\n",
       "    </tr>\n",
       "    <tr>\n",
       "        <td>Elblag</td>\n",
       "        <td>Freiburg</td>\n",
       "        <td>6.68</td>\n",
       "    </tr>\n",
       "    <tr>\n",
       "        <td>Elblag</td>\n",
       "        <td>Mulhouse</td>\n",
       "        <td>6.68</td>\n",
       "    </tr>\n",
       "    <tr>\n",
       "        <td>Elblag</td>\n",
       "        <td>Zurich</td>\n",
       "        <td>6.68</td>\n",
       "    </tr>\n",
       "    <tr>\n",
       "        <td>Eskisehir</td>\n",
       "        <td>Montpellier</td>\n",
       "        <td>11.11</td>\n",
       "    </tr>\n",
       "    <tr>\n",
       "        <td>Freiburg</td>\n",
       "        <td>Mulhouse</td>\n",
       "        <td>6.68</td>\n",
       "    </tr>\n",
       "    <tr>\n",
       "        <td>Freiburg</td>\n",
       "        <td>Zurich</td>\n",
       "        <td>6.68</td>\n",
       "    </tr>\n",
       "    <tr>\n",
       "        <td>Geneva</td>\n",
       "        <td>Grenoble</td>\n",
       "        <td>8.4</td>\n",
       "    </tr>\n",
       "    <tr>\n",
       "        <td>Gyor</td>\n",
       "        <td>Lille</td>\n",
       "        <td>9.65</td>\n",
       "    </tr>\n",
       "    <tr>\n",
       "        <td>Karlsruhe</td>\n",
       "        <td>Metz</td>\n",
       "        <td>8.88</td>\n",
       "    </tr>\n",
       "    <tr>\n",
       "        <td>Koszalin</td>\n",
       "        <td>Odense</td>\n",
       "        <td>7.73</td>\n",
       "    </tr>\n",
       "    <tr>\n",
       "        <td>Le Mans</td>\n",
       "        <td>Ruse</td>\n",
       "        <td>10.59</td>\n",
       "    </tr>\n",
       "    <tr>\n",
       "        <td>Ljubljana</td>\n",
       "        <td>Rijeka</td>\n",
       "        <td>9.27</td>\n",
       "    </tr>\n",
       "    <tr>\n",
       "        <td>Manisa</td>\n",
       "        <td>Rome</td>\n",
       "        <td>15.1</td>\n",
       "    </tr>\n",
       "    <tr>\n",
       "        <td>Mulhouse</td>\n",
       "        <td>Zurich</td>\n",
       "        <td>6.68</td>\n",
       "    </tr>\n",
       "    <tr>\n",
       "        <td>Nis</td>\n",
       "        <td>Skopje</td>\n",
       "        <td>9.36</td>\n",
       "    </tr>\n",
       "    <tr>\n",
       "        <td>Novi Sad</td>\n",
       "        <td>Szeged</td>\n",
       "        <td>10.34</td>\n",
       "    </tr>\n",
       "    <tr>\n",
       "        <td>Prague</td>\n",
       "        <td>Sivas</td>\n",
       "        <td>8.05</td>\n",
       "    </tr>\n",
       "    <tr>\n",
       "        <td>Tarsus</td>\n",
       "        <td>Trieste</td>\n",
       "        <td>11.21</td>\n",
       "    </tr>\n",
       "</table>"
      ],
      "text/plain": [
       "[(u'Andorra', u'Sarajevo', 9.6),\n",
       " (u'Augsburg', u'Innsbruck', 4.54),\n",
       " (u'Baia Mare', u'Debrecen', 8.87),\n",
       " (u'Balti', u'Botosani', 8.23),\n",
       " (u'Basel', u'Elblag', 6.68),\n",
       " (u'Basel', u'Freiburg', 6.68),\n",
       " (u'Basel', u'Mulhouse', 6.68),\n",
       " (u'Basel', u'Zurich', 6.68),\n",
       " (u'Bialystok', u'Hrodna', 6.07),\n",
       " (u'Bonn', u'Maastricht', 8.63),\n",
       " (u'Bratislava', u'Brugge', 9.65),\n",
       " (u'Bratislava', u'Gyor', 9.65),\n",
       " (u'Bratislava', u'Lille', 9.65),\n",
       " (u'Brno', u'Vienna', 7.86),\n",
       " (u'Brugge', u'Gyor', 9.65),\n",
       " (u'Brugge', u'Lille', 9.65),\n",
       " (u'Bucharest', u'Le Mans', 10.59),\n",
       " (u'Bucharest', u'Ruse', 10.59),\n",
       " (u'Bytom', u'Ostrava', 7.66),\n",
       " (u'Chemnitz', u'Prague', 8.05),\n",
       " (u'Chemnitz', u'Sivas', 8.05),\n",
       " (u'Chisinau', u'Glasgow', 8.6),\n",
       " (u'Craiova', u'Pleven', 10.51),\n",
       " (u'Daugavpils', u'Vilnius', 5.38),\n",
       " (u'Edinburgh', u'Kremenchuk', 7.43),\n",
       " (u'Edirne', u'Stara Zagora', 10.9),\n",
       " (u'Elblag', u'Freiburg', 6.68),\n",
       " (u'Elblag', u'Mulhouse', 6.68),\n",
       " (u'Elblag', u'Zurich', 6.68),\n",
       " (u'Eskisehir', u'Montpellier', 11.11),\n",
       " (u'Freiburg', u'Mulhouse', 6.68),\n",
       " (u'Freiburg', u'Zurich', 6.68),\n",
       " (u'Geneva', u'Grenoble', 8.4),\n",
       " (u'Gyor', u'Lille', 9.65),\n",
       " (u'Karlsruhe', u'Metz', 8.88),\n",
       " (u'Koszalin', u'Odense', 7.73),\n",
       " (u'Le Mans', u'Ruse', 10.59),\n",
       " (u'Ljubljana', u'Rijeka', 9.27),\n",
       " (u'Manisa', u'Rome', 15.1),\n",
       " (u'Mulhouse', u'Zurich', 6.68),\n",
       " (u'Nis', u'Skopje', 9.36),\n",
       " (u'Novi Sad', u'Szeged', 10.34),\n",
       " (u'Prague', u'Sivas', 8.05),\n",
       " (u'Tarsus', u'Trieste', 11.21)]"
      ]
     },
     "execution_count": 17,
     "metadata": {},
     "output_type": "execute_result"
    }
   ],
   "source": [
    "%%sql\n",
    "--FILL IN QUERY HERE\n",
    "select C1.city, C2.city, C1.temperature\n",
    "from Cities C1, Cities C2\n",
    "where C1.temperature = C2.temperature\n",
    "and C1.city < C2.city\n",
    "order by C1.city , C2.city, C2.temperature"
   ]
  },
  {
   "cell_type": "markdown",
   "metadata": {},
   "source": [
    "### Subqueries in Where clause"
   ]
  },
  {
   "cell_type": "markdown",
   "metadata": {},
   "source": [
    "*Find all countries in the Countries table with no city in the Cities table*"
   ]
  },
  {
   "cell_type": "code",
   "execution_count": 18,
   "metadata": {},
   "outputs": [
    {
     "name": "stdout",
     "output_type": "stream",
     "text": [
      " * sqlite://\n",
      "Done.\n"
     ]
    },
    {
     "data": {
      "text/html": [
       "<table>\n",
       "    <tr>\n",
       "        <th>country</th>\n",
       "    </tr>\n",
       "    <tr>\n",
       "        <td>Cyprus</td>\n",
       "    </tr>\n",
       "    <tr>\n",
       "        <td>Iceland</td>\n",
       "    </tr>\n",
       "    <tr>\n",
       "        <td>Kosovo</td>\n",
       "    </tr>\n",
       "    <tr>\n",
       "        <td>Liechtenstein</td>\n",
       "    </tr>\n",
       "    <tr>\n",
       "        <td>Luxembourg</td>\n",
       "    </tr>\n",
       "</table>"
      ],
      "text/plain": [
       "[(u'Cyprus',),\n",
       " (u'Iceland',),\n",
       " (u'Kosovo',),\n",
       " (u'Liechtenstein',),\n",
       " (u'Luxembourg',)]"
      ]
     },
     "execution_count": 18,
     "metadata": {},
     "output_type": "execute_result"
    }
   ],
   "source": [
    "%%sql\n",
    "select country\n",
    "from Countries\n",
    "where not exists (select * from Cities\n",
    "                  where Cities.country = Countries.country)"
   ]
  },
  {
   "cell_type": "markdown",
   "metadata": {},
   "source": [
    "*Find countries in the EU that have a city with temperature > 15*"
   ]
  },
  {
   "cell_type": "code",
   "execution_count": 19,
   "metadata": {},
   "outputs": [
    {
     "name": "stdout",
     "output_type": "stream",
     "text": [
      " * sqlite://\n",
      "Done.\n"
     ]
    },
    {
     "data": {
      "text/html": [
       "<table>\n",
       "    <tr>\n",
       "        <th>country</th>\n",
       "    </tr>\n",
       "    <tr>\n",
       "        <td>Greece</td>\n",
       "    </tr>\n",
       "    <tr>\n",
       "        <td>Italy</td>\n",
       "    </tr>\n",
       "    <tr>\n",
       "        <td>Portugal</td>\n",
       "    </tr>\n",
       "    <tr>\n",
       "        <td>Spain</td>\n",
       "    </tr>\n",
       "</table>"
      ],
      "text/plain": [
       "[(u'Greece',), (u'Italy',), (u'Portugal',), (u'Spain',)]"
      ]
     },
     "execution_count": 19,
     "metadata": {},
     "output_type": "execute_result"
    }
   ],
   "source": [
    "%%sql\n",
    "select country\n",
    "from Countries\n",
    "where EU = 'yes'\n",
    "and exists (select * from Cities\n",
    "            where Cities.country = Countries.country\n",
    "            and temperature > 15)"
   ]
  },
  {
   "cell_type": "markdown",
   "metadata": {},
   "source": [
    "*Find number of countries that have a city with latitude > 60 (start with country list)*"
   ]
  },
  {
   "cell_type": "code",
   "execution_count": 16,
   "metadata": {},
   "outputs": [
    {
     "name": "stdout",
     "output_type": "stream",
     "text": [
      " * sqlite://\n",
      "Done.\n"
     ]
    },
    {
     "data": {
      "text/html": [
       "<table>\n",
       "    <tr>\n",
       "        <th>country</th>\n",
       "    </tr>\n",
       "    <tr>\n",
       "        <td>Finland</td>\n",
       "    </tr>\n",
       "    <tr>\n",
       "        <td>Norway</td>\n",
       "    </tr>\n",
       "    <tr>\n",
       "        <td>Sweden</td>\n",
       "    </tr>\n",
       "</table>"
      ],
      "text/plain": [
       "[(u'Finland',), (u'Norway',), (u'Sweden',)]"
      ]
     },
     "execution_count": 16,
     "metadata": {},
     "output_type": "execute_result"
    }
   ],
   "source": [
    "%%sql\n",
    "select country\n",
    "from Countries\n",
    "where exists (select * from Cities\n",
    "              where Cities.country = Countries.country\n",
    "              and latitude > 60)"
   ]
  },
  {
   "cell_type": "markdown",
   "metadata": {},
   "source": [
    "*Find the westernmost city; return the city and longitude*"
   ]
  },
  {
   "cell_type": "code",
   "execution_count": 17,
   "metadata": {},
   "outputs": [
    {
     "name": "stdout",
     "output_type": "stream",
     "text": [
      " * sqlite://\n",
      "Done.\n"
     ]
    },
    {
     "data": {
      "text/html": [
       "<table>\n",
       "    <tr>\n",
       "        <th>city</th>\n",
       "        <th>longitude</th>\n",
       "    </tr>\n",
       "    <tr>\n",
       "        <td>Lisbon</td>\n",
       "        <td>-9.14</td>\n",
       "    </tr>\n",
       "</table>"
      ],
      "text/plain": [
       "[(u'Lisbon', -9.14)]"
      ]
     },
     "execution_count": 17,
     "metadata": {},
     "output_type": "execute_result"
    }
   ],
   "source": [
    "%%sql\n",
    "select city, longitude\n",
    "from Cities C1\n",
    "where not exists (select * from Cities C2\n",
    "                  where C2.longitude < C1.longitude)"
   ]
  },
  {
   "cell_type": "markdown",
   "metadata": {},
   "source": [
    "*Add easternmost to previous query*"
   ]
  },
  {
   "cell_type": "markdown",
   "metadata": {},
   "source": [
    "*Westernmost city query using = and min*"
   ]
  },
  {
   "cell_type": "code",
   "execution_count": 18,
   "metadata": {},
   "outputs": [
    {
     "name": "stdout",
     "output_type": "stream",
     "text": [
      " * sqlite://\n",
      "Done.\n"
     ]
    },
    {
     "data": {
      "text/html": [
       "<table>\n",
       "    <tr>\n",
       "        <th>city</th>\n",
       "        <th>longitude</th>\n",
       "    </tr>\n",
       "    <tr>\n",
       "        <td>Lisbon</td>\n",
       "        <td>-9.14</td>\n",
       "    </tr>\n",
       "</table>"
      ],
      "text/plain": [
       "[(u'Lisbon', -9.14)]"
      ]
     },
     "execution_count": 18,
     "metadata": {},
     "output_type": "execute_result"
    }
   ],
   "source": [
    "%%sql\n",
    "select city, longitude\n",
    "from Cities\n",
    "where longitude = (select min(longitude) from Cities)"
   ]
  },
  {
   "cell_type": "markdown",
   "metadata": {},
   "source": [
    "*Find all cities whose temperature is more than 50% higher than the average; return the city, country, and temperature, ordered by descending temperature*"
   ]
  },
  {
   "cell_type": "code",
   "execution_count": 19,
   "metadata": {},
   "outputs": [
    {
     "name": "stdout",
     "output_type": "stream",
     "text": [
      " * sqlite://\n",
      "Done.\n"
     ]
    },
    {
     "data": {
      "text/html": [
       "<table>\n",
       "    <tr>\n",
       "        <th>city</th>\n",
       "        <th>country</th>\n",
       "        <th>temperature</th>\n",
       "    </tr>\n",
       "    <tr>\n",
       "        <td>Adana</td>\n",
       "        <td>Turkey</td>\n",
       "        <td>18.67</td>\n",
       "    </tr>\n",
       "    <tr>\n",
       "        <td>Palermo</td>\n",
       "        <td>Italy</td>\n",
       "        <td>17.9</td>\n",
       "    </tr>\n",
       "    <tr>\n",
       "        <td>Athens</td>\n",
       "        <td>Greece</td>\n",
       "        <td>17.41</td>\n",
       "    </tr>\n",
       "    <tr>\n",
       "        <td>Algeciras</td>\n",
       "        <td>Spain</td>\n",
       "        <td>17.38</td>\n",
       "    </tr>\n",
       "    <tr>\n",
       "        <td>Cartagena</td>\n",
       "        <td>Spain</td>\n",
       "        <td>17.32</td>\n",
       "    </tr>\n",
       "    <tr>\n",
       "        <td>Kalamata</td>\n",
       "        <td>Greece</td>\n",
       "        <td>17.3</td>\n",
       "    </tr>\n",
       "    <tr>\n",
       "        <td>Marbella</td>\n",
       "        <td>Spain</td>\n",
       "        <td>17.19</td>\n",
       "    </tr>\n",
       "    <tr>\n",
       "        <td>Huelva</td>\n",
       "        <td>Spain</td>\n",
       "        <td>17.09</td>\n",
       "    </tr>\n",
       "    <tr>\n",
       "        <td>Patras</td>\n",
       "        <td>Greece</td>\n",
       "        <td>16.9</td>\n",
       "    </tr>\n",
       "    <tr>\n",
       "        <td>Cosenza</td>\n",
       "        <td>Italy</td>\n",
       "        <td>16.6</td>\n",
       "    </tr>\n",
       "    <tr>\n",
       "        <td>Messina</td>\n",
       "        <td>Italy</td>\n",
       "        <td>16.54</td>\n",
       "    </tr>\n",
       "    <tr>\n",
       "        <td>Granada</td>\n",
       "        <td>Spain</td>\n",
       "        <td>16.33</td>\n",
       "    </tr>\n",
       "    <tr>\n",
       "        <td>Valencia</td>\n",
       "        <td>Spain</td>\n",
       "        <td>16.02</td>\n",
       "    </tr>\n",
       "    <tr>\n",
       "        <td>Trikala</td>\n",
       "        <td>Greece</td>\n",
       "        <td>16.0</td>\n",
       "    </tr>\n",
       "    <tr>\n",
       "        <td>Barcelona</td>\n",
       "        <td>Spain</td>\n",
       "        <td>15.78</td>\n",
       "    </tr>\n",
       "    <tr>\n",
       "        <td>Badajoz</td>\n",
       "        <td>Spain</td>\n",
       "        <td>15.61</td>\n",
       "    </tr>\n",
       "    <tr>\n",
       "        <td>Lisbon</td>\n",
       "        <td>Portugal</td>\n",
       "        <td>15.52</td>\n",
       "    </tr>\n",
       "    <tr>\n",
       "        <td>Elbasan</td>\n",
       "        <td>Albania</td>\n",
       "        <td>15.18</td>\n",
       "    </tr>\n",
       "    <tr>\n",
       "        <td>Bari</td>\n",
       "        <td>Italy</td>\n",
       "        <td>15.15</td>\n",
       "    </tr>\n",
       "    <tr>\n",
       "        <td>Pescara</td>\n",
       "        <td>Italy</td>\n",
       "        <td>15.13</td>\n",
       "    </tr>\n",
       "    <tr>\n",
       "        <td>Manisa</td>\n",
       "        <td>Turkey</td>\n",
       "        <td>15.1</td>\n",
       "    </tr>\n",
       "    <tr>\n",
       "        <td>Rome</td>\n",
       "        <td>Italy</td>\n",
       "        <td>15.1</td>\n",
       "    </tr>\n",
       "    <tr>\n",
       "        <td>Catania</td>\n",
       "        <td>Italy</td>\n",
       "        <td>15.04</td>\n",
       "    </tr>\n",
       "    <tr>\n",
       "        <td>Denizli</td>\n",
       "        <td>Turkey</td>\n",
       "        <td>15.02</td>\n",
       "    </tr>\n",
       "    <tr>\n",
       "        <td>Murcia</td>\n",
       "        <td>Spain</td>\n",
       "        <td>15.0</td>\n",
       "    </tr>\n",
       "    <tr>\n",
       "        <td>Marseille</td>\n",
       "        <td>France</td>\n",
       "        <td>14.98</td>\n",
       "    </tr>\n",
       "</table>"
      ],
      "text/plain": [
       "[(u'Adana', u'Turkey', 18.67),\n",
       " (u'Palermo', u'Italy', 17.9),\n",
       " (u'Athens', u'Greece', 17.41),\n",
       " (u'Algeciras', u'Spain', 17.38),\n",
       " (u'Cartagena', u'Spain', 17.32),\n",
       " (u'Kalamata', u'Greece', 17.3),\n",
       " (u'Marbella', u'Spain', 17.19),\n",
       " (u'Huelva', u'Spain', 17.09),\n",
       " (u'Patras', u'Greece', 16.9),\n",
       " (u'Cosenza', u'Italy', 16.6),\n",
       " (u'Messina', u'Italy', 16.54),\n",
       " (u'Granada', u'Spain', 16.33),\n",
       " (u'Valencia', u'Spain', 16.02),\n",
       " (u'Trikala', u'Greece', 16.0),\n",
       " (u'Barcelona', u'Spain', 15.78),\n",
       " (u'Badajoz', u'Spain', 15.61),\n",
       " (u'Lisbon', u'Portugal', 15.52),\n",
       " (u'Elbasan', u'Albania', 15.18),\n",
       " (u'Bari', u'Italy', 15.15),\n",
       " (u'Pescara', u'Italy', 15.13),\n",
       " (u'Manisa', u'Turkey', 15.1),\n",
       " (u'Rome', u'Italy', 15.1),\n",
       " (u'Catania', u'Italy', 15.04),\n",
       " (u'Denizli', u'Turkey', 15.02),\n",
       " (u'Murcia', u'Spain', 15.0),\n",
       " (u'Marseille', u'France', 14.98)]"
      ]
     },
     "execution_count": 19,
     "metadata": {},
     "output_type": "execute_result"
    }
   ],
   "source": [
    "%%sql\n",
    "select city, country, temperature\n",
    "from Cities\n",
    "where temperature > (select avg(temperature) * 1.5 from Cities)\n",
    "order by temperature desc"
   ]
  },
  {
   "cell_type": "markdown",
   "metadata": {},
   "source": [
    "*Number of cities in the EU*"
   ]
  },
  {
   "cell_type": "code",
   "execution_count": 20,
   "metadata": {},
   "outputs": [
    {
     "name": "stdout",
     "output_type": "stream",
     "text": [
      " * sqlite://\n",
      "Done.\n"
     ]
    },
    {
     "data": {
      "text/html": [
       "<table>\n",
       "    <tr>\n",
       "        <th>count()</th>\n",
       "    </tr>\n",
       "    <tr>\n",
       "        <td>150</td>\n",
       "    </tr>\n",
       "</table>"
      ],
      "text/plain": [
       "[(150,)]"
      ]
     },
     "execution_count": 20,
     "metadata": {},
     "output_type": "execute_result"
    }
   ],
   "source": [
    "%%sql\n",
    "select count()\n",
    "from Cities\n",
    "where country in (select country from Countries where EU = 'yes')"
   ]
  },
  {
   "cell_type": "markdown",
   "metadata": {},
   "source": [
    "*Modify previous query to use \"not in\"*"
   ]
  },
  {
   "cell_type": "markdown",
   "metadata": {},
   "source": [
    "*Same query using join instead of subquery*"
   ]
  },
  {
   "cell_type": "code",
   "execution_count": 21,
   "metadata": {},
   "outputs": [
    {
     "name": "stdout",
     "output_type": "stream",
     "text": [
      " * sqlite://\n",
      "Done.\n"
     ]
    },
    {
     "data": {
      "text/html": [
       "<table>\n",
       "    <tr>\n",
       "        <th>count()</th>\n",
       "    </tr>\n",
       "    <tr>\n",
       "        <td>150</td>\n",
       "    </tr>\n",
       "</table>"
      ],
      "text/plain": [
       "[(150,)]"
      ]
     },
     "execution_count": 21,
     "metadata": {},
     "output_type": "execute_result"
    }
   ],
   "source": [
    "%%sql\n",
    "select count()\n",
    "from Cities, Countries\n",
    "where Cities.country = Countries.country\n",
    "and EU = 'yes'"
   ]
  },
  {
   "cell_type": "markdown",
   "metadata": {},
   "source": [
    "*Number of countries with no coastline and a city with longitude < 20*"
   ]
  },
  {
   "cell_type": "code",
   "execution_count": 22,
   "metadata": {},
   "outputs": [
    {
     "name": "stdout",
     "output_type": "stream",
     "text": [
      " * sqlite://\n",
      "Done.\n"
     ]
    },
    {
     "data": {
      "text/html": [
       "<table>\n",
       "    <tr>\n",
       "        <th>count()</th>\n",
       "    </tr>\n",
       "    <tr>\n",
       "        <td>7</td>\n",
       "    </tr>\n",
       "</table>"
      ],
      "text/plain": [
       "[(7,)]"
      ]
     },
     "execution_count": 22,
     "metadata": {},
     "output_type": "execute_result"
    }
   ],
   "source": [
    "%%sql\n",
    "select count()\n",
    "from Countries\n",
    "where coastline = 'no'\n",
    "and exists (select * from Cities where country = Countries.country\n",
    "            and longitude < 20)"
   ]
  },
  {
   "cell_type": "markdown",
   "metadata": {},
   "source": [
    "*Same query using join instead of subquery (see what's wrong and fix it)*"
   ]
  },
  {
   "cell_type": "code",
   "execution_count": 23,
   "metadata": {},
   "outputs": [
    {
     "name": "stdout",
     "output_type": "stream",
     "text": [
      " * sqlite://\n",
      "Done.\n"
     ]
    },
    {
     "data": {
      "text/html": [
       "<table>\n",
       "    <tr>\n",
       "        <th>count()</th>\n",
       "    </tr>\n",
       "    <tr>\n",
       "        <td>16</td>\n",
       "    </tr>\n",
       "</table>"
      ],
      "text/plain": [
       "[(16,)]"
      ]
     },
     "execution_count": 23,
     "metadata": {},
     "output_type": "execute_result"
    }
   ],
   "source": [
    "%%sql\n",
    "select count()\n",
    "from Countries, Cities\n",
    "where Countries.country = Cities.country\n",
    "and coastline = 'no' and longitude < 20"
   ]
  },
  {
   "cell_type": "markdown",
   "metadata": {},
   "source": [
    "*Find countries in Countries table with no city in Cities table using join instead of subquery (subquery version repeated first)*"
   ]
  },
  {
   "cell_type": "code",
   "execution_count": 24,
   "metadata": {},
   "outputs": [
    {
     "name": "stdout",
     "output_type": "stream",
     "text": [
      " * sqlite://\n",
      "Done.\n"
     ]
    },
    {
     "data": {
      "text/html": [
       "<table>\n",
       "    <tr>\n",
       "        <th>country</th>\n",
       "    </tr>\n",
       "    <tr>\n",
       "        <td>Cyprus</td>\n",
       "    </tr>\n",
       "    <tr>\n",
       "        <td>Iceland</td>\n",
       "    </tr>\n",
       "    <tr>\n",
       "        <td>Kosovo</td>\n",
       "    </tr>\n",
       "    <tr>\n",
       "        <td>Liechtenstein</td>\n",
       "    </tr>\n",
       "    <tr>\n",
       "        <td>Luxembourg</td>\n",
       "    </tr>\n",
       "</table>"
      ],
      "text/plain": [
       "[(u'Cyprus',),\n",
       " (u'Iceland',),\n",
       " (u'Kosovo',),\n",
       " (u'Liechtenstein',),\n",
       " (u'Luxembourg',)]"
      ]
     },
     "execution_count": 24,
     "metadata": {},
     "output_type": "execute_result"
    }
   ],
   "source": [
    "%%sql\n",
    "select country\n",
    "from Countries\n",
    "where not exists (select * from Cities\n",
    "                  where Cities.country = Countries.country)"
   ]
  },
  {
   "cell_type": "code",
   "execution_count": 25,
   "metadata": {},
   "outputs": [
    {
     "name": "stdout",
     "output_type": "stream",
     "text": [
      " * sqlite://\n",
      "(sqlite3.OperationalError) near \"FILL\": syntax error [SQL: u'FILL IN']\n"
     ]
    }
   ],
   "source": [
    "%%sql\n",
    "FILL IN"
   ]
  },
  {
   "cell_type": "markdown",
   "metadata": {},
   "source": [
    "### <font color = 'green'>Your Turn</font>"
   ]
  },
  {
   "cell_type": "markdown",
   "metadata": {
    "collapsed": true
   },
   "source": [
    "*Find all cities in a country whose population is < 2; return the city and country. First write the query without a subquery.*"
   ]
  },
  {
   "cell_type": "code",
   "execution_count": 26,
   "metadata": {},
   "outputs": [
    {
     "name": "stdout",
     "output_type": "stream",
     "text": [
      " * sqlite://\n",
      "(sqlite3.OperationalError) near \"YOUR\": syntax error [SQL: u'YOUR QUERY HERE']\n"
     ]
    }
   ],
   "source": [
    "%%sql\n",
    "YOUR QUERY HERE"
   ]
  },
  {
   "cell_type": "markdown",
   "metadata": {
    "collapsed": true
   },
   "source": [
    "*Now write the same query using a subquery instead of a join.*"
   ]
  },
  {
   "cell_type": "code",
   "execution_count": 27,
   "metadata": {},
   "outputs": [
    {
     "name": "stdout",
     "output_type": "stream",
     "text": [
      " * sqlite://\n",
      "(sqlite3.OperationalError) near \"FILL\": syntax error [SQL: u'FILL IN QUERY HERE']\n"
     ]
    }
   ],
   "source": [
    "%%sql\n",
    "FILL IN QUERY HERE"
   ]
  },
  {
   "cell_type": "markdown",
   "metadata": {
    "collapsed": true
   },
   "source": [
    "*Find all countries with no city having a temperature > 6*"
   ]
  },
  {
   "cell_type": "code",
   "execution_count": 28,
   "metadata": {},
   "outputs": [
    {
     "name": "stdout",
     "output_type": "stream",
     "text": [
      " * sqlite://\n",
      "(sqlite3.OperationalError) near \"FILL\": syntax error [SQL: u'FILL IN QUERY HERE']\n"
     ]
    }
   ],
   "source": [
    "%%sql\n",
    "FILL IN QUERY HERE"
   ]
  },
  {
   "cell_type": "markdown",
   "metadata": {
    "collapsed": true
   },
   "source": [
    "*Now try to write the same query without a subquery; can you?*"
   ]
  },
  {
   "cell_type": "code",
   "execution_count": 29,
   "metadata": {},
   "outputs": [
    {
     "name": "stdout",
     "output_type": "stream",
     "text": [
      " * sqlite://\n",
      "(sqlite3.OperationalError) near \"FILL\": syntax error [SQL: u'FILL IN QUERY HERE']\n"
     ]
    }
   ],
   "source": [
    "%%sql\n",
    "FILL IN QUERY HERE"
   ]
  },
  {
   "cell_type": "markdown",
   "metadata": {},
   "source": [
    "### Aggregation with Having clause"
   ]
  },
  {
   "cell_type": "markdown",
   "metadata": {},
   "source": [
    "*Find all countries with average city temperature > 10; return country and average temperature*"
   ]
  },
  {
   "cell_type": "code",
   "execution_count": 30,
   "metadata": {},
   "outputs": [
    {
     "name": "stdout",
     "output_type": "stream",
     "text": [
      " * sqlite://\n",
      "Done.\n"
     ]
    },
    {
     "data": {
      "text/html": [
       "<table>\n",
       "    <tr>\n",
       "        <th>country</th>\n",
       "        <th>avg(temperature)</th>\n",
       "    </tr>\n",
       "    <tr>\n",
       "        <td>Albania</td>\n",
       "        <td>15.18</td>\n",
       "    </tr>\n",
       "    <tr>\n",
       "        <td>Bulgaria</td>\n",
       "        <td>10.44</td>\n",
       "    </tr>\n",
       "    <tr>\n",
       "        <td>Croatia</td>\n",
       "        <td>10.865</td>\n",
       "    </tr>\n",
       "    <tr>\n",
       "        <td>France</td>\n",
       "        <td>10.1511111111</td>\n",
       "    </tr>\n",
       "    <tr>\n",
       "        <td>Greece</td>\n",
       "        <td>16.9025</td>\n",
       "    </tr>\n",
       "    <tr>\n",
       "        <td>Italy</td>\n",
       "        <td>13.4746666667</td>\n",
       "    </tr>\n",
       "    <tr>\n",
       "        <td>Portugal</td>\n",
       "        <td>14.47</td>\n",
       "    </tr>\n",
       "    <tr>\n",
       "        <td>Spain</td>\n",
       "        <td>14.2383333333</td>\n",
       "    </tr>\n",
       "    <tr>\n",
       "        <td>Turkey</td>\n",
       "        <td>11.7266666667</td>\n",
       "    </tr>\n",
       "</table>"
      ],
      "text/plain": [
       "[(u'Albania', 15.18),\n",
       " (u'Bulgaria', 10.44),\n",
       " (u'Croatia', 10.865),\n",
       " (u'France', 10.151111111111112),\n",
       " (u'Greece', 16.9025),\n",
       " (u'Italy', 13.474666666666668),\n",
       " (u'Portugal', 14.469999999999999),\n",
       " (u'Spain', 14.238333333333332),\n",
       " (u'Turkey', 11.726666666666665)]"
      ]
     },
     "execution_count": 30,
     "metadata": {},
     "output_type": "execute_result"
    }
   ],
   "source": [
    "%%sql\n",
    "select country, avg(temperature)\n",
    "from Cities\n",
    "group by country\n",
    "having avg(temperature) > 10"
   ]
  },
  {
   "cell_type": "markdown",
   "metadata": {},
   "source": [
    "*Find all countries with more than 10 cities*"
   ]
  },
  {
   "cell_type": "code",
   "execution_count": 31,
   "metadata": {},
   "outputs": [
    {
     "name": "stdout",
     "output_type": "stream",
     "text": [
      " * sqlite://\n",
      "Done.\n"
     ]
    },
    {
     "data": {
      "text/html": [
       "<table>\n",
       "    <tr>\n",
       "        <th>country</th>\n",
       "    </tr>\n",
       "    <tr>\n",
       "        <td>France</td>\n",
       "    </tr>\n",
       "    <tr>\n",
       "        <td>Germany</td>\n",
       "    </tr>\n",
       "    <tr>\n",
       "        <td>Italy</td>\n",
       "    </tr>\n",
       "    <tr>\n",
       "        <td>Spain</td>\n",
       "    </tr>\n",
       "    <tr>\n",
       "        <td>Turkey</td>\n",
       "    </tr>\n",
       "    <tr>\n",
       "        <td>Ukraine</td>\n",
       "    </tr>\n",
       "    <tr>\n",
       "        <td>United Kingdom</td>\n",
       "    </tr>\n",
       "</table>"
      ],
      "text/plain": [
       "[(u'France',),\n",
       " (u'Germany',),\n",
       " (u'Italy',),\n",
       " (u'Spain',),\n",
       " (u'Turkey',),\n",
       " (u'Ukraine',),\n",
       " (u'United Kingdom',)]"
      ]
     },
     "execution_count": 31,
     "metadata": {},
     "output_type": "execute_result"
    }
   ],
   "source": [
    "%%sql\n",
    "select country\n",
    "from Cities\n",
    "group by country\n",
    "having count() > 10"
   ]
  },
  {
   "cell_type": "markdown",
   "metadata": {},
   "source": [
    "*Same query without Having clause*"
   ]
  },
  {
   "cell_type": "code",
   "execution_count": 32,
   "metadata": {},
   "outputs": [
    {
     "name": "stdout",
     "output_type": "stream",
     "text": [
      " * sqlite://\n",
      "Done.\n"
     ]
    },
    {
     "data": {
      "text/html": [
       "<table>\n",
       "    <tr>\n",
       "        <th>country</th>\n",
       "    </tr>\n",
       "    <tr>\n",
       "        <td>United Kingdom</td>\n",
       "    </tr>\n",
       "    <tr>\n",
       "        <td>Turkey</td>\n",
       "    </tr>\n",
       "    <tr>\n",
       "        <td>Spain</td>\n",
       "    </tr>\n",
       "    <tr>\n",
       "        <td>France</td>\n",
       "    </tr>\n",
       "    <tr>\n",
       "        <td>Italy</td>\n",
       "    </tr>\n",
       "    <tr>\n",
       "        <td>Germany</td>\n",
       "    </tr>\n",
       "    <tr>\n",
       "        <td>Ukraine</td>\n",
       "    </tr>\n",
       "</table>"
      ],
      "text/plain": [
       "[(u'United Kingdom',),\n",
       " (u'Turkey',),\n",
       " (u'Spain',),\n",
       " (u'France',),\n",
       " (u'Italy',),\n",
       " (u'Germany',),\n",
       " (u'Ukraine',)]"
      ]
     },
     "execution_count": 32,
     "metadata": {},
     "output_type": "execute_result"
    }
   ],
   "source": [
    "%%sql\n",
    "select distinct country\n",
    "from Cities C1\n",
    "where 10 < (select count() from Cities C2\n",
    "            where C1.country=C2.country)"
   ]
  },
  {
   "cell_type": "markdown",
   "metadata": {},
   "source": [
    "*Which combinations of EU versus non-EU and coastline versus no-coastline have a minimum population greater than 0.5?*"
   ]
  },
  {
   "cell_type": "code",
   "execution_count": 33,
   "metadata": {},
   "outputs": [
    {
     "name": "stdout",
     "output_type": "stream",
     "text": [
      " * sqlite://\n",
      "Done.\n"
     ]
    },
    {
     "data": {
      "text/html": [
       "<table>\n",
       "    <tr>\n",
       "        <th>EU</th>\n",
       "        <th>coastline</th>\n",
       "        <th>min(population)</th>\n",
       "    </tr>\n",
       "    <tr>\n",
       "        <td>yes</td>\n",
       "        <td>no</td>\n",
       "        <td>0.58</td>\n",
       "    </tr>\n",
       "    <tr>\n",
       "        <td>yes</td>\n",
       "        <td>yes</td>\n",
       "        <td>1.18</td>\n",
       "    </tr>\n",
       "</table>"
      ],
      "text/plain": [
       "[(u'yes', u'no', 0.58), (u'yes', u'yes', 1.18)]"
      ]
     },
     "execution_count": 33,
     "metadata": {},
     "output_type": "execute_result"
    }
   ],
   "source": [
    "%%sql\n",
    "select EU, coastline, min(population)\n",
    "from Countries\n",
    "group by EU, coastline\n",
    "having min(population) > 0.5"
   ]
  },
  {
   "cell_type": "markdown",
   "metadata": {},
   "source": [
    "*Find all countries with average city temperature more than 50% higher than the overall average; return country and average temperature*"
   ]
  },
  {
   "cell_type": "code",
   "execution_count": 34,
   "metadata": {},
   "outputs": [
    {
     "name": "stdout",
     "output_type": "stream",
     "text": [
      " * sqlite://\n",
      "Done.\n"
     ]
    },
    {
     "data": {
      "text/html": [
       "<table>\n",
       "    <tr>\n",
       "        <th>country</th>\n",
       "        <th>avg(temperature)</th>\n",
       "    </tr>\n",
       "    <tr>\n",
       "        <td>Albania</td>\n",
       "        <td>15.18</td>\n",
       "    </tr>\n",
       "    <tr>\n",
       "        <td>Greece</td>\n",
       "        <td>16.9025</td>\n",
       "    </tr>\n",
       "    <tr>\n",
       "        <td>Portugal</td>\n",
       "        <td>14.47</td>\n",
       "    </tr>\n",
       "</table>"
      ],
      "text/plain": [
       "[(u'Albania', 15.18), (u'Greece', 16.9025), (u'Portugal', 14.469999999999999)]"
      ]
     },
     "execution_count": 34,
     "metadata": {},
     "output_type": "execute_result"
    }
   ],
   "source": [
    "%%sql\n",
    "select country, avg(temperature)\n",
    "from Cities\n",
    "group by country\n",
    "having avg(temperature) > (select 1.5 * avg(temperature) from Cities)"
   ]
  },
  {
   "cell_type": "markdown",
   "metadata": {},
   "source": [
    "### <font color = 'green'>Your Turn</font>"
   ]
  },
  {
   "cell_type": "markdown",
   "metadata": {
    "collapsed": true
   },
   "source": [
    "*Find all countries whose average city longitude is lower than the overall average longitude, and whose average city latitude is higher than the overall average latitude. Return the countries. Note: Yes, you can use \"and\" in Having clauses!*"
   ]
  },
  {
   "cell_type": "code",
   "execution_count": 35,
   "metadata": {},
   "outputs": [
    {
     "name": "stdout",
     "output_type": "stream",
     "text": [
      " * sqlite://\n",
      "(sqlite3.OperationalError) near \"FILL\": syntax error [SQL: u'FILL IN QUERY HERE']\n"
     ]
    }
   ],
   "source": [
    "%%sql\n",
    "FILL IN QUERY HERE"
   ]
  },
  {
   "cell_type": "markdown",
   "metadata": {},
   "source": [
    "### Subqueries in From and Select clauses"
   ]
  },
  {
   "cell_type": "markdown",
   "metadata": {},
   "source": [
    "*Find all countries with both cold and warm cities -- at least one city with temperature < 9 and one city with temperature > 14*"
   ]
  },
  {
   "cell_type": "code",
   "execution_count": 36,
   "metadata": {},
   "outputs": [
    {
     "name": "stdout",
     "output_type": "stream",
     "text": [
      " * sqlite://\n",
      "Done.\n"
     ]
    },
    {
     "data": {
      "text/html": [
       "<table>\n",
       "    <tr>\n",
       "        <th>country</th>\n",
       "    </tr>\n",
       "    <tr>\n",
       "        <td>France</td>\n",
       "    </tr>\n",
       "    <tr>\n",
       "        <td>Turkey</td>\n",
       "    </tr>\n",
       "    <tr>\n",
       "        <td>Italy</td>\n",
       "    </tr>\n",
       "</table>"
      ],
      "text/plain": [
       "[(u'France',), (u'Turkey',), (u'Italy',)]"
      ]
     },
     "execution_count": 36,
     "metadata": {},
     "output_type": "execute_result"
    }
   ],
   "source": [
    "%%sql\n",
    "select distinct C1.country\n",
    "from Cities C1, Cities C2\n",
    "where C1.country = C2.country\n",
    "and C1.temperature < 9 and C2.temperature > 14"
   ]
  },
  {
   "cell_type": "markdown",
   "metadata": {},
   "source": [
    "*Modify query to also return count of cold and warm cities (then show without column renaming)*"
   ]
  },
  {
   "cell_type": "code",
   "execution_count": 37,
   "metadata": {},
   "outputs": [],
   "source": [
    "# (select count() from Cities where country = C1.country and temperature < 9) as numcold,\n",
    "# (select count() from Cities where country = C1.country and temperature > 14) as numwarm"
   ]
  },
  {
   "cell_type": "markdown",
   "metadata": {},
   "source": [
    "*Same query using subquery in From clause instead of Select clause*"
   ]
  },
  {
   "cell_type": "code",
   "execution_count": 38,
   "metadata": {},
   "outputs": [
    {
     "name": "stdout",
     "output_type": "stream",
     "text": [
      " * sqlite://\n",
      "Done.\n"
     ]
    },
    {
     "data": {
      "text/html": [
       "<table>\n",
       "    <tr>\n",
       "        <th>country</th>\n",
       "        <th>numcold</th>\n",
       "        <th>numwarm</th>\n",
       "    </tr>\n",
       "    <tr>\n",
       "        <td>France</td>\n",
       "        <td>5</td>\n",
       "        <td>1</td>\n",
       "    </tr>\n",
       "    <tr>\n",
       "        <td>Italy</td>\n",
       "        <td>1</td>\n",
       "        <td>7</td>\n",
       "    </tr>\n",
       "    <tr>\n",
       "        <td>Turkey</td>\n",
       "        <td>4</td>\n",
       "        <td>5</td>\n",
       "    </tr>\n",
       "</table>"
      ],
      "text/plain": [
       "[(u'France', 5, 1), (u'Italy', 1, 7), (u'Turkey', 4, 5)]"
      ]
     },
     "execution_count": 38,
     "metadata": {},
     "output_type": "execute_result"
    }
   ],
   "source": [
    "%%sql\n",
    "select Cold.country, numcold, numwarm\n",
    "from (select country, count() as numcold from Cities\n",
    "      where temperature < 9 group by country) Cold,\n",
    "     (select country, count() as numwarm from Cities\n",
    "      where temperature > 14 group by country) Warm\n",
    "where Cold.country = Warm.country"
   ]
  },
  {
   "cell_type": "markdown",
   "metadata": {},
   "source": [
    "### Data modification"
   ]
  },
  {
   "cell_type": "markdown",
   "metadata": {},
   "source": [
    "*Increase all city temperatures by 10%*"
   ]
  },
  {
   "cell_type": "code",
   "execution_count": 39,
   "metadata": {},
   "outputs": [
    {
     "name": "stdout",
     "output_type": "stream",
     "text": [
      " * sqlite://\n",
      "213 rows affected.\n"
     ]
    },
    {
     "data": {
      "text/plain": [
       "[]"
      ]
     },
     "execution_count": 39,
     "metadata": {},
     "output_type": "execute_result"
    }
   ],
   "source": [
    "%%sql\n",
    "update Cities\n",
    "set temperature = 1.1 * temperature"
   ]
  },
  {
   "cell_type": "code",
   "execution_count": 40,
   "metadata": {},
   "outputs": [
    {
     "name": "stdout",
     "output_type": "stream",
     "text": [
      " * sqlite://\n",
      "Done.\n"
     ]
    },
    {
     "data": {
      "text/html": [
       "<table>\n",
       "    <tr>\n",
       "        <th>avg(temperature)</th>\n",
       "    </tr>\n",
       "    <tr>\n",
       "        <td>10.4476244131</td>\n",
       "    </tr>\n",
       "</table>"
      ],
      "text/plain": [
       "[(10.447624413145537,)]"
      ]
     },
     "execution_count": 40,
     "metadata": {},
     "output_type": "execute_result"
    }
   ],
   "source": [
    "%%sql\n",
    "select avg(temperature) from Cities"
   ]
  },
  {
   "cell_type": "markdown",
   "metadata": {},
   "source": [
    "*Increase temperatures another 10% for cities in countries with coastline*"
   ]
  },
  {
   "cell_type": "code",
   "execution_count": 41,
   "metadata": {},
   "outputs": [
    {
     "name": "stdout",
     "output_type": "stream",
     "text": [
      " * sqlite://\n",
      "183 rows affected.\n"
     ]
    },
    {
     "data": {
      "text/plain": [
       "[]"
      ]
     },
     "execution_count": 41,
     "metadata": {},
     "output_type": "execute_result"
    }
   ],
   "source": [
    "%%sql\n",
    "update Cities\n",
    "set temperature = 1.1 * temperature\n",
    "where country in (select country from Countries\n",
    "                  where coastline = 'yes')"
   ]
  },
  {
   "cell_type": "markdown",
   "metadata": {},
   "source": [
    "*Delete all cities in Turkey*"
   ]
  },
  {
   "cell_type": "code",
   "execution_count": 42,
   "metadata": {},
   "outputs": [
    {
     "name": "stdout",
     "output_type": "stream",
     "text": [
      " * sqlite://\n",
      "24 rows affected.\n"
     ]
    },
    {
     "data": {
      "text/plain": [
       "[]"
      ]
     },
     "execution_count": 42,
     "metadata": {},
     "output_type": "execute_result"
    }
   ],
   "source": [
    "%%sql\n",
    "delete from Cities\n",
    "where country = 'Turkey'"
   ]
  },
  {
   "cell_type": "markdown",
   "metadata": {},
   "source": [
    "*Create a new table non-EU containing list of cities (with country) not in the EU*"
   ]
  },
  {
   "cell_type": "code",
   "execution_count": 43,
   "metadata": {},
   "outputs": [
    {
     "name": "stdout",
     "output_type": "stream",
     "text": [
      " * sqlite://\n",
      "Done.\n",
      "Done.\n",
      "39 rows affected.\n",
      "Done.\n"
     ]
    },
    {
     "data": {
      "text/html": [
       "<table>\n",
       "    <tr>\n",
       "        <th>city</th>\n",
       "        <th>country</th>\n",
       "    </tr>\n",
       "    <tr>\n",
       "        <td>Andorra</td>\n",
       "        <td>Andorra</td>\n",
       "    </tr>\n",
       "    <tr>\n",
       "        <td>Balti</td>\n",
       "        <td>Moldova</td>\n",
       "    </tr>\n",
       "    <tr>\n",
       "        <td>Basel</td>\n",
       "        <td>Switzerland</td>\n",
       "    </tr>\n",
       "    <tr>\n",
       "        <td>Belgrade</td>\n",
       "        <td>Serbia</td>\n",
       "    </tr>\n",
       "    <tr>\n",
       "        <td>Bergen</td>\n",
       "        <td>Norway</td>\n",
       "    </tr>\n",
       "    <tr>\n",
       "        <td>Bila Tserkva</td>\n",
       "        <td>Ukraine</td>\n",
       "    </tr>\n",
       "    <tr>\n",
       "        <td>Bodo</td>\n",
       "        <td>Norway</td>\n",
       "    </tr>\n",
       "    <tr>\n",
       "        <td>Brest</td>\n",
       "        <td>Belarus</td>\n",
       "    </tr>\n",
       "    <tr>\n",
       "        <td>Cherkasy</td>\n",
       "        <td>Ukraine</td>\n",
       "    </tr>\n",
       "    <tr>\n",
       "        <td>Chernihiv</td>\n",
       "        <td>Ukraine</td>\n",
       "    </tr>\n",
       "    <tr>\n",
       "        <td>Chernivtsi</td>\n",
       "        <td>Ukraine</td>\n",
       "    </tr>\n",
       "    <tr>\n",
       "        <td>Chisinau</td>\n",
       "        <td>Moldova</td>\n",
       "    </tr>\n",
       "    <tr>\n",
       "        <td>Elbasan</td>\n",
       "        <td>Albania</td>\n",
       "    </tr>\n",
       "    <tr>\n",
       "        <td>Geneva</td>\n",
       "        <td>Switzerland</td>\n",
       "    </tr>\n",
       "    <tr>\n",
       "        <td>Horlivka</td>\n",
       "        <td>Ukraine</td>\n",
       "    </tr>\n",
       "    <tr>\n",
       "        <td>Hrodna</td>\n",
       "        <td>Belarus</td>\n",
       "    </tr>\n",
       "    <tr>\n",
       "        <td>Kherson</td>\n",
       "        <td>Ukraine</td>\n",
       "    </tr>\n",
       "    <tr>\n",
       "        <td>Kiev</td>\n",
       "        <td>Ukraine</td>\n",
       "    </tr>\n",
       "    <tr>\n",
       "        <td>Kremenchuk</td>\n",
       "        <td>Ukraine</td>\n",
       "    </tr>\n",
       "    <tr>\n",
       "        <td>Kryvyy Rih</td>\n",
       "        <td>Ukraine</td>\n",
       "    </tr>\n",
       "    <tr>\n",
       "        <td>Lvov</td>\n",
       "        <td>Ukraine</td>\n",
       "    </tr>\n",
       "    <tr>\n",
       "        <td>Makiyivka</td>\n",
       "        <td>Ukraine</td>\n",
       "    </tr>\n",
       "    <tr>\n",
       "        <td>Mazyr</td>\n",
       "        <td>Belarus</td>\n",
       "    </tr>\n",
       "    <tr>\n",
       "        <td>Minsk</td>\n",
       "        <td>Belarus</td>\n",
       "    </tr>\n",
       "    <tr>\n",
       "        <td>Nis</td>\n",
       "        <td>Serbia</td>\n",
       "    </tr>\n",
       "    <tr>\n",
       "        <td>Novi Sad</td>\n",
       "        <td>Serbia</td>\n",
       "    </tr>\n",
       "    <tr>\n",
       "        <td>Orsha</td>\n",
       "        <td>Belarus</td>\n",
       "    </tr>\n",
       "    <tr>\n",
       "        <td>Oslo</td>\n",
       "        <td>Norway</td>\n",
       "    </tr>\n",
       "    <tr>\n",
       "        <td>Pinsk</td>\n",
       "        <td>Belarus</td>\n",
       "    </tr>\n",
       "    <tr>\n",
       "        <td>Podgorica</td>\n",
       "        <td>Montenegro</td>\n",
       "    </tr>\n",
       "    <tr>\n",
       "        <td>Rivne</td>\n",
       "        <td>Ukraine</td>\n",
       "    </tr>\n",
       "    <tr>\n",
       "        <td>Sarajevo</td>\n",
       "        <td>Bosnia and Herzegovina</td>\n",
       "    </tr>\n",
       "    <tr>\n",
       "        <td>Skopje</td>\n",
       "        <td>Macedonia</td>\n",
       "    </tr>\n",
       "    <tr>\n",
       "        <td>Stavanger</td>\n",
       "        <td>Norway</td>\n",
       "    </tr>\n",
       "    <tr>\n",
       "        <td>Sumy</td>\n",
       "        <td>Ukraine</td>\n",
       "    </tr>\n",
       "    <tr>\n",
       "        <td>Trondheim</td>\n",
       "        <td>Norway</td>\n",
       "    </tr>\n",
       "    <tr>\n",
       "        <td>Yevpatoriya</td>\n",
       "        <td>Ukraine</td>\n",
       "    </tr>\n",
       "    <tr>\n",
       "        <td>Zhytomyr</td>\n",
       "        <td>Ukraine</td>\n",
       "    </tr>\n",
       "    <tr>\n",
       "        <td>Zurich</td>\n",
       "        <td>Switzerland</td>\n",
       "    </tr>\n",
       "</table>"
      ],
      "text/plain": [
       "[(u'Andorra', u'Andorra'),\n",
       " (u'Balti', u'Moldova'),\n",
       " (u'Basel', u'Switzerland'),\n",
       " (u'Belgrade', u'Serbia'),\n",
       " (u'Bergen', u'Norway'),\n",
       " (u'Bila Tserkva', u'Ukraine'),\n",
       " (u'Bodo', u'Norway'),\n",
       " (u'Brest', u'Belarus'),\n",
       " (u'Cherkasy', u'Ukraine'),\n",
       " (u'Chernihiv', u'Ukraine'),\n",
       " (u'Chernivtsi', u'Ukraine'),\n",
       " (u'Chisinau', u'Moldova'),\n",
       " (u'Elbasan', u'Albania'),\n",
       " (u'Geneva', u'Switzerland'),\n",
       " (u'Horlivka', u'Ukraine'),\n",
       " (u'Hrodna', u'Belarus'),\n",
       " (u'Kherson', u'Ukraine'),\n",
       " (u'Kiev', u'Ukraine'),\n",
       " (u'Kremenchuk', u'Ukraine'),\n",
       " (u'Kryvyy Rih', u'Ukraine'),\n",
       " (u'Lvov', u'Ukraine'),\n",
       " (u'Makiyivka', u'Ukraine'),\n",
       " (u'Mazyr', u'Belarus'),\n",
       " (u'Minsk', u'Belarus'),\n",
       " (u'Nis', u'Serbia'),\n",
       " (u'Novi Sad', u'Serbia'),\n",
       " (u'Orsha', u'Belarus'),\n",
       " (u'Oslo', u'Norway'),\n",
       " (u'Pinsk', u'Belarus'),\n",
       " (u'Podgorica', u'Montenegro'),\n",
       " (u'Rivne', u'Ukraine'),\n",
       " (u'Sarajevo', u'Bosnia and Herzegovina'),\n",
       " (u'Skopje', u'Macedonia'),\n",
       " (u'Stavanger', u'Norway'),\n",
       " (u'Sumy', u'Ukraine'),\n",
       " (u'Trondheim', u'Norway'),\n",
       " (u'Yevpatoriya', u'Ukraine'),\n",
       " (u'Zhytomyr', u'Ukraine'),\n",
       " (u'Zurich', u'Switzerland')]"
      ]
     },
     "execution_count": 43,
     "metadata": {},
     "output_type": "execute_result"
    }
   ],
   "source": [
    "%%sql\n",
    "drop table if exists NonEU;\n",
    "create table NonEU(city, country);\n",
    "insert into NonEU\n",
    "  select city, country from cities\n",
    "  where country in (select country from Countries\n",
    "                    where EU = 'no');\n",
    "select * from NonEU"
   ]
  },
  {
   "cell_type": "markdown",
   "metadata": {},
   "source": [
    "*Add your city*"
   ]
  },
  {
   "cell_type": "code",
   "execution_count": 44,
   "metadata": {},
   "outputs": [
    {
     "name": "stdout",
     "output_type": "stream",
     "text": [
      " * sqlite://\n",
      "1 rows affected.\n",
      "Done.\n"
     ]
    },
    {
     "data": {
      "text/html": [
       "<table>\n",
       "    <tr>\n",
       "        <th>city</th>\n",
       "        <th>country</th>\n",
       "    </tr>\n",
       "    <tr>\n",
       "        <td>Andorra</td>\n",
       "        <td>Andorra</td>\n",
       "    </tr>\n",
       "    <tr>\n",
       "        <td>Balti</td>\n",
       "        <td>Moldova</td>\n",
       "    </tr>\n",
       "    <tr>\n",
       "        <td>Basel</td>\n",
       "        <td>Switzerland</td>\n",
       "    </tr>\n",
       "    <tr>\n",
       "        <td>Belgrade</td>\n",
       "        <td>Serbia</td>\n",
       "    </tr>\n",
       "    <tr>\n",
       "        <td>Bergen</td>\n",
       "        <td>Norway</td>\n",
       "    </tr>\n",
       "    <tr>\n",
       "        <td>Bila Tserkva</td>\n",
       "        <td>Ukraine</td>\n",
       "    </tr>\n",
       "    <tr>\n",
       "        <td>Bodo</td>\n",
       "        <td>Norway</td>\n",
       "    </tr>\n",
       "    <tr>\n",
       "        <td>Brest</td>\n",
       "        <td>Belarus</td>\n",
       "    </tr>\n",
       "    <tr>\n",
       "        <td>Cherkasy</td>\n",
       "        <td>Ukraine</td>\n",
       "    </tr>\n",
       "    <tr>\n",
       "        <td>Chernihiv</td>\n",
       "        <td>Ukraine</td>\n",
       "    </tr>\n",
       "    <tr>\n",
       "        <td>Chernivtsi</td>\n",
       "        <td>Ukraine</td>\n",
       "    </tr>\n",
       "    <tr>\n",
       "        <td>Chisinau</td>\n",
       "        <td>Moldova</td>\n",
       "    </tr>\n",
       "    <tr>\n",
       "        <td>Elbasan</td>\n",
       "        <td>Albania</td>\n",
       "    </tr>\n",
       "    <tr>\n",
       "        <td>Geneva</td>\n",
       "        <td>Switzerland</td>\n",
       "    </tr>\n",
       "    <tr>\n",
       "        <td>Horlivka</td>\n",
       "        <td>Ukraine</td>\n",
       "    </tr>\n",
       "    <tr>\n",
       "        <td>Hrodna</td>\n",
       "        <td>Belarus</td>\n",
       "    </tr>\n",
       "    <tr>\n",
       "        <td>Kherson</td>\n",
       "        <td>Ukraine</td>\n",
       "    </tr>\n",
       "    <tr>\n",
       "        <td>Kiev</td>\n",
       "        <td>Ukraine</td>\n",
       "    </tr>\n",
       "    <tr>\n",
       "        <td>Kremenchuk</td>\n",
       "        <td>Ukraine</td>\n",
       "    </tr>\n",
       "    <tr>\n",
       "        <td>Kryvyy Rih</td>\n",
       "        <td>Ukraine</td>\n",
       "    </tr>\n",
       "    <tr>\n",
       "        <td>Lvov</td>\n",
       "        <td>Ukraine</td>\n",
       "    </tr>\n",
       "    <tr>\n",
       "        <td>Makiyivka</td>\n",
       "        <td>Ukraine</td>\n",
       "    </tr>\n",
       "    <tr>\n",
       "        <td>Mazyr</td>\n",
       "        <td>Belarus</td>\n",
       "    </tr>\n",
       "    <tr>\n",
       "        <td>Minsk</td>\n",
       "        <td>Belarus</td>\n",
       "    </tr>\n",
       "    <tr>\n",
       "        <td>Nis</td>\n",
       "        <td>Serbia</td>\n",
       "    </tr>\n",
       "    <tr>\n",
       "        <td>Novi Sad</td>\n",
       "        <td>Serbia</td>\n",
       "    </tr>\n",
       "    <tr>\n",
       "        <td>Orsha</td>\n",
       "        <td>Belarus</td>\n",
       "    </tr>\n",
       "    <tr>\n",
       "        <td>Oslo</td>\n",
       "        <td>Norway</td>\n",
       "    </tr>\n",
       "    <tr>\n",
       "        <td>Pinsk</td>\n",
       "        <td>Belarus</td>\n",
       "    </tr>\n",
       "    <tr>\n",
       "        <td>Podgorica</td>\n",
       "        <td>Montenegro</td>\n",
       "    </tr>\n",
       "    <tr>\n",
       "        <td>Rivne</td>\n",
       "        <td>Ukraine</td>\n",
       "    </tr>\n",
       "    <tr>\n",
       "        <td>Sarajevo</td>\n",
       "        <td>Bosnia and Herzegovina</td>\n",
       "    </tr>\n",
       "    <tr>\n",
       "        <td>Skopje</td>\n",
       "        <td>Macedonia</td>\n",
       "    </tr>\n",
       "    <tr>\n",
       "        <td>Stavanger</td>\n",
       "        <td>Norway</td>\n",
       "    </tr>\n",
       "    <tr>\n",
       "        <td>Sumy</td>\n",
       "        <td>Ukraine</td>\n",
       "    </tr>\n",
       "    <tr>\n",
       "        <td>Trondheim</td>\n",
       "        <td>Norway</td>\n",
       "    </tr>\n",
       "    <tr>\n",
       "        <td>Yevpatoriya</td>\n",
       "        <td>Ukraine</td>\n",
       "    </tr>\n",
       "    <tr>\n",
       "        <td>Zhytomyr</td>\n",
       "        <td>Ukraine</td>\n",
       "    </tr>\n",
       "    <tr>\n",
       "        <td>Zurich</td>\n",
       "        <td>Switzerland</td>\n",
       "    </tr>\n",
       "    <tr>\n",
       "        <td>my-city</td>\n",
       "        <td>my-country</td>\n",
       "    </tr>\n",
       "</table>"
      ],
      "text/plain": [
       "[(u'Andorra', u'Andorra'),\n",
       " (u'Balti', u'Moldova'),\n",
       " (u'Basel', u'Switzerland'),\n",
       " (u'Belgrade', u'Serbia'),\n",
       " (u'Bergen', u'Norway'),\n",
       " (u'Bila Tserkva', u'Ukraine'),\n",
       " (u'Bodo', u'Norway'),\n",
       " (u'Brest', u'Belarus'),\n",
       " (u'Cherkasy', u'Ukraine'),\n",
       " (u'Chernihiv', u'Ukraine'),\n",
       " (u'Chernivtsi', u'Ukraine'),\n",
       " (u'Chisinau', u'Moldova'),\n",
       " (u'Elbasan', u'Albania'),\n",
       " (u'Geneva', u'Switzerland'),\n",
       " (u'Horlivka', u'Ukraine'),\n",
       " (u'Hrodna', u'Belarus'),\n",
       " (u'Kherson', u'Ukraine'),\n",
       " (u'Kiev', u'Ukraine'),\n",
       " (u'Kremenchuk', u'Ukraine'),\n",
       " (u'Kryvyy Rih', u'Ukraine'),\n",
       " (u'Lvov', u'Ukraine'),\n",
       " (u'Makiyivka', u'Ukraine'),\n",
       " (u'Mazyr', u'Belarus'),\n",
       " (u'Minsk', u'Belarus'),\n",
       " (u'Nis', u'Serbia'),\n",
       " (u'Novi Sad', u'Serbia'),\n",
       " (u'Orsha', u'Belarus'),\n",
       " (u'Oslo', u'Norway'),\n",
       " (u'Pinsk', u'Belarus'),\n",
       " (u'Podgorica', u'Montenegro'),\n",
       " (u'Rivne', u'Ukraine'),\n",
       " (u'Sarajevo', u'Bosnia and Herzegovina'),\n",
       " (u'Skopje', u'Macedonia'),\n",
       " (u'Stavanger', u'Norway'),\n",
       " (u'Sumy', u'Ukraine'),\n",
       " (u'Trondheim', u'Norway'),\n",
       " (u'Yevpatoriya', u'Ukraine'),\n",
       " (u'Zhytomyr', u'Ukraine'),\n",
       " (u'Zurich', u'Switzerland'),\n",
       " (u'my-city', u'my-country')]"
      ]
     },
     "execution_count": 44,
     "metadata": {},
     "output_type": "execute_result"
    }
   ],
   "source": [
    "%%sql\n",
    "insert into NonEU values ('my-city','my-country');\n",
    "select * from NonEU"
   ]
  },
  {
   "cell_type": "markdown",
   "metadata": {},
   "source": [
    "### <font color = 'green'>Your Turn - Advanced SQL on World Cup Data</font>"
   ]
  },
  {
   "cell_type": "markdown",
   "metadata": {},
   "source": [
    "#### Look at sample of Players and Teams tables"
   ]
  },
  {
   "cell_type": "code",
   "execution_count": 45,
   "metadata": {
    "scrolled": true
   },
   "outputs": [
    {
     "name": "stdout",
     "output_type": "stream",
     "text": [
      " * sqlite://\n",
      "Done.\n"
     ]
    },
    {
     "data": {
      "text/html": [
       "<table>\n",
       "    <tr>\n",
       "        <th>surname</th>\n",
       "        <th>team</th>\n",
       "        <th>position</th>\n",
       "        <th>minutes</th>\n",
       "        <th>shots</th>\n",
       "        <th>passes</th>\n",
       "        <th>tackles</th>\n",
       "        <th>saves</th>\n",
       "    </tr>\n",
       "    <tr>\n",
       "        <td>Abdoun</td>\n",
       "        <td>Algeria</td>\n",
       "        <td>midfielder</td>\n",
       "        <td>16</td>\n",
       "        <td>0</td>\n",
       "        <td>6</td>\n",
       "        <td>0</td>\n",
       "        <td>0</td>\n",
       "    </tr>\n",
       "    <tr>\n",
       "        <td>Belhadj</td>\n",
       "        <td>Algeria</td>\n",
       "        <td>defender</td>\n",
       "        <td>270</td>\n",
       "        <td>1</td>\n",
       "        <td>146</td>\n",
       "        <td>8</td>\n",
       "        <td>0</td>\n",
       "    </tr>\n",
       "    <tr>\n",
       "        <td>Boudebouz</td>\n",
       "        <td>Algeria</td>\n",
       "        <td>midfielder</td>\n",
       "        <td>74</td>\n",
       "        <td>3</td>\n",
       "        <td>28</td>\n",
       "        <td>1</td>\n",
       "        <td>0</td>\n",
       "    </tr>\n",
       "    <tr>\n",
       "        <td>Bougherra</td>\n",
       "        <td>Algeria</td>\n",
       "        <td>defender</td>\n",
       "        <td>270</td>\n",
       "        <td>1</td>\n",
       "        <td>89</td>\n",
       "        <td>11</td>\n",
       "        <td>0</td>\n",
       "    </tr>\n",
       "    <tr>\n",
       "        <td>Chaouchi</td>\n",
       "        <td>Algeria</td>\n",
       "        <td>goalkeeper</td>\n",
       "        <td>90</td>\n",
       "        <td>0</td>\n",
       "        <td>17</td>\n",
       "        <td>0</td>\n",
       "        <td>2</td>\n",
       "    </tr>\n",
       "</table>"
      ],
      "text/plain": [
       "[(u'Abdoun', u'Algeria', u'midfielder', 16, 0, 6, 0, 0),\n",
       " (u'Belhadj', u'Algeria', u'defender', 270, 1, 146, 8, 0),\n",
       " (u'Boudebouz', u'Algeria', u'midfielder', 74, 3, 28, 1, 0),\n",
       " (u'Bougherra', u'Algeria', u'defender', 270, 1, 89, 11, 0),\n",
       " (u'Chaouchi', u'Algeria', u'goalkeeper', 90, 0, 17, 0, 2)]"
      ]
     },
     "execution_count": 45,
     "metadata": {},
     "output_type": "execute_result"
    }
   ],
   "source": [
    "%%sql\n",
    "select * from Players limit 5"
   ]
  },
  {
   "cell_type": "code",
   "execution_count": 46,
   "metadata": {},
   "outputs": [
    {
     "name": "stdout",
     "output_type": "stream",
     "text": [
      " * sqlite://\n",
      "Done.\n"
     ]
    },
    {
     "data": {
      "text/html": [
       "<table>\n",
       "    <tr>\n",
       "        <th>team</th>\n",
       "        <th>ranking</th>\n",
       "        <th>games</th>\n",
       "        <th>wins</th>\n",
       "        <th>draws</th>\n",
       "        <th>losses</th>\n",
       "        <th>goalsFor</th>\n",
       "        <th>goalsAgainst</th>\n",
       "        <th>yellowCards</th>\n",
       "        <th>redCards</th>\n",
       "    </tr>\n",
       "    <tr>\n",
       "        <td>Brazil</td>\n",
       "        <td>1</td>\n",
       "        <td>5</td>\n",
       "        <td>3</td>\n",
       "        <td>1</td>\n",
       "        <td>1</td>\n",
       "        <td>9</td>\n",
       "        <td>4</td>\n",
       "        <td>7</td>\n",
       "        <td>2</td>\n",
       "    </tr>\n",
       "    <tr>\n",
       "        <td>Spain</td>\n",
       "        <td>2</td>\n",
       "        <td>6</td>\n",
       "        <td>5</td>\n",
       "        <td>0</td>\n",
       "        <td>1</td>\n",
       "        <td>7</td>\n",
       "        <td>2</td>\n",
       "        <td>3</td>\n",
       "        <td>0</td>\n",
       "    </tr>\n",
       "    <tr>\n",
       "        <td>Portugal</td>\n",
       "        <td>3</td>\n",
       "        <td>4</td>\n",
       "        <td>1</td>\n",
       "        <td>2</td>\n",
       "        <td>1</td>\n",
       "        <td>7</td>\n",
       "        <td>1</td>\n",
       "        <td>8</td>\n",
       "        <td>1</td>\n",
       "    </tr>\n",
       "    <tr>\n",
       "        <td>Netherlands</td>\n",
       "        <td>4</td>\n",
       "        <td>6</td>\n",
       "        <td>6</td>\n",
       "        <td>0</td>\n",
       "        <td>0</td>\n",
       "        <td>12</td>\n",
       "        <td>5</td>\n",
       "        <td>15</td>\n",
       "        <td>0</td>\n",
       "    </tr>\n",
       "    <tr>\n",
       "        <td>Italy</td>\n",
       "        <td>5</td>\n",
       "        <td>3</td>\n",
       "        <td>0</td>\n",
       "        <td>2</td>\n",
       "        <td>1</td>\n",
       "        <td>4</td>\n",
       "        <td>5</td>\n",
       "        <td>5</td>\n",
       "        <td>0</td>\n",
       "    </tr>\n",
       "</table>"
      ],
      "text/plain": [
       "[(u'Brazil', 1, 5, 3, 1, 1, 9, 4, 7, 2),\n",
       " (u'Spain', 2, 6, 5, 0, 1, 7, 2, 3, 0),\n",
       " (u'Portugal', 3, 4, 1, 2, 1, 7, 1, 8, 1),\n",
       " (u'Netherlands', 4, 6, 6, 0, 0, 12, 5, 15, 0),\n",
       " (u'Italy', 5, 3, 0, 2, 1, 4, 5, 5, 0)]"
      ]
     },
     "execution_count": 46,
     "metadata": {},
     "output_type": "execute_result"
    }
   ],
   "source": [
    "%%sql\n",
    "select * from Teams limit 5"
   ]
  },
  {
   "cell_type": "markdown",
   "metadata": {
    "collapsed": true
   },
   "source": [
    "*1) Find all pairs of teams who have the same number of goalsFor as\n",
    "each other and the same number of goalsAgainst as each other.\n",
    "Return the teams and numbers of goalsFor and goalsAgainst.\n",
    "Make sure to return each pair only once.*"
   ]
  },
  {
   "cell_type": "code",
   "execution_count": 47,
   "metadata": {},
   "outputs": [
    {
     "name": "stdout",
     "output_type": "stream",
     "text": [
      " * sqlite://\n",
      "(sqlite3.OperationalError) near \"FILL\": syntax error [SQL: u'FILL IN QUERY HERE']\n"
     ]
    }
   ],
   "source": [
    "%%sql\n",
    "FILL IN QUERY HERE"
   ]
  },
  {
   "cell_type": "markdown",
   "metadata": {
    "collapsed": true
   },
   "source": [
    "*2) Find all teams with ranking <30 where no player made more than 150 passes. Return the team and ranking.*"
   ]
  },
  {
   "cell_type": "code",
   "execution_count": 48,
   "metadata": {},
   "outputs": [
    {
     "name": "stdout",
     "output_type": "stream",
     "text": [
      " * sqlite://\n",
      "(sqlite3.OperationalError) near \"FILL\": syntax error [SQL: u'FILL IN QUERY HERE']\n"
     ]
    }
   ],
   "source": [
    "%%sql\n",
    "FILL IN QUERY HERE"
   ]
  },
  {
   "cell_type": "markdown",
   "metadata": {
    "collapsed": true
   },
   "source": [
    "*3) Which team has the highest ratio of goalsFor to goalsAgainst?*"
   ]
  },
  {
   "cell_type": "code",
   "execution_count": 49,
   "metadata": {},
   "outputs": [
    {
     "name": "stdout",
     "output_type": "stream",
     "text": [
      " * sqlite://\n",
      "(sqlite3.OperationalError) near \"FILL\": syntax error [SQL: u'FILL IN QUERY HERE']\n"
     ]
    }
   ],
   "source": [
    "%%sql\n",
    "FILL IN QUERY HERE"
   ]
  },
  {
   "cell_type": "markdown",
   "metadata": {
    "collapsed": true
   },
   "source": [
    "*4) Find all team-position pairs where the average number of passes made by players in that position on that team is greater than 150. Return the team-position pairs.*"
   ]
  },
  {
   "cell_type": "code",
   "execution_count": 50,
   "metadata": {},
   "outputs": [
    {
     "name": "stdout",
     "output_type": "stream",
     "text": [
      " * sqlite://\n",
      "(sqlite3.OperationalError) near \"FILL\": syntax error [SQL: u'FILL IN QUERY HERE']\n"
     ]
    }
   ],
   "source": [
    "%%sql\n",
    "FILL IN QUERY HERE"
   ]
  },
  {
   "cell_type": "markdown",
   "metadata": {
    "collapsed": true
   },
   "source": [
    "*5) Find all teams whose defenders averaged more than 150 passes. Return the team and average number of passes by defenders, in descending order of average passes.*"
   ]
  },
  {
   "cell_type": "code",
   "execution_count": 51,
   "metadata": {},
   "outputs": [
    {
     "name": "stdout",
     "output_type": "stream",
     "text": [
      " * sqlite://\n",
      "(sqlite3.OperationalError) near \"FILL\": syntax error [SQL: u'FILL IN QUERY HERE']\n"
     ]
    }
   ],
   "source": [
    "%%sql\n",
    "FILL IN QUERY HERE"
   ]
  }
 ],
 "metadata": {
  "kernelspec": {
   "display_name": "Python 2",
   "language": "python",
   "name": "python2"
  },
  "language_info": {
   "codemirror_mode": {
    "name": "ipython",
    "version": 2
   },
   "file_extension": ".py",
   "mimetype": "text/x-python",
   "name": "python",
   "nbconvert_exporter": "python",
   "pygments_lexer": "ipython2",
   "version": "2.7.14"
  }
 },
 "nbformat": 4,
 "nbformat_minor": 1
}

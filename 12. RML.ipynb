{
 "cells": [
  {
   "cell_type": "markdown",
   "metadata": {},
   "source": [
    "### Using R for Machine Learning"
   ]
  },
  {
   "cell_type": "code",
   "execution_count": null,
   "metadata": {},
   "outputs": [],
   "source": [
    "%load_ext rpy2.ipython"
   ]
  },
  {
   "cell_type": "code",
   "execution_count": null,
   "metadata": {},
   "outputs": [],
   "source": [
    "# For compatibility across multiple platforms\n",
    "import os\n",
    "IB = os.environ.get('INSTABASE_URI',None) is not None\n",
    "open = ib.open if IB else open"
   ]
  },
  {
   "cell_type": "code",
   "execution_count": null,
   "metadata": {},
   "outputs": [],
   "source": [
    "%%R\n",
    "library(class)\n",
    "library(rpart)\n",
    "library(randomForest)\n",
    "library(e1071) # for NaiveBayes"
   ]
  },
  {
   "cell_type": "markdown",
   "metadata": {},
   "source": [
    "#### Open CSV files and load data into data frames"
   ]
  },
  {
   "cell_type": "code",
   "execution_count": null,
   "metadata": {},
   "outputs": [],
   "source": [
    "C = open('Cities.csv').read()\n",
    "P = open('Players.csv').read()"
   ]
  },
  {
   "cell_type": "code",
   "execution_count": null,
   "metadata": {},
   "outputs": [],
   "source": [
    "%%R -i C -i P\n",
    "cities <- read.csv(text=C)\n",
    "players <- read.csv(text=P)"
   ]
  },
  {
   "cell_type": "markdown",
   "metadata": {},
   "source": [
    "### Regression"
   ]
  },
  {
   "cell_type": "code",
   "execution_count": null,
   "metadata": {},
   "outputs": [],
   "source": [
    "%%R\n",
    "# Linear regression for temperature versus latitude\n",
    "reg <- lm(cities$temperature~cities$latitude)\n",
    "plot(cities$latitude, cities$temperature, xlab='latitude', ylab='temperature',\n",
    "     col='blue', pch=16)\n",
    "abline(reg, col='red')"
   ]
  },
  {
   "cell_type": "code",
   "execution_count": null,
   "metadata": {
    "scrolled": true
   },
   "outputs": [],
   "source": [
    "%%R\n",
    "# Correlation coefficient (r value) for temperature versus latitude\n",
    "rvalue <- cor(cities$latitude, cities$temperature)\n",
    "print(rvalue)"
   ]
  },
  {
   "cell_type": "markdown",
   "metadata": {},
   "source": [
    "### Classification set-up"
   ]
  },
  {
   "cell_type": "code",
   "execution_count": null,
   "metadata": {},
   "outputs": [],
   "source": [
    "%%R\n",
    "# Add temperature category column to cities data\n",
    "for (i in 1:nrow(cities))\n",
    "{ if (cities[i,'temperature'] < 5) cities[i,'category'] <- 'cold'\n",
    "  else if (cities[i,'temperature'] < 9) cities[i,'category'] <- 'cool'\n",
    "  else if (cities[i,'temperature'] < 15) cities[i,'category'] <- 'warm'\n",
    "  else cities[i,'category'] <- 'hot'\n",
    "}\n",
    "cat('cold', nrow(cities[cities$category == 'cold', ]), '\\n')\n",
    "cat('cool', nrow(cities[cities$category == 'cool', ]), '\\n')\n",
    "cat('warm', nrow(cities[cities$category == 'warm', ]), '\\n')\n",
    "cat('hot', nrow(cities[cities$category == 'hot', ]), '\\n')"
   ]
  },
  {
   "cell_type": "code",
   "execution_count": null,
   "metadata": {},
   "outputs": [],
   "source": [
    "%%R\n",
    "# Create training and test sets for cities data\n",
    "numitems <- nrow(cities)\n",
    "percenttrain <- 0.85\n",
    "numtrain <- round(numitems*percenttrain)\n",
    "numtest <- numitems - numtrain\n",
    "cat('Training set', numtrain, 'items\\n')\n",
    "cat('Test set', numtest, 'items\\n')\n",
    "citiesTrain <- cities[0:numtrain, ]\n",
    "citiesTest <- cities[numtrain:numitems, ]"
   ]
  },
  {
   "cell_type": "code",
   "execution_count": null,
   "metadata": {},
   "outputs": [],
   "source": [
    "%%R\n",
    "# Create training and test sets for players data - reorder first to avoid team bias\n",
    "numitems <- nrow(players)\n",
    "percenttrain <- 0.95\n",
    "numtrain <- round(numitems*percenttrain)\n",
    "numtest <- numitems - numtrain\n",
    "cat('Training set', numtrain, 'items\\n')\n",
    "cat('Test set', numtest, 'items\\n')\n",
    "players <- players[order(players$surname), ]\n",
    "playersTrain <- players[0:numtrain, ]\n",
    "playersTest <- players[numtrain:numitems, ]"
   ]
  },
  {
   "cell_type": "markdown",
   "metadata": {},
   "source": [
    "### K-nearest-neighbors classification"
   ]
  },
  {
   "cell_type": "code",
   "execution_count": null,
   "metadata": {},
   "outputs": [],
   "source": [
    "%%R\n",
    "# Predict temperature category from other features\n",
    "# Note ties are broken at random so different runs may get different results\n",
    "features <- c('longitude','latitude')\n",
    "neighbors <- 8\n",
    "# data.frame coercion needed to allow single feature\n",
    "train <- data.frame(citiesTrain[, features])\n",
    "test <- data.frame(citiesTest[, features])\n",
    "labels <- citiesTrain[, 'category']\n",
    "predictions <- knn(train, test, labels, neighbors)\n",
    "# Calculate accuracy\n",
    "numtrain <- nrow(citiesTrain)\n",
    "numtest <- nrow(citiesTest)\n",
    "correct <- 0\n",
    "for(i in 1:numtest) {\n",
    "    # as.character coercion needed to convert factors to values\n",
    "    cat('Predicted:', as.character(predictions[i]),\n",
    "        ' Actual:', as.character(citiesTest[i,'category']), '\\n');\n",
    "    if (predictions[i] == citiesTest[i,'category']) correct <- correct + 1\n",
    "}\n",
    "cat('Accuracy:', correct/numtest)\n",
    "# Comment out cat, play with other values for neighbors, try 'temperature'\n",
    "# as feature"
   ]
  },
  {
   "cell_type": "markdown",
   "metadata": {},
   "source": [
    "### <font color=\"green\">Your Turn: K-nearest neighbors on World Cup Data</font>"
   ]
  },
  {
   "cell_type": "code",
   "execution_count": null,
   "metadata": {},
   "outputs": [],
   "source": [
    "%%R\n",
    "# Predict position from one or more of minutes, shots, passes, tackles, saves\n",
    "# Try different features and different numbers of neighbors\n",
    "# What's the highest accuracy you can get?\n",
    "# Note ties are broken at random so different runs may get different results\n",
    "features <- c('minutes', 'shots', 'passes', 'tackles', 'saves')\n",
    "neighbors <- 8\n",
    "train <- data.frame(playersTrain[, features])\n",
    "test <- data.frame(playersTest[, features])\n",
    "labels <- playersTrain[, 'position']\n",
    "predictions <- knn(train, test, labels, neighbors)\n",
    "# Calculate accuracy\n",
    "numtrain <- nrow(playersTrain)\n",
    "numtest <- nrow(playersTest)\n",
    "correct <- 0\n",
    "for(i in 1:numtest) {\n",
    "#    cat('Predicted:', as.character(predictions[i]),\n",
    "#        ' Actual:', as.character(playersTest[i,'position']), '\\n');\n",
    "    if (predictions[i] == playersTest[i,'position']) correct <- correct + 1\n",
    "}\n",
    "cat('Accuracy:', correct/numtest)"
   ]
  },
  {
   "cell_type": "markdown",
   "metadata": {},
   "source": [
    "### Decision tree classification"
   ]
  },
  {
   "cell_type": "code",
   "execution_count": null,
   "metadata": {},
   "outputs": [],
   "source": [
    "%%R\n",
    "# Predict temperature category from other features\n",
    "# minsplit: minimum number of observations needed for node split\n",
    "# minbucket: minimum number of observations in leaf node (default minsplit/3)\n",
    "features <- c('longitude','latitude')\n",
    "# data.frame coercion and column naming needed to allow single feature:\n",
    "train <- data.frame(citiesTrain[, features])\n",
    "test <- data.frame(citiesTest[, features])\n",
    "colnames(train) <- features\n",
    "colnames(test) <- features\n",
    "tree <- rpart(citiesTrain[ , 'category']~., train, minsplit=20, minbucket=5)\n",
    "predictions <- predict(tree, test, type=\"class\")\n",
    "# Calculate accuracy\n",
    "numtrain <- nrow(citiesTrain)\n",
    "numtest <- nrow(citiesTest)\n",
    "correct <- 0\n",
    "for(i in 1:numtest) {\n",
    "    cat('Predicted:', as.character(predictions[i]),\n",
    "        ' Actual:', as.character(citiesTest[i,'category']), '\\n');\n",
    "    if (predictions[i] == citiesTest[i,'category']) correct <- correct + 1\n",
    "}\n",
    "cat('Accuracy:', correct/numtest)\n",
    "# Comment out cat, play with other values for minsplit, minbucket\n",
    "# Try 'temperature' as feature"
   ]
  },
  {
   "cell_type": "markdown",
   "metadata": {},
   "source": [
    "### \"Forest\" of decision trees"
   ]
  },
  {
   "cell_type": "code",
   "execution_count": null,
   "metadata": {},
   "outputs": [],
   "source": [
    "%%R\n",
    "# Predict temperature category from other features\n",
    "# ntree: number of trees in forest\n",
    "features <- c('longitude','latitude')\n",
    "# data.frame coercion and column naming needed to allow single feature:\n",
    "train <- data.frame(citiesTrain[, features])\n",
    "test <- data.frame(citiesTest[, features])\n",
    "colnames(train) <- features\n",
    "colnames(test) <- features\n",
    "forest <- randomForest(as.factor(citiesTrain[ , 'category'])~., train, ntree=10)\n",
    "predictions <- predict(forest, test)\n",
    "# Calculate accuracy\n",
    "numtrain <- nrow(citiesTrain)\n",
    "numtest <- nrow(citiesTest)\n",
    "correct <- 0\n",
    "for(i in 1:numtest) {\n",
    "#    cat('Predicted:', as.character(predictions[i]),\n",
    "#        ' Actual:', as.character(citiesTest[i,'category']), '\\n');\n",
    "    if (predictions[i] == citiesTest[i,'category']) correct <- correct + 1\n",
    "}\n",
    "cat('Accuracy:', correct/numtest)\n",
    "# Play with other values for ntree, try 'temperature' as feature"
   ]
  },
  {
   "cell_type": "markdown",
   "metadata": {},
   "source": [
    "### <font color=\"green\">Your Turn: Decision tree and forest of trees on World Cup Data</font>"
   ]
  },
  {
   "cell_type": "code",
   "execution_count": null,
   "metadata": {},
   "outputs": [],
   "source": [
    "%%R\n",
    "# SINGLE TREE\n",
    "# Predict position from one or more of minutes, shots, passes, tackles, saves\n",
    "# Try different features and different values for minsplit and minbucket\n",
    "# What's the highest accuracy you can get?\n",
    "features <- c('minutes', 'shots', 'passes', 'tackles', 'saves')\n",
    "train <- data.frame(playersTrain[, features])\n",
    "test <- data.frame(playersTest[, features])\n",
    "colnames(train) <- features\n",
    "colnames(test) <- features\n",
    "tree <- rpart(playersTrain[ , 'position']~., train, minsplit=20, minbucket=5)\n",
    "predictions <- predict(tree, test, type=\"class\")\n",
    "# Calculate accuracy\n",
    "numtrain <- nrow(playersTrain)\n",
    "numtest <- nrow(playersTest)\n",
    "correct <- 0\n",
    "for(i in 1:numtest) {\n",
    "#    cat('Predicted:', as.character(predictions[i]),\n",
    "#        ' Actual:', as.character(playersTest[i,'position']), '\\n');\n",
    "    if (predictions[i] == playersTest[i,'position']) correct <- correct + 1\n",
    "}\n",
    "cat('Accuracy:', correct/numtest)"
   ]
  },
  {
   "cell_type": "code",
   "execution_count": null,
   "metadata": {},
   "outputs": [],
   "source": [
    "%%R\n",
    "# FOREST OF TREES\n",
    "# Predict position from one or more of minutes, shots, passes, tackles, saves\n",
    "# Try different features and different values for ntree\n",
    "# What's the highest accuracy you can get?\n",
    "features <- c('minutes', 'shots', 'passes', 'tackles', 'saves')\n",
    "train <- data.frame(playersTrain[, features])\n",
    "test <- data.frame(playersTest[, features])\n",
    "colnames(train) <- features\n",
    "colnames(test) <- features\n",
    "forest <- randomForest(as.factor(playersTrain[ , 'position'])~., train, ntree=10)\n",
    "predictions <- predict(forest, test)\n",
    "# Calculate accuracy\n",
    "numtrain <- nrow(playersTrain)\n",
    "numtest <- nrow(playersTest)\n",
    "correct <- 0\n",
    "for(i in 1:numtest) {\n",
    "#    cat('Predicted:', as.character(predictions[i]),\n",
    "#        ' Actual:', as.character(citiesTest[i,'category']), '\\n');\n",
    "    if (predictions[i] == playersTest[i,'position']) correct <- correct + 1\n",
    "}\n",
    "cat('Accuracy:', correct/numtest)"
   ]
  },
  {
   "cell_type": "markdown",
   "metadata": {},
   "source": [
    "### Naive Bayes Classification"
   ]
  },
  {
   "cell_type": "code",
   "execution_count": null,
   "metadata": {},
   "outputs": [],
   "source": [
    "%%R\n",
    "# Predict temperature category from other features\n",
    "features <- c('longitude', 'latitude')\n",
    "# data.frame coercion and column naming needed to allow single feature:\n",
    "train <- data.frame(citiesTrain[, features])\n",
    "test <- data.frame(citiesTest[, features])\n",
    "colnames(train) <- features\n",
    "colnames(test) <- features\n",
    "model <- naiveBayes(train, as.factor(citiesTrain[, 'category']))\n",
    "predictions <- predict(model, test)\n",
    "# Calculate accuracy\n",
    "numtrain <- nrow(citiesTrain)\n",
    "numtest <- nrow(citiesTest)\n",
    "correct <- 0\n",
    "for(i in 1:numtest) {\n",
    "    cat('Predicted:', as.character(predictions[i]),\n",
    "        ' Actual:', as.character(citiesTest[i,'category']), '\\n');\n",
    "    if (predictions[i] == citiesTest[i,'category']) correct <- correct + 1\n",
    "}\n",
    "cat('Accuracy:', correct/numtest)\n",
    "# Comment out cat, try different features\n",
    "# Add print(model), look at tables"
   ]
  },
  {
   "cell_type": "markdown",
   "metadata": {},
   "source": [
    "### <font color=\"green\">Your Turn: Naive Bayes on World Cup Data</font>"
   ]
  },
  {
   "cell_type": "code",
   "execution_count": null,
   "metadata": {},
   "outputs": [],
   "source": [
    "%%R\n",
    "# Predict position from one or more of minutes, shots, passes, tackles, saves\n",
    "# Try different features\n",
    "# What's the highest accuracy you can get?\n",
    "features <- c('minutes', 'shots', 'passes', 'tackles', 'saves')\n",
    "train <- data.frame(playersTrain[, features])\n",
    "test <- data.frame(playersTest[, features])\n",
    "colnames(train) <- features\n",
    "colnames(test) <- features\n",
    "model <- naiveBayes(train, as.factor(playersTrain[, 'position']))\n",
    "# print(model)\n",
    "predictions <- predict(model, test)\n",
    "# Calculate accuracy\n",
    "numtrain <- nrow(playersTrain)\n",
    "numtest <- nrow(playersTest)\n",
    "correct <- 0\n",
    "for(i in 1:numtest) {\n",
    "#    cat('Predicted:', as.character(predictions[i]),\n",
    "#        ' Actual:', as.character(playersTest[i,'position']), '\\n');\n",
    "    if (predictions[i] == playersTest[i,'position']) correct <- correct + 1\n",
    "}\n",
    "cat('Accuracy:', correct/numtest)"
   ]
  },
  {
   "cell_type": "markdown",
   "metadata": {},
   "source": [
    "### Clustering"
   ]
  },
  {
   "cell_type": "code",
   "execution_count": null,
   "metadata": {},
   "outputs": [],
   "source": [
    "%%R\n",
    "# K-means clustering of Cities data based on longitude-latitude\n",
    "numclusters = 5\n",
    "clus <- kmeans(cities[, c('longitude','latitude')], numclusters)\n",
    "plot(cities$longitude, cities$latitude, xlab='longitude', ylab='latitude',\n",
    "     col=clus$cluster, pch=16)\n",
    "# Try different values for numclusters (K)"
   ]
  },
  {
   "cell_type": "code",
   "execution_count": null,
   "metadata": {},
   "outputs": [],
   "source": [
    "%%R\n",
    "# Now with centroids\n",
    "numclusters = 5\n",
    "clus <- kmeans(cities[, c('longitude','latitude')], numclusters)\n",
    "plot(cities$longitude, cities$latitude, xlab='longitude', ylab='latitude',\n",
    "     col=clus$cluster, pch=16)\n",
    "points(clus$centers, pch=8, cex=2)"
   ]
  },
  {
   "cell_type": "code",
   "execution_count": null,
   "metadata": {},
   "outputs": [],
   "source": [
    "%%R\n",
    "# K-means clustering of Cities data based on temperature\n",
    "numclusters = 5\n",
    "clus <- kmeans(cities[, 'temperature'], numclusters)\n",
    "plot(cities$longitude, cities$latitude, xlab='longitude', ylab='latitude',\n",
    "     col=clus$cluster, pch=16)\n",
    "# print(clus$centers)\n",
    "# uncomment to show cluster centers"
   ]
  },
  {
   "cell_type": "markdown",
   "metadata": {},
   "source": [
    "### <font color=\"green\">Your Turn: Clustering on World Cup Data</font>"
   ]
  },
  {
   "cell_type": "code",
   "execution_count": null,
   "metadata": {},
   "outputs": [],
   "source": [
    "%%R\n",
    "# Create a clustering from the Players data and show it\n",
    "# visually in a scatterplot. No need for centroids.\n",
    "YOUR CODE HERE"
   ]
  }
 ],
 "metadata": {
  "kernelspec": {
   "display_name": "Python 2",
   "language": "python",
   "name": "python2"
  },
  "language_info": {
   "codemirror_mode": {
    "name": "ipython",
    "version": 2
   },
   "file_extension": ".py",
   "mimetype": "text/x-python",
   "name": "python",
   "nbconvert_exporter": "python",
   "pygments_lexer": "ipython2",
   "version": "2.7.14"
  }
 },
 "nbformat": 4,
 "nbformat_minor": 1
}
